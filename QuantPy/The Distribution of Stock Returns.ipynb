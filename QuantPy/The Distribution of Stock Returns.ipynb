{
 "cells": [
  {
   "cell_type": "markdown",
   "id": "576a14d8",
   "metadata": {},
   "source": [
    "# Simple vs Log Returns and Normality Assumption\n",
    "\n",
    "We will be looking at the difference between simple returns and log returns\n",
    "\n",
    "\n",
    "Motivation: \n",
    "    \n",
    "        - Simple returns:  The product of normally distributed variables is NOT normally distributed\n",
    "        \n",
    "        - Log returns:  The sum of normally distributed variables DOES follow a normal distribution\n",
    "        \n",
    "Later we will see why we have product or sum of returns!\n"
   ]
  },
  {
   "cell_type": "code",
   "execution_count": 1,
   "id": "eb4a0a55",
   "metadata": {},
   "outputs": [
    {
     "data": {
      "text/html": [
       "        <script type=\"text/javascript\">\n",
       "        window.PlotlyConfig = {MathJaxConfig: 'local'};\n",
       "        if (window.MathJax && window.MathJax.Hub && window.MathJax.Hub.Config) {window.MathJax.Hub.Config({SVG: {font: \"STIX-Web\"}});}\n",
       "        if (typeof require !== 'undefined') {\n",
       "        require.undef(\"plotly\");\n",
       "        requirejs.config({\n",
       "            paths: {\n",
       "                'plotly': ['https://cdn.plot.ly/plotly-2.24.1.min']\n",
       "            }\n",
       "        });\n",
       "        require(['plotly'], function(Plotly) {\n",
       "            window._Plotly = Plotly;\n",
       "        });\n",
       "        }\n",
       "        </script>\n",
       "        "
      ]
     },
     "metadata": {},
     "output_type": "display_data"
    }
   ],
   "source": [
    "import datetime as dt\n",
    "import pandas as pd\n",
    "import numpy as np\n",
    "import pylab\n",
    "import seaborn as sns\n",
    "import scipy.stats as stats\n",
    "import yfinance as yf\n",
    "\n",
    "from pandas_datareader import data as pdr\n",
    "import plotly.offline as pyo\n",
    "pyo.init_notebook_mode(connected=True)\n",
    "pd.options.plotting.backend = 'plotly'"
   ]
  },
  {
   "cell_type": "code",
   "execution_count": 2,
   "id": "99ed13d5",
   "metadata": {},
   "outputs": [
    {
     "name": "stdout",
     "output_type": "stream",
     "text": [
      "[*********************100%***********************]  1 of 1 completed\n"
     ]
    },
    {
     "data": {
      "text/html": [
       "<div>\n",
       "<style scoped>\n",
       "    .dataframe tbody tr th:only-of-type {\n",
       "        vertical-align: middle;\n",
       "    }\n",
       "\n",
       "    .dataframe tbody tr th {\n",
       "        vertical-align: top;\n",
       "    }\n",
       "\n",
       "    .dataframe thead th {\n",
       "        text-align: right;\n",
       "    }\n",
       "</style>\n",
       "<table border=\"1\" class=\"dataframe\">\n",
       "  <thead>\n",
       "    <tr style=\"text-align: right;\">\n",
       "      <th></th>\n",
       "      <th>Open</th>\n",
       "      <th>High</th>\n",
       "      <th>Low</th>\n",
       "      <th>Close</th>\n",
       "      <th>Adj Close</th>\n",
       "      <th>Volume</th>\n",
       "    </tr>\n",
       "    <tr>\n",
       "      <th>Date</th>\n",
       "      <th></th>\n",
       "      <th></th>\n",
       "      <th></th>\n",
       "      <th></th>\n",
       "      <th></th>\n",
       "      <th></th>\n",
       "    </tr>\n",
       "  </thead>\n",
       "  <tbody>\n",
       "    <tr>\n",
       "      <th>2020-01-02</th>\n",
       "      <td>28.299999</td>\n",
       "      <td>28.713333</td>\n",
       "      <td>28.114000</td>\n",
       "      <td>28.684000</td>\n",
       "      <td>28.684000</td>\n",
       "      <td>142981500</td>\n",
       "    </tr>\n",
       "    <tr>\n",
       "      <th>2020-01-03</th>\n",
       "      <td>29.366667</td>\n",
       "      <td>30.266666</td>\n",
       "      <td>29.128000</td>\n",
       "      <td>29.534000</td>\n",
       "      <td>29.534000</td>\n",
       "      <td>266677500</td>\n",
       "    </tr>\n",
       "    <tr>\n",
       "      <th>2020-01-06</th>\n",
       "      <td>29.364668</td>\n",
       "      <td>30.104000</td>\n",
       "      <td>29.333332</td>\n",
       "      <td>30.102667</td>\n",
       "      <td>30.102667</td>\n",
       "      <td>151995000</td>\n",
       "    </tr>\n",
       "    <tr>\n",
       "      <th>2020-01-07</th>\n",
       "      <td>30.760000</td>\n",
       "      <td>31.441999</td>\n",
       "      <td>30.224001</td>\n",
       "      <td>31.270666</td>\n",
       "      <td>31.270666</td>\n",
       "      <td>268231500</td>\n",
       "    </tr>\n",
       "    <tr>\n",
       "      <th>2020-01-08</th>\n",
       "      <td>31.580000</td>\n",
       "      <td>33.232666</td>\n",
       "      <td>31.215334</td>\n",
       "      <td>32.809334</td>\n",
       "      <td>32.809334</td>\n",
       "      <td>467164500</td>\n",
       "    </tr>\n",
       "  </tbody>\n",
       "</table>\n",
       "</div>"
      ],
      "text/plain": [
       "                 Open       High        Low      Close  Adj Close     Volume\n",
       "Date                                                                        \n",
       "2020-01-02  28.299999  28.713333  28.114000  28.684000  28.684000  142981500\n",
       "2020-01-03  29.366667  30.266666  29.128000  29.534000  29.534000  266677500\n",
       "2020-01-06  29.364668  30.104000  29.333332  30.102667  30.102667  151995000\n",
       "2020-01-07  30.760000  31.441999  30.224001  31.270666  31.270666  268231500\n",
       "2020-01-08  31.580000  33.232666  31.215334  32.809334  32.809334  467164500"
      ]
     },
     "execution_count": 2,
     "metadata": {},
     "output_type": "execute_result"
    }
   ],
   "source": [
    "end = dt.datetime.now()\n",
    "start = dt.datetime(2020, 1, 1)\n",
    "\n",
    "yf.pdr_override()\n",
    "df = pdr.get_data_yahoo('TSLA', start, end)\n",
    "\n",
    "df.head()"
   ]
  },
  {
   "cell_type": "markdown",
   "id": "37a37f27",
   "metadata": {},
   "source": [
    "# Simple Returns\n",
    "**For one period**\n"
   ]
  },
  {
   "attachments": {
    "image.png": {
     "image/png": "[encoded data removed]"
    }
   },
   "cell_type": "markdown",
   "id": "3a64730f",
   "metadata": {},
   "source": [
    "![image.png](attachment:image.png)"
   ]
  },
  {
   "cell_type": "code",
   "execution_count": 3,
   "id": "6ac80b91",
   "metadata": {},
   "outputs": [
    {
     "data": {
      "text/plain": [
       "Date\n",
       "2020-01-02         NaN\n",
       "2020-01-03    0.029633\n",
       "2020-01-06    0.019255\n",
       "2020-01-07    0.038801\n",
       "2020-01-08    0.049205\n",
       "                ...   \n",
       "2023-07-24    0.034767\n",
       "2023-07-25   -0.014049\n",
       "2023-07-26   -0.003506\n",
       "2023-07-27   -0.032684\n",
       "2023-07-28    0.041316\n",
       "Name: Close, Length: 899, dtype: float64"
      ]
     },
     "execution_count": 3,
     "metadata": {},
     "output_type": "execute_result"
    }
   ],
   "source": [
    "simple_returns = df.Close.pct_change()\n",
    "simple_returns"
   ]
  },
  {
   "cell_type": "code",
   "execution_count": 4,
   "id": "6e6cee80",
   "metadata": {},
   "outputs": [
    {
     "data": {
      "text/plain": [
       "Date\n",
       "2020-01-03    0.029633\n",
       "2020-01-06    0.019255\n",
       "2020-01-07    0.038801\n",
       "2020-01-08    0.049205\n",
       "2020-01-09   -0.021945\n",
       "                ...   \n",
       "2023-07-24    0.034767\n",
       "2023-07-25   -0.014049\n",
       "2023-07-26   -0.003506\n",
       "2023-07-27   -0.032684\n",
       "2023-07-28    0.041316\n",
       "Name: Close, Length: 898, dtype: float64"
      ]
     },
     "execution_count": 4,
     "metadata": {},
     "output_type": "execute_result"
    }
   ],
   "source": [
    "simple_returns.dropna()  # Due to formula, we cant have day 0 return ..."
   ]
  },
  {
   "cell_type": "markdown",
   "id": "d1a17716",
   "metadata": {},
   "source": [
    "#### To compute the return across multiple days (return singular) \n",
    "    \n",
    "   It is called multi-period return:\n",
    "    \n",
    "          We have to multiply the different returns for each day to get the sum of returns over that period.\n",
    "    "
   ]
  },
  {
   "attachments": {
    "image.png": {
     "image/png": "[encoded data removed]"
    }
   },
   "cell_type": "markdown",
   "id": "66f40fc8",
   "metadata": {},
   "source": [
    "![image.png](attachment:image.png)\n",
    "\n",
    "This is where the product comes from"
   ]
  },
  {
   "cell_type": "code",
   "execution_count": 5,
   "id": "0ab2488e",
   "metadata": {},
   "outputs": [
    {
     "data": {
      "application/vnd.plotly.v1+json": {
       "config": {
        "plotlyServerURL": "https://plot.ly"
       },
       "data": [
        {
         "hovertemplate": "variable=Close<br>Date=%{x}<br>value=%{y}<extra></extra>",
         "legendgroup": "Close",
         "line": {
          "color": "#636efa",
          "dash": "solid"
         },
         "marker": {
          "symbol": "circle"
         },
         "mode": "lines",
         "name": "Close",
         "orientation": "v",
         "showlegend": true,
         "type": "scatter",
         "x": [
          "2020-01-02T00:00:00",
          "2020-01-03T00:00:00",
          "2020-01-06T00:00:00",
          "2020-01-07T00:00:00",
          "2020-01-08T00:00:00",
          "2020-01-09T00:00:00",
          "2020-01-10T00:00:00",
          "2020-01-13T00:00:00",
          "2020-01-14T00:00:00",
          "2020-01-15T00:00:00",
          "2020-01-16T00:00:00",
          "2020-01-17T00:00:00",
          "2020-01-21T00:00:00",
          "2020-01-22T00:00:00",
          "2020-01-23T00:00:00",
          "2020-01-24T00:00:00",
          "2020-01-27T00:00:00",
          "2020-01-28T00:00:00",
          "2020-01-29T00:00:00",
          "2020-01-30T00:00:00",
          "2020-01-31T00:00:00",
          "2020-02-03T00:00:00",
          "2020-02-04T00:00:00",
          "2020-02-05T00:00:00",
          "2020-02-06T00:00:00",
          "2020-02-07T00:00:00",
          "2020-02-10T00:00:00",
          "2020-02-11T00:00:00",
          "2020-02-12T00:00:00",
          "2020-02-13T00:00:00",
          "2020-02-14T00:00:00",
          "2020-02-18T00:00:00",
          "2020-02-19T00:00:00",
          "2020-02-20T00:00:00",
          "2020-02-21T00:00:00",
          "2020-02-24T00:00:00",
          "2020-02-25T00:00:00",
          "2020-02-26T00:00:00",
          "2020-02-27T00:00:00",
          "2020-02-28T00:00:00",
          "2020-03-02T00:00:00",
          "2020-03-03T00:00:00",
          "2020-03-04T00:00:00",
          "2020-03-05T00:00:00",
          "2020-03-06T00:00:00",
          "2020-03-09T00:00:00",
          "2020-03-10T00:00:00",
          "2020-03-11T00:00:00",
          "2020-03-12T00:00:00",
          "2020-03-13T00:00:00",
          "2020-03-16T00:00:00",
          "2020-03-17T00:00:00",
          "2020-03-18T00:00:00",
          "2020-03-19T00:00:00",
          "2020-03-20T00:00:00",
          "2020-03-23T00:00:00",
          "2020-03-24T00:00:00",
          "2020-03-25T00:00:00",
          "2020-03-26T00:00:00",
          "2020-03-27T00:00:00",
          "2020-03-30T00:00:00",
          "2020-03-31T00:00:00",
          "2020-04-01T00:00:00",
          "2020-04-02T00:00:00",
          "2020-04-03T00:00:00",
          "2020-04-06T00:00:00",
          "2020-04-07T00:00:00",
          "2020-04-08T00:00:00",
          "2020-04-09T00:00:00",
          "2020-04-13T00:00:00",
          "2020-04-14T00:00:00",
          "2020-04-15T00:00:00",
          "2020-04-16T00:00:00",
          "2020-04-17T00:00:00",
          "2020-04-20T00:00:00",
          "2020-04-21T00:00:00",
          "2020-04-22T00:00:00",
          "2020-04-23T00:00:00",
          "2020-04-24T00:00:00",
          "2020-04-27T00:00:00",
          "2020-04-28T00:00:00",
          "2020-04-29T00:00:00",
          "2020-04-30T00:00:00",
          "2020-05-01T00:00:00",
          "2020-05-04T00:00:00",
          "2020-05-05T00:00:00",
          "2020-05-06T00:00:00",
          "2020-05-07T00:00:00",
          "2020-05-08T00:00:00",
          "2020-05-11T00:00:00",
          "2020-05-12T00:00:00",
          "2020-05-13T00:00:00",
          "2020-05-14T00:00:00",
          "2020-05-15T00:00:00",
          "2020-05-18T00:00:00",
          "2020-05-19T00:00:00",
          "2020-05-20T00:00:00",
          "2020-05-21T00:00:00",
          "2020-05-22T00:00:00",
          "2020-05-26T00:00:00",
          "2020-05-27T00:00:00",
          "2020-05-28T00:00:00",
          "2020-05-29T00:00:00",
          "2020-06-01T00:00:00",
          "2020-06-02T00:00:00",
          "2020-06-03T00:00:00",
          "2020-06-04T00:00:00",
          "2020-06-05T00:00:00",
          "2020-06-08T00:00:00",
          "2020-06-09T00:00:00",
          "2020-06-10T00:00:00",
          "2020-06-11T00:00:00",
          "2020-06-12T00:00:00",
          "2020-06-15T00:00:00",
          "2020-06-16T00:00:00",
          "2020-06-17T00:00:00",
          "2020-06-18T00:00:00",
          "2020-06-19T00:00:00",
          "2020-06-22T00:00:00",
          "2020-06-23T00:00:00",
          "2020-06-24T00:00:00",
          "2020-06-25T00:00:00",
          "2020-06-26T00:00:00",
          "2020-06-29T00:00:00",
          "2020-06-30T00:00:00",
          "2020-07-01T00:00:00",
          "2020-07-02T00:00:00",
          "2020-07-06T00:00:00",
          "2020-07-07T00:00:00",
          "2020-07-08T00:00:00",
          "2020-07-09T00:00:00",
          "2020-07-10T00:00:00",
          "2020-07-13T00:00:00",
          "2020-07-14T00:00:00",
          "2020-07-15T00:00:00",
          "2020-07-16T00:00:00",
          "2020-07-17T00:00:00",
          "2020-07-20T00:00:00",
          "2020-07-21T00:00:00",
          "2020-07-22T00:00:00",
          "2020-07-23T00:00:00",
          "2020-07-24T00:00:00",
          "2020-07-27T00:00:00",
          "2020-07-28T00:00:00",
          "2020-07-29T00:00:00",
          "2020-07-30T00:00:00",
          "2020-07-31T00:00:00",
          "2020-08-03T00:00:00",
          "2020-08-04T00:00:00",
          "2020-08-05T00:00:00",
          "2020-08-06T00:00:00",
          "2020-08-07T00:00:00",
          "2020-08-10T00:00:00",
          "2020-08-11T00:00:00",
          "2020-08-12T00:00:00",
          "2020-08-13T00:00:00",
          "2020-08-14T00:00:00",
          "2020-08-17T00:00:00",
          "2020-08-18T00:00:00",
          "2020-08-19T00:00:00",
          "2020-08-20T00:00:00",
          "2020-08-21T00:00:00",
          "2020-08-24T00:00:00",
          "2020-08-25T00:00:00",
          "2020-08-26T00:00:00",
          "2020-08-27T00:00:00",
          "2020-08-28T00:00:00",
          "2020-08-31T00:00:00",
          "2020-09-01T00:00:00",
          "2020-09-02T00:00:00",
          "2020-09-03T00:00:00",
          "2020-09-04T00:00:00",
          "2020-09-08T00:00:00",
          "2020-09-09T00:00:00",
          "2020-09-10T00:00:00",
          "2020-09-11T00:00:00",
          "2020-09-14T00:00:00",
          "2020-09-15T00:00:00",
          "2020-09-16T00:00:00",
          "2020-09-17T00:00:00",
          "2020-09-18T00:00:00",
          "2020-09-21T00:00:00",
          "2020-09-22T00:00:00",
          "2020-09-23T00:00:00",
          "2020-09-24T00:00:00",
          "2020-09-25T00:00:00",
          "2020-09-28T00:00:00",
          "2020-09-29T00:00:00",
          "2020-09-30T00:00:00",
          "2020-10-01T00:00:00",
          "2020-10-02T00:00:00",
          "2020-10-05T00:00:00",
          "2020-10-06T00:00:00",
          "2020-10-07T00:00:00",
          "2020-10-08T00:00:00",
          "2020-10-09T00:00:00",
          "2020-10-12T00:00:00",
          "2020-10-13T00:00:00",
          "2020-10-14T00:00:00",
          "2020-10-15T00:00:00",
          "2020-10-16T00:00:00",
          "2020-10-19T00:00:00",
          "2020-10-20T00:00:00",
          "2020-10-21T00:00:00",
          "2020-10-22T00:00:00",
          "2020-10-23T00:00:00",
          "2020-10-26T00:00:00",
          "2020-10-27T00:00:00",
          "2020-10-28T00:00:00",
          "2020-10-29T00:00:00",
          "2020-10-30T00:00:00",
          "2020-11-02T00:00:00",
          "2020-11-03T00:00:00",
          "2020-11-04T00:00:00",
          "2020-11-05T00:00:00",
          "2020-11-06T00:00:00",
          "2020-11-09T00:00:00",
          "2020-11-10T00:00:00",
          "2020-11-11T00:00:00",
          "2020-11-12T00:00:00",
          "2020-11-13T00:00:00",
          "2020-11-16T00:00:00",
          "2020-11-17T00:00:00",
          "2020-11-18T00:00:00",
          "2020-11-19T00:00:00",
          "2020-11-20T00:00:00",
          "2020-11-23T00:00:00",
          "2020-11-24T00:00:00",
          "2020-11-25T00:00:00",
          "2020-11-27T00:00:00",
          "2020-11-30T00:00:00",
          "2020-12-01T00:00:00",
          "2020-12-02T00:00:00",
          "2020-12-03T00:00:00",
          "2020-12-04T00:00:00",
          "2020-12-07T00:00:00",
          "2020-12-08T00:00:00",
          "2020-12-09T00:00:00",
          "2020-12-10T00:00:00",
          "2020-12-11T00:00:00",
          "2020-12-14T00:00:00",
          "2020-12-15T00:00:00",
          "2020-12-16T00:00:00",
          "2020-12-17T00:00:00",
          "2020-12-18T00:00:00",
          "2020-12-21T00:00:00",
          "2020-12-22T00:00:00",
          "2020-12-23T00:00:00",
          "2020-12-24T00:00:00",
          "2020-12-28T00:00:00",
          "2020-12-29T00:00:00",
          "2020-12-30T00:00:00",
          "2020-12-31T00:00:00",
          "2021-01-04T00:00:00",
          "2021-01-05T00:00:00",
          "2021-01-06T00:00:00",
          "2021-01-07T00:00:00",
          "2021-01-08T00:00:00",
          "2021-01-11T00:00:00",
          "2021-01-12T00:00:00",
          "2021-01-13T00:00:00",
          "2021-01-14T00:00:00",
          "2021-01-15T00:00:00",
          "2021-01-19T00:00:00",
          "2021-01-20T00:00:00",
          "2021-01-21T00:00:00",
          "2021-01-22T00:00:00",
          "2021-01-25T00:00:00",
          "2021-01-26T00:00:00",
          "2021-01-27T00:00:00",
          "2021-01-28T00:00:00",
          "2021-01-29T00:00:00",
          "2021-02-01T00:00:00",
          "2021-02-02T00:00:00",
          "2021-02-03T00:00:00",
          "2021-02-04T00:00:00",
          "2021-02-05T00:00:00",
          "2021-02-08T00:00:00",
          "2021-02-09T00:00:00",
          "2021-02-10T00:00:00",
          "2021-02-11T00:00:00",
          "2021-02-12T00:00:00",
          "2021-02-16T00:00:00",
          "2021-02-17T00:00:00",
          "2021-02-18T00:00:00",
          "2021-02-19T00:00:00",
          "2021-02-22T00:00:00",
          "2021-02-23T00:00:00",
          "2021-02-24T00:00:00",
          "2021-02-25T00:00:00",
          "2021-02-26T00:00:00",
          "2021-03-01T00:00:00",
          "2021-03-02T00:00:00",
          "2021-03-03T00:00:00",
          "2021-03-04T00:00:00",
          "2021-03-05T00:00:00",
          "2021-03-08T00:00:00",
          "2021-03-09T00:00:00",
          "2021-03-10T00:00:00",
          "2021-03-11T00:00:00",
          "2021-03-12T00:00:00",
          "2021-03-15T00:00:00",
          "2021-03-16T00:00:00",
          "2021-03-17T00:00:00",
          "2021-03-18T00:00:00",
          "2021-03-19T00:00:00",
          "2021-03-22T00:00:00",
          "2021-03-23T00:00:00",
          "2021-03-24T00:00:00",
          "2021-03-25T00:00:00",
          "2021-03-26T00:00:00",
          "2021-03-29T00:00:00",
          "2021-03-30T00:00:00",
          "2021-03-31T00:00:00",
          "2021-04-01T00:00:00",
          "2021-04-05T00:00:00",
          "2021-04-06T00:00:00",
          "2021-04-07T00:00:00",
          "2021-04-08T00:00:00",
          "2021-04-09T00:00:00",
          "2021-04-12T00:00:00",
          "2021-04-13T00:00:00",
          "2021-04-14T00:00:00",
          "2021-04-15T00:00:00",
          "2021-04-16T00:00:00",
          "2021-04-19T00:00:00",
          "2021-04-20T00:00:00",
          "2021-04-21T00:00:00",
          "2021-04-22T00:00:00",
          "2021-04-23T00:00:00",
          "2021-04-26T00:00:00",
          "2021-04-27T00:00:00",
          "2021-04-28T00:00:00",
          "2021-04-29T00:00:00",
          "2021-04-30T00:00:00",
          "2021-05-03T00:00:00",
          "2021-05-04T00:00:00",
          "2021-05-05T00:00:00",
          "2021-05-06T00:00:00",
          "2021-05-07T00:00:00",
          "2021-05-10T00:00:00",
          "2021-05-11T00:00:00",
          "2021-05-12T00:00:00",
          "2021-05-13T00:00:00",
          "2021-05-14T00:00:00",
          "2021-05-17T00:00:00",
          "2021-05-18T00:00:00",
          "2021-05-19T00:00:00",
          "2021-05-20T00:00:00",
          "2021-05-21T00:00:00",
          "2021-05-24T00:00:00",
          "2021-05-25T00:00:00",
          "2021-05-26T00:00:00",
          "2021-05-27T00:00:00",
          "2021-05-28T00:00:00",
          "2021-06-01T00:00:00",
          "2021-06-02T00:00:00",
          "2021-06-03T00:00:00",
          "2021-06-04T00:00:00",
          "2021-06-07T00:00:00",
          "2021-06-08T00:00:00",
          "2021-06-09T00:00:00",
          "2021-06-10T00:00:00",
          "2021-06-11T00:00:00",
          "2021-06-14T00:00:00",
          "2021-06-15T00:00:00",
          "2021-06-16T00:00:00",
          "2021-06-17T00:00:00",
          "2021-06-18T00:00:00",
          "2021-06-21T00:00:00",
          "2021-06-22T00:00:00",
          "2021-06-23T00:00:00",
          "2021-06-24T00:00:00",
          "2021-06-25T00:00:00",
          "2021-06-28T00:00:00",
          "2021-06-29T00:00:00",
          "2021-06-30T00:00:00",
          "2021-07-01T00:00:00",
          "2021-07-02T00:00:00",
          "2021-07-06T00:00:00",
          "2021-07-07T00:00:00",
          "2021-07-08T00:00:00",
          "2021-07-09T00:00:00",
          "2021-07-12T00:00:00",
          "2021-07-13T00:00:00",
          "2021-07-14T00:00:00",
          "2021-07-15T00:00:00",
          "2021-07-16T00:00:00",
          "2021-07-19T00:00:00",
          "2021-07-20T00:00:00",
          "2021-07-21T00:00:00",
          "2021-07-22T00:00:00",
          "2021-07-23T00:00:00",
          "2021-07-26T00:00:00",
          "2021-07-27T00:00:00",
          "2021-07-28T00:00:00",
          "2021-07-29T00:00:00",
          "2021-07-30T00:00:00",
          "2021-08-02T00:00:00",
          "2021-08-03T00:00:00",
          "2021-08-04T00:00:00",
          "2021-08-05T00:00:00",
          "2021-08-06T00:00:00",
          "2021-08-09T00:00:00",
          "2021-08-10T00:00:00",
          "2021-08-11T00:00:00",
          "2021-08-12T00:00:00",
          "2021-08-13T00:00:00",
          "2021-08-16T00:00:00",
          "2021-08-17T00:00:00",
          "2021-08-18T00:00:00",
          "2021-08-19T00:00:00",
          "2021-08-20T00:00:00",
          "2021-08-23T00:00:00",
          "2021-08-24T00:00:00",
          "2021-08-25T00:00:00",
          "2021-08-26T00:00:00",
          "2021-08-27T00:00:00",
          "2021-08-30T00:00:00",
          "2021-08-31T00:00:00",
          "2021-09-01T00:00:00",
          "2021-09-02T00:00:00",
          "2021-09-03T00:00:00",
          "2021-09-07T00:00:00",
          "2021-09-08T00:00:00",
          "2021-09-09T00:00:00",
          "2021-09-10T00:00:00",
          "2021-09-13T00:00:00",
          "2021-09-14T00:00:00",
          "2021-09-15T00:00:00",
          "2021-09-16T00:00:00",
          "2021-09-17T00:00:00",
          "2021-09-20T00:00:00",
          "2021-09-21T00:00:00",
          "2021-09-22T00:00:00",
          "2021-09-23T00:00:00",
          "2021-09-24T00:00:00",
          "2021-09-27T00:00:00",
          "2021-09-28T00:00:00",
          "2021-09-29T00:00:00",
          "2021-09-30T00:00:00",
          "2021-10-01T00:00:00",
          "2021-10-04T00:00:00",
          "2021-10-05T00:00:00",
          "2021-10-06T00:00:00",
          "2021-10-07T00:00:00",
          "2021-10-08T00:00:00",
          "2021-10-11T00:00:00",
          "2021-10-12T00:00:00",
          "2021-10-13T00:00:00",
          "2021-10-14T00:00:00",
          "2021-10-15T00:00:00",
          "2021-10-18T00:00:00",
          "2021-10-19T00:00:00",
          "2021-10-20T00:00:00",
          "2021-10-21T00:00:00",
          "2021-10-22T00:00:00",
          "2021-10-25T00:00:00",
          "2021-10-26T00:00:00",
          "2021-10-27T00:00:00",
          "2021-10-28T00:00:00",
          "2021-10-29T00:00:00",
          "2021-11-01T00:00:00",
          "2021-11-02T00:00:00",
          "2021-11-03T00:00:00",
          "2021-11-04T00:00:00",
          "2021-11-05T00:00:00",
          "2021-11-08T00:00:00",
          "2021-11-09T00:00:00",
          "2021-11-10T00:00:00",
          "2021-11-11T00:00:00",
          "2021-11-12T00:00:00",
          "2021-11-15T00:00:00",
          "2021-11-16T00:00:00",
          "2021-11-17T00:00:00",
          "2021-11-18T00:00:00",
          "2021-11-19T00:00:00",
          "2021-11-22T00:00:00",
          "2021-11-23T00:00:00",
          "2021-11-24T00:00:00",
          "2021-11-26T00:00:00",
          "2021-11-29T00:00:00",
          "2021-11-30T00:00:00",
          "2021-12-01T00:00:00",
          "2021-12-02T00:00:00",
          "2021-12-03T00:00:00",
          "2021-12-06T00:00:00",
          "2021-12-07T00:00:00",
          "2021-12-08T00:00:00",
          "2021-12-09T00:00:00",
          "2021-12-10T00:00:00",
          "2021-12-13T00:00:00",
          "2021-12-14T00:00:00",
          "2021-12-15T00:00:00",
          "2021-12-16T00:00:00",
          "2021-12-17T00:00:00",
          "2021-12-20T00:00:00",
          "2021-12-21T00:00:00",
          "2021-12-22T00:00:00",
          "2021-12-23T00:00:00",
          "2021-12-27T00:00:00",
          "2021-12-28T00:00:00",
          "2021-12-29T00:00:00",
          "2021-12-30T00:00:00",
          "2021-12-31T00:00:00",
          "2022-01-03T00:00:00",
          "2022-01-04T00:00:00",
          "2022-01-05T00:00:00",
          "2022-01-06T00:00:00",
          "2022-01-07T00:00:00",
          "2022-01-10T00:00:00",
          "2022-01-11T00:00:00",
          "2022-01-12T00:00:00",
          "2022-01-13T00:00:00",
          "2022-01-14T00:00:00",
          "2022-01-18T00:00:00",
          "2022-01-19T00:00:00",
          "2022-01-20T00:00:00",
          "2022-01-21T00:00:00",
          "2022-01-24T00:00:00",
          "2022-01-25T00:00:00",
          "2022-01-26T00:00:00",
          "2022-01-27T00:00:00",
          "2022-01-28T00:00:00",
          "2022-01-31T00:00:00",
          "2022-02-01T00:00:00",
          "2022-02-02T00:00:00",
          "2022-02-03T00:00:00",
          "2022-02-04T00:00:00",
          "2022-02-07T00:00:00",
          "2022-02-08T00:00:00",
          "2022-02-09T00:00:00",
          "2022-02-10T00:00:00",
          "2022-02-11T00:00:00",
          "2022-02-14T00:00:00",
          "2022-02-15T00:00:00",
          "2022-02-16T00:00:00",
          "2022-02-17T00:00:00",
          "2022-02-18T00:00:00",
          "2022-02-22T00:00:00",
          "2022-02-23T00:00:00",
          "2022-02-24T00:00:00",
          "2022-02-25T00:00:00",
          "2022-02-28T00:00:00",
          "2022-03-01T00:00:00",
          "2022-03-02T00:00:00",
          "2022-03-03T00:00:00",
          "2022-03-04T00:00:00",
          "2022-03-07T00:00:00",
          "2022-03-08T00:00:00",
          "2022-03-09T00:00:00",
          "2022-03-10T00:00:00",
          "2022-03-11T00:00:00",
          "2022-03-14T00:00:00",
          "2022-03-15T00:00:00",
          "2022-03-16T00:00:00",
          "2022-03-17T00:00:00",
          "2022-03-18T00:00:00",
          "2022-03-21T00:00:00",
          "2022-03-22T00:00:00",
          "2022-03-23T00:00:00",
          "2022-03-24T00:00:00",
          "2022-03-25T00:00:00",
          "2022-03-28T00:00:00",
          "2022-03-29T00:00:00",
          "2022-03-30T00:00:00",
          "2022-03-31T00:00:00",
          "2022-04-01T00:00:00",
          "2022-04-04T00:00:00",
          "2022-04-05T00:00:00",
          "2022-04-06T00:00:00",
          "2022-04-07T00:00:00",
          "2022-04-08T00:00:00",
          "2022-04-11T00:00:00",
          "2022-04-12T00:00:00",
          "2022-04-13T00:00:00",
          "2022-04-14T00:00:00",
          "2022-04-18T00:00:00",
          "2022-04-19T00:00:00",
          "2022-04-20T00:00:00",
          "2022-04-21T00:00:00",
          "2022-04-22T00:00:00",
          "2022-04-25T00:00:00",
          "2022-04-26T00:00:00",
          "2022-04-27T00:00:00",
          "2022-04-28T00:00:00",
          "2022-04-29T00:00:00",
          "2022-05-02T00:00:00",
          "2022-05-03T00:00:00",
          "2022-05-04T00:00:00",
          "2022-05-05T00:00:00",
          "2022-05-06T00:00:00",
          "2022-05-09T00:00:00",
          "2022-05-10T00:00:00",
          "2022-05-11T00:00:00",
          "2022-05-12T00:00:00",
          "2022-05-13T00:00:00",
          "2022-05-16T00:00:00",
          "2022-05-17T00:00:00",
          "2022-05-18T00:00:00",
          "2022-05-19T00:00:00",
          "2022-05-20T00:00:00",
          "2022-05-23T00:00:00",
          "2022-05-24T00:00:00",
          "2022-05-25T00:00:00",
          "2022-05-26T00:00:00",
          "2022-05-27T00:00:00",
          "2022-05-31T00:00:00",
          "2022-06-01T00:00:00",
          "2022-06-02T00:00:00",
          "2022-06-03T00:00:00",
          "2022-06-06T00:00:00",
          "2022-06-07T00:00:00",
          "2022-06-08T00:00:00",
          "2022-06-09T00:00:00",
          "2022-06-10T00:00:00",
          "2022-06-13T00:00:00",
          "2022-06-14T00:00:00",
          "2022-06-15T00:00:00",
          "2022-06-16T00:00:00",
          "2022-06-17T00:00:00",
          "2022-06-21T00:00:00",
          "2022-06-22T00:00:00",
          "2022-06-23T00:00:00",
          "2022-06-24T00:00:00",
          "2022-06-27T00:00:00",
          "2022-06-28T00:00:00",
          "2022-06-29T00:00:00",
          "2022-06-30T00:00:00",
          "2022-07-01T00:00:00",
          "2022-07-05T00:00:00",
          "2022-07-06T00:00:00",
          "2022-07-07T00:00:00",
          "2022-07-08T00:00:00",
          "2022-07-11T00:00:00",
          "2022-07-12T00:00:00",
          "2022-07-13T00:00:00",
          "2022-07-14T00:00:00",
          "2022-07-15T00:00:00",
          "2022-07-18T00:00:00",
          "2022-07-19T00:00:00",
          "2022-07-20T00:00:00",
          "2022-07-21T00:00:00",
          "2022-07-22T00:00:00",
          "2022-07-25T00:00:00",
          "2022-07-26T00:00:00",
          "2022-07-27T00:00:00",
          "2022-07-28T00:00:00",
          "2022-07-29T00:00:00",
          "2022-08-01T00:00:00",
          "2022-08-02T00:00:00",
          "2022-08-03T00:00:00",
          "2022-08-04T00:00:00",
          "2022-08-05T00:00:00",
          "2022-08-08T00:00:00",
          "2022-08-09T00:00:00",
          "2022-08-10T00:00:00",
          "2022-08-11T00:00:00",
          "2022-08-12T00:00:00",
          "2022-08-15T00:00:00",
          "2022-08-16T00:00:00",
          "2022-08-17T00:00:00",
          "2022-08-18T00:00:00",
          "2022-08-19T00:00:00",
          "2022-08-22T00:00:00",
          "2022-08-23T00:00:00",
          "2022-08-24T00:00:00",
          "2022-08-25T00:00:00",
          "2022-08-26T00:00:00",
          "2022-08-29T00:00:00",
          "2022-08-30T00:00:00",
          "2022-08-31T00:00:00",
          "2022-09-01T00:00:00",
          "2022-09-02T00:00:00",
          "2022-09-06T00:00:00",
          "2022-09-07T00:00:00",
          "2022-09-08T00:00:00",
          "2022-09-09T00:00:00",
          "2022-09-12T00:00:00",
          "2022-09-13T00:00:00",
          "2022-09-14T00:00:00",
          "2022-09-15T00:00:00",
          "2022-09-16T00:00:00",
          "2022-09-19T00:00:00",
          "2022-09-20T00:00:00",
          "2022-09-21T00:00:00",
          "2022-09-22T00:00:00",
          "2022-09-23T00:00:00",
          "2022-09-26T00:00:00",
          "2022-09-27T00:00:00",
          "2022-09-28T00:00:00",
          "2022-09-29T00:00:00",
          "2022-09-30T00:00:00",
          "2022-10-03T00:00:00",
          "2022-10-04T00:00:00",
          "2022-10-05T00:00:00",
          "2022-10-06T00:00:00",
          "2022-10-07T00:00:00",
          "2022-10-10T00:00:00",
          "2022-10-11T00:00:00",
          "2022-10-12T00:00:00",
          "2022-10-13T00:00:00",
          "2022-10-14T00:00:00",
          "2022-10-17T00:00:00",
          "2022-10-18T00:00:00",
          "2022-10-19T00:00:00",
          "2022-10-20T00:00:00",
          "2022-10-21T00:00:00",
          "2022-10-24T00:00:00",
          "2022-10-25T00:00:00",
          "2022-10-26T00:00:00",
          "2022-10-27T00:00:00",
          "2022-10-28T00:00:00",
          "2022-10-31T00:00:00",
          "2022-11-01T00:00:00",
          "2022-11-02T00:00:00",
          "2022-11-03T00:00:00",
          "2022-11-04T00:00:00",
          "2022-11-07T00:00:00",
          "2022-11-08T00:00:00",
          "2022-11-09T00:00:00",
          "2022-11-10T00:00:00",
          "2022-11-11T00:00:00",
          "2022-11-14T00:00:00",
          "2022-11-15T00:00:00",
          "2022-11-16T00:00:00",
          "2022-11-17T00:00:00",
          "2022-11-18T00:00:00",
          "2022-11-21T00:00:00",
          "2022-11-22T00:00:00",
          "2022-11-23T00:00:00",
          "2022-11-25T00:00:00",
          "2022-11-28T00:00:00",
          "2022-11-29T00:00:00",
          "2022-11-30T00:00:00",
          "2022-12-01T00:00:00",
          "2022-12-02T00:00:00",
          "2022-12-05T00:00:00",
          "2022-12-06T00:00:00",
          "2022-12-07T00:00:00",
          "2022-12-08T00:00:00",
          "2022-12-09T00:00:00",
          "2022-12-12T00:00:00",
          "2022-12-13T00:00:00",
          "2022-12-14T00:00:00",
          "2022-12-15T00:00:00",
          "2022-12-16T00:00:00",
          "2022-12-19T00:00:00",
          "2022-12-20T00:00:00",
          "2022-12-21T00:00:00",
          "2022-12-22T00:00:00",
          "2022-12-23T00:00:00",
          "2022-12-27T00:00:00",
          "2022-12-28T00:00:00",
          "2022-12-29T00:00:00",
          "2022-12-30T00:00:00",
          "2023-01-03T00:00:00",
          "2023-01-04T00:00:00",
          "2023-01-05T00:00:00",
          "2023-01-06T00:00:00",
          "2023-01-09T00:00:00",
          "2023-01-10T00:00:00",
          "2023-01-11T00:00:00",
          "2023-01-12T00:00:00",
          "2023-01-13T00:00:00",
          "2023-01-17T00:00:00",
          "2023-01-18T00:00:00",
          "2023-01-19T00:00:00",
          "2023-01-20T00:00:00",
          "2023-01-23T00:00:00",
          "2023-01-24T00:00:00",
          "2023-01-25T00:00:00",
          "2023-01-26T00:00:00",
          "2023-01-27T00:00:00",
          "2023-01-30T00:00:00",
          "2023-01-31T00:00:00",
          "2023-02-01T00:00:00",
          "2023-02-02T00:00:00",
          "2023-02-03T00:00:00",
          "2023-02-06T00:00:00",
          "2023-02-07T00:00:00",
          "2023-02-08T00:00:00",
          "2023-02-09T00:00:00",
          "2023-02-10T00:00:00",
          "2023-02-13T00:00:00",
          "2023-02-14T00:00:00",
          "2023-02-15T00:00:00",
          "2023-02-16T00:00:00",
          "2023-02-17T00:00:00",
          "2023-02-21T00:00:00",
          "2023-02-22T00:00:00",
          "2023-02-23T00:00:00",
          "2023-02-24T00:00:00",
          "2023-02-27T00:00:00",
          "2023-02-28T00:00:00",
          "2023-03-01T00:00:00",
          "2023-03-02T00:00:00",
          "2023-03-03T00:00:00",
          "2023-03-06T00:00:00",
          "2023-03-07T00:00:00",
          "2023-03-08T00:00:00",
          "2023-03-09T00:00:00",
          "2023-03-10T00:00:00",
          "2023-03-13T00:00:00",
          "2023-03-14T00:00:00",
          "2023-03-15T00:00:00",
          "2023-03-16T00:00:00",
          "2023-03-17T00:00:00",
          "2023-03-20T00:00:00",
          "2023-03-21T00:00:00",
          "2023-03-22T00:00:00",
          "2023-03-23T00:00:00",
          "2023-03-24T00:00:00",
          "2023-03-27T00:00:00",
          "2023-03-28T00:00:00",
          "2023-03-29T00:00:00",
          "2023-03-30T00:00:00",
          "2023-03-31T00:00:00",
          "2023-04-03T00:00:00",
          "2023-04-04T00:00:00",
          "2023-04-05T00:00:00",
          "2023-04-06T00:00:00",
          "2023-04-10T00:00:00",
          "2023-04-11T00:00:00",
          "2023-04-12T00:00:00",
          "2023-04-13T00:00:00",
          "2023-04-14T00:00:00",
          "2023-04-17T00:00:00",
          "2023-04-18T00:00:00",
          "2023-04-19T00:00:00",
          "2023-04-20T00:00:00",
          "2023-04-21T00:00:00",
          "2023-04-24T00:00:00",
          "2023-04-25T00:00:00",
          "2023-04-26T00:00:00",
          "2023-04-27T00:00:00",
          "2023-04-28T00:00:00",
          "2023-05-01T00:00:00",
          "2023-05-02T00:00:00",
          "2023-05-03T00:00:00",
          "2023-05-04T00:00:00",
          "2023-05-05T00:00:00",
          "2023-05-08T00:00:00",
          "2023-05-09T00:00:00",
          "2023-05-10T00:00:00",
          "2023-05-11T00:00:00",
          "2023-05-12T00:00:00",
          "2023-05-15T00:00:00",
          "2023-05-16T00:00:00",
          "2023-05-17T00:00:00",
          "2023-05-18T00:00:00",
          "2023-05-19T00:00:00",
          "2023-05-22T00:00:00",
          "2023-05-23T00:00:00",
          "2023-05-24T00:00:00",
          "2023-05-25T00:00:00",
          "2023-05-26T00:00:00",
          "2023-05-30T00:00:00",
          "2023-05-31T00:00:00",
          "2023-06-01T00:00:00",
          "2023-06-02T00:00:00",
          "2023-06-05T00:00:00",
          "2023-06-06T00:00:00",
          "2023-06-07T00:00:00",
          "2023-06-08T00:00:00",
          "2023-06-09T00:00:00",
          "2023-06-12T00:00:00",
          "2023-06-13T00:00:00",
          "2023-06-14T00:00:00",
          "2023-06-15T00:00:00",
          "2023-06-16T00:00:00",
          "2023-06-20T00:00:00",
          "2023-06-21T00:00:00",
          "2023-06-22T00:00:00",
          "2023-06-23T00:00:00",
          "2023-06-26T00:00:00",
          "2023-06-27T00:00:00",
          "2023-06-28T00:00:00",
          "2023-06-29T00:00:00",
          "2023-06-30T00:00:00",
          "2023-07-03T00:00:00",
          "2023-07-05T00:00:00",
          "2023-07-06T00:00:00",
          "2023-07-07T00:00:00",
          "2023-07-10T00:00:00",
          "2023-07-11T00:00:00",
          "2023-07-12T00:00:00",
          "2023-07-13T00:00:00",
          "2023-07-14T00:00:00",
          "2023-07-17T00:00:00",
          "2023-07-18T00:00:00",
          "2023-07-19T00:00:00",
          "2023-07-20T00:00:00",
          "2023-07-21T00:00:00",
          "2023-07-24T00:00:00",
          "2023-07-25T00:00:00",
          "2023-07-26T00:00:00",
          "2023-07-27T00:00:00",
          "2023-07-28T00:00:00"
         ],
         "xaxis": "x",
         "y": [
          28.68400001525879,
          29.534000396728516,
          30.1026668548584,
          31.270666122436523,
          32.80933380126953,
          32.089332580566406,
          31.876667022705078,
          34.990665435791016,
          35.861331939697266,
          34.56666564941406,
          34.232666015625,
          34.03333282470703,
          36.47999954223633,
          37.97066879272461,
          38.14666748046875,
          37.654666900634766,
          37.201332092285156,
          37.793331146240234,
          38.732666015625,
          42.72066879272461,
          43.371334075927734,
          52,
          59.137332916259766,
          48.97999954223633,
          49.930667877197266,
          49.871334075927734,
          51.41866683959961,
          51.62533187866211,
          51.15266799926758,
          53.599998474121094,
          53.33533477783203,
          57.22666549682617,
          61.16133117675781,
          59.96066665649414,
          60.06666564941406,
          55.58599853515625,
          53.32733154296875,
          51.91999816894531,
          45.266666412353516,
          44.53266525268555,
          49.574668884277344,
          49.70066833496094,
          49.96666717529297,
          48.30266571044922,
          46.89866638183594,
          40.53333282470703,
          43.02199935913086,
          42.28200149536133,
          37.369998931884766,
          36.44133377075195,
          29.67133331298828,
          28.68000030517578,
          24.08133316040039,
          28.50933265686035,
          28.50200080871582,
          28.952667236328125,
          33.66666793823242,
          35.95000076293945,
          35.21066665649414,
          34.29066848754883,
          33.47533416748047,
          34.93333435058594,
          32.104000091552734,
          30.29800033569336,
          32.000667572021484,
          34.41600036621094,
          36.36333465576172,
          36.589332580566406,
          38.20000076293945,
          43.39666748046875,
          47.32600021362305,
          48.65533447265625,
          49.680667877197266,
          50.259334564208984,
          49.75733184814453,
          45.781333923339844,
          48.807334899902344,
          47.04199981689453,
          48.34333419799805,
          53.25,
          51.27466583251953,
          53.367332458496094,
          52.12533187866211,
          46.75466537475586,
          50.74599838256836,
          51.2140007019043,
          52.172000885009766,
          52.00266647338867,
          54.62799835205078,
          54.08599853515625,
          53.96066665649414,
          52.73066711425781,
          53.55533218383789,
          53.27799987792969,
          54.242000579833984,
          53.867332458496094,
          54.37066650390625,
          55.17333221435547,
          54.45866775512695,
          54.591331481933594,
          54.68199920654297,
          53.72066879272461,
          55.66666793823242,
          59.87333297729492,
          58.770668029785156,
          58.86399841308594,
          57.62533187866211,
          59.04399871826172,
          63.327999114990234,
          62.711334228515625,
          68.336669921875,
          64.85600280761719,
          62.35200119018555,
          66.05999755859375,
          65.47533416748047,
          66.11933135986328,
          66.9306640625,
          66.72666931152344,
          66.28800201416016,
          66.78533172607422,
          64.0566635131836,
          65.73200225830078,
          63.982666015625,
          67.29000091552734,
          71.98733520507812,
          74.64199829101562,
          80.57733154296875,
          91.43866729736328,
          92.65733337402344,
          91.05867004394531,
          92.9520034790039,
          102.97666931152344,
          99.80400085449219,
          101.12000274658203,
          103.06732940673828,
          100.04266357421875,
          100.05599975585938,
          109.53333282470703,
          104.55733489990234,
          106.15533447265625,
          100.87133026123047,
          94.46666717529297,
          102.63999938964844,
          98.43267059326172,
          99.94066619873047,
          99.16600036621094,
          95.38400268554688,
          99,
          99.13333129882812,
          99.00133514404297,
          99.30533599853516,
          96.84733581542969,
          94.57133483886719,
          91.6259994506836,
          103.65066528320312,
          108.06666564941406,
          110.04733276367188,
          122.3759994506836,
          125.80599975585938,
          125.23533630371094,
          133.45533752441406,
          136.6653289794922,
          134.27999877929688,
          134.8893280029297,
          143.54466247558594,
          149.25,
          147.55999755859375,
          166.10667419433594,
          158.35000610351562,
          149.1233367919922,
          135.6666717529297,
          139.44000244140625,
          110.06999969482422,
          122.09333038330078,
          123.77999877929688,
          124.23999786376953,
          139.8733367919922,
          149.9199981689453,
          147.25332641601562,
          141.14332580566406,
          147.38333129882812,
          149.79666137695312,
          141.41000366210938,
          126.78666687011719,
          129.26333618164062,
          135.77999877929688,
          140.39999389648438,
          139.69000244140625,
          143.00332641601562,
          149.3866729736328,
          138.3633270263672,
          141.89332580566406,
          137.9933319091797,
          141.76666259765625,
          141.97332763671875,
          144.6666717529297,
          147.43333435058594,
          148.88333129882812,
          153.76666259765625,
          149.6266632080078,
          146.55667114257812,
          143.61000061035156,
          140.64666748046875,
          140.8800048828125,
          141.92999267578125,
          140.2100067138672,
          140.0933380126953,
          141.55999755859375,
          135.33999633789062,
          136.94332885742188,
          129.34666442871094,
          133.50332641601562,
          141.3000030517578,
          140.32666015625,
          146.02999877929688,
          143.31666564941406,
          140.4199981689453,
          136.7866668701172,
          139.0433349609375,
          137.25332641601562,
          136.1666717529297,
          136.02999877929688,
          147.20333862304688,
          162.2133331298828,
          166.42333984375,
          163.20333862304688,
          173.9499969482422,
          185.1266632080078,
          191.3333282470703,
          195.25332641601562,
          189.1999969482422,
          194.9199981689453,
          189.60667419433594,
          197.7933349609375,
          199.67999267578125,
          213.9199981689453,
          216.6266632080078,
          201.4933319091797,
          209.02333068847656,
          203.3300018310547,
          213.27667236328125,
          211.0833282470703,
          207.58999633789062,
          218.63333129882812,
          231.6666717529297,
          216.6199951171875,
          213.44667053222656,
          215.32666015625,
          220.58999633789062,
          221.22999572753906,
          221.99667358398438,
          231.5933380126953,
          235.22332763671875,
          243.2566680908203,
          245.0366668701172,
          251.9933319091797,
          272.0133361816406,
          293.3399963378906,
          270.39666748046875,
          283.14666748046875,
          284.8033447265625,
          281.6666564941406,
          275.38665771484375,
          281.51666259765625,
          283.48333740234375,
          281.663330078125,
          282.21331787109375,
          293.6000061035156,
          294.36334228515625,
          288.0533447265625,
          278.4766540527344,
          264.510009765625,
          279.9366760253906,
          290.92999267578125,
          284.89666748046875,
          283.3299865722656,
          284.07666015625,
          287.8066711425781,
          283.1533203125,
          268.2733459472656,
          270.5533447265625,
          272.0400085449219,
          265.40667724609375,
          266.04998779296875,
          262.4599914550781,
          260.4333190917969,
          238.1666717529297,
          232.94667053222656,
          247.33999633789062,
          227.4066619873047,
          225.1666717529297,
          239.47666931152344,
          228.81333923339844,
          217.73333740234375,
          207.14666748046875,
          199.31666564941406,
          187.6666717529297,
          224.52667236328125,
          222.68666076660156,
          233.1999969482422,
          231.2433319091797,
          235.97999572753906,
          225.6266632080078,
          233.93666076660156,
          217.72000122070312,
          218.2899932861328,
          223.3333282470703,
          220.72000122070312,
          210.08999633789062,
          213.4633331298828,
          206.23666381835938,
          203.76333618164062,
          211.8733367919922,
          222.64332580566406,
          220.5833282470703,
          230.35000610351562,
          230.5399932861328,
          223.6566619873047,
          227.93333435058594,
          225.67333984375,
          233.9933319091797,
          254.10667419433594,
          244.07666015625,
          246.28334045410156,
          246.5933380126953,
          238.2100067138672,
          239.663330078125,
          248.0399932861328,
          239.89666748046875,
          243.13333129882812,
          246.06666564941406,
          234.913330078125,
          231.46665954589844,
          225.6666717529297,
          236.47999572753906,
          228.3000030517578,
          224.53334045410156,
          223.64666748046875,
          221.17999267578125,
          224.1233367919922,
          209.67999267578125,
          205.73333740234375,
          196.6300048828125,
          190.56333923339844,
          196.5800018310547,
          192.27667236328125,
          192.6233367919922,
          187.82000732421875,
          195.5933380126953,
          193.6266632080078,
          202.14666748046875,
          201.56333923339844,
          206.3766632080078,
          210.28334045410156,
          208.4066619873047,
          207.96665954589844,
          201.7066650390625,
          190.94667053222656,
          199.68333435058594,
          201.7100067138672,
          201.19667053222656,
          199.5933380126953,
          203.3733367919922,
          203.29666137695312,
          205.89666748046875,
          199.7866668701172,
          201.6233367919922,
          205.53334045410156,
          207.77000427246094,
          206.94332885742188,
          207.90333557128906,
          218.85667419433594,
          226.60667419433594,
          223.9566650390625,
          229.57333374023438,
          226.9199981689453,
          226.56666564941406,
          225.97332763671875,
          226.3000030517578,
          219.86000061035156,
          214.88333129882812,
          217.60333251953125,
          218.98333740234375,
          228.56666564941406,
          222.84666442871094,
          217.7933349609375,
          216.86666870117188,
          214.74000549316406,
          215.4066619873047,
          220.1666717529297,
          218.42999267578125,
          216.4199981689453,
          214.4600067138672,
          219.2066650390625,
          214.92666625976562,
          215.66000366210938,
          225.78334045410156,
          229.06666564941406,
          236.55667114257812,
          236.5800018310547,
          236.97332763671875,
          238.2100067138672,
          233.03334045410156,
          237.9199981689453,
          236.663330078125,
          235.94000244140625,
          240.75,
          239.05667114257812,
          228.72332763671875,
          221.90333557128906,
          229.663330078125,
          224.49000549316406,
          226.75332641601562,
          235.43333435058594,
          236.163330078125,
          237.06666564941406,
          233.72000122070312,
          237.30667114257812,
          243.6366729736328,
          245.24000549316406,
          244.69667053222656,
          244.1300048828125,
          244.52333068847656,
          250.97332763671875,
          251.2899932861328,
          251.6199951171875,
          245.42333984375,
          247.6666717529297,
          248.163330078125,
          251.94332885742188,
          252.3300018310547,
          253.163330078125,
          243.38999938964844,
          246.4600067138672,
          250.64666748046875,
          251.2133331298828,
          258.1300048828125,
          263.78668212890625,
          259.1866760253906,
          260.4366760253906,
          258.49334716796875,
          258.40667724609375,
          260.510009765625,
          260.1966552734375,
          260.9166564941406,
          264.53668212890625,
          261.8299865722656,
          263.9800109863281,
          268.5733337402344,
          270.3599853515625,
          272.7733459472656,
          281.010009765625,
          290.03668212890625,
          288.0899963378906,
          288.6000061035156,
          298,
          303.2266540527344,
          341.6199951171875,
          339.4766540527344,
          345.9533386230469,
          359.0133361816406,
          371.3333435058594,
          402.86334228515625,
          390.6666564941406,
          404.6199951171875,
          409.9700012207031,
          407.36334228515625,
          387.64666748046875,
          341.1666564941406,
          355.98333740234375,
          354.5033264160156,
          344.47332763671875,
          337.7966613769531,
          351.57666015625,
          363.0033264160156,
          365.4599914550781,
          379.0199890136719,
          385.6233215332031,
          369.6766662597656,
          372,
          360.6400146484375,
          378.9966735839844,
          381.586669921875,
          365,
          361.5333251953125,
          338.3233337402344,
          336.336669921875,
          350.5833435058594,
          356.32000732421875,
          334.6000061035156,
          339.010009765625,
          322.13665771484375,
          319.5033264160156,
          325.3299865722656,
          308.97332763671875,
          310.8566589355469,
          299.9800109863281,
          312.84332275390625,
          336.2900085449219,
          355.6666564941406,
          364.64666748046875,
          362.8233337402344,
          362.0633239746094,
          356.7799987792969,
          352.260009765625,
          399.9266662597656,
          383.1966552734375,
          362.7066650390625,
          354.8999938964844,
          342.32000732421875,
          352.7066650390625,
          354.79998779296875,
          368.739990234375,
          343.85333251953125,
          349.8699951171875,
          343.5033264160156,
          331.8833312988281,
          332.0899963378906,
          314.6333312988281,
          310,
          306.1333312988281,
          312.4700012207031,
          276.3666687011719,
          282.1166687011719,
          312.239990234375,
          310.4166564941406,
          301.88665771484375,
          297.0466613769531,
          307.7733459472656,
          302.4466552734375,
          307.3333435058594,
          310.6666564941406,
          301.51666259765625,
          286.6666564941406,
          291.9200134277344,
          307.4766540527344,
          307.7966613769531,
          292.1166687011719,
          285.6600036621094,
          273.84332275390625,
          254.67999267578125,
          266.92333984375,
          269.9566650390625,
          290.1433410644531,
          288.1233215332031,
          293.2966613769531,
          279.7633361816406,
          279.42999267578125,
          268.1933288574219,
          274.79998779296875,
          286.3233337402344,
          279.4333190917969,
          265.1166687011719,
          255.4566650390625,
          267.2966613769531,
          280.07666015625,
          290.5333251953125,
          301.7966613769531,
          307.0533447265625,
          331.32666015625,
          333.03668212890625,
          337.97332763671875,
          336.8800048828125,
          363.9466552734375,
          366.5233459472656,
          364.663330078125,
          359.20001220703125,
          361.5299987792969,
          381.8166809082031,
          363.7533264160156,
          348.586669921875,
          352.4200134277344,
          341.8299865722656,
          325.30999755859375,
          328.98333740234375,
          340.7900085449219,
          328.3333435058594,
          334.7633361816406,
          342.7166748046875,
          325.73333740234375,
          336.260009765625,
          335.01666259765625,
          332.67333984375,
          292.1400146484375,
          293.836669921875,
          292.5033264160156,
          290.2533264160156,
          300.9800109863281,
          303.0833435058594,
          317.5400085449219,
          291.09332275390625,
          288.54998779296875,
          262.3699951171875,
          266.67999267578125,
          244.6666717529297,
          242.6666717529297,
          256.5299987792969,
          241.4566650390625,
          253.8699951171875,
          236.60333251953125,
          236.47332763671875,
          221.3000030517578,
          224.96665954589844,
          209.3866729736328,
          219.60000610351562,
          235.91000366210938,
          253.2100067138672,
          252.75332641601562,
          246.7899932861328,
          258.3333435058594,
          234.51666259765625,
          238.27999877929688,
          238.8866729736328,
          241.86666870117188,
          239.7066650390625,
          232.22999572753906,
          215.73666381835938,
          220.88999938964844,
          233,
          213.10000610351562,
          216.75999450683594,
          237.0366668701172,
          236.086669921875,
          235.07000732421875,
          245.7066650390625,
          244.9199981689453,
          232.663330078125,
          228.49000549316406,
          224.47332763671875,
          227.26333618164062,
          233.06666564941406,
          231.73333740234375,
          244.5433349609375,
          250.76333618164062,
          234.3433380126953,
          233.07000732421875,
          237.0399932861328,
          238.31333923339844,
          240.06666564941406,
          240.54666137695312,
          245.52999877929688,
          247.5,
          271.7066650390625,
          272.24334716796875,
          268.4333190917969,
          258.8599853515625,
          274.82000732421875,
          280.8999938964844,
          297.1499938964844,
          297.27667236328125,
          300.586669921875,
          307.39666748046875,
          308.6333312988281,
          288.1700134277344,
          290.42333984375,
          283.3333435058594,
          294.3566589355469,
          286.6300048828125,
          300.0299987792969,
          309.32000732421875,
          306.5633239746094,
          303.9966735839844,
          302.8699951171875,
          296.6666564941406,
          289.913330078125,
          296.4533386230469,
          297.0966796875,
          296.07000732421875,
          288.0899963378906,
          284.82000732421875,
          277.70001220703125,
          275.6099853515625,
          277.1600036621094,
          270.2099914550781,
          274.4200134277344,
          283.70001220703125,
          289.260009765625,
          299.67999267578125,
          304.4200134277344,
          292.1300048828125,
          302.6099853515625,
          303.75,
          303.3500061035156,
          309.07000732421875,
          308.7300109863281,
          300.79998779296875,
          288.5899963378906,
          275.3299865722656,
          276.010009765625,
          282.94000244140625,
          287.80999755859375,
          268.2099914550781,
          265.25,
          242.39999389648438,
          249.44000244140625,
          240.80999755859375,
          238.1300048828125,
          223.07000732421875,
          222.9600067138672,
          216.5,
          217.24000549316406,
          221.72000122070312,
          204.99000549316406,
          219.35000610351562,
          220.19000244140625,
          222.0399932861328,
          207.27999877929688,
          214.44000244140625,
          211.25,
          222.4199981689453,
          224.63999938964844,
          225.08999633789062,
          228.52000427246094,
          227.5399932861328,
          227.82000732421875,
          214.97999572753906,
          215.30999755859375,
          207.47000122070312,
          197.0800018310547,
          191.3000030517578,
          177.58999633789062,
          190.72000122070312,
          195.97000122070312,
          190.9499969482422,
          194.4199981689453,
          186.9199981689453,
          183.1699981689453,
          180.19000244140625,
          167.8699951171875,
          169.91000366210938,
          183.1999969482422,
          182.86000061035156,
          182.9199981689453,
          180.8300018310547,
          194.6999969482422,
          194.6999969482422,
          194.86000061035156,
          182.4499969482422,
          179.82000732421875,
          174.0399932861328,
          173.44000244140625,
          179.0500030517578,
          167.82000732421875,
          160.9499969482422,
          156.8000030517578,
          157.6699981689453,
          150.22999572753906,
          149.8699951171875,
          137.8000030517578,
          137.57000732421875,
          125.3499984741211,
          123.1500015258789,
          109.0999984741211,
          112.70999908447266,
          121.81999969482422,
          123.18000030517578,
          108.0999984741211,
          113.63999938964844,
          110.33999633789062,
          113.05999755859375,
          119.7699966430664,
          118.8499984741211,
          123.22000122070312,
          123.55999755859375,
          122.4000015258789,
          131.49000549316406,
          128.77999877929688,
          127.16999816894531,
          133.4199981689453,
          143.75,
          143.88999938964844,
          144.42999267578125,
          160.27000427246094,
          177.89999389648438,
          166.66000366210938,
          173.22000122070312,
          181.41000366210938,
          188.27000427246094,
          189.97999572753906,
          194.75999450683594,
          196.80999755859375,
          201.2899932861328,
          207.32000732421875,
          196.88999938964844,
          194.63999938964844,
          209.25,
          214.24000549316406,
          202.0399932861328,
          208.30999755859375,
          197.3699951171875,
          200.86000061035156,
          202.07000732421875,
          196.8800048828125,
          207.6300048828125,
          205.7100067138672,
          202.77000427246094,
          190.89999389648438,
          197.7899932861328,
          193.80999755859375,
          187.7100067138672,
          182,
          172.9199981689453,
          173.44000244140625,
          174.47999572753906,
          183.25999450683594,
          180.4499969482422,
          184.1300048828125,
          180.1300048828125,
          183.25,
          197.5800018310547,
          191.14999389648438,
          192.22000122070312,
          190.41000366210938,
          191.80999755859375,
          189.19000244140625,
          193.8800048828125,
          195.27999877929688,
          207.4600067138672,
          194.77000427246094,
          192.5800018310547,
          185.52000427246094,
          185.05999755859375,
          184.50999450683594,
          186.7899932861328,
          180.5399932861328,
          185.89999389648438,
          185,
          187.0399932861328,
          184.30999755859375,
          180.58999633789062,
          162.99000549316406,
          165.0800018310547,
          162.5500030517578,
          160.6699981689453,
          153.75,
          160.19000244140625,
          164.30999755859375,
          161.8300018310547,
          160.30999755859375,
          160.61000061035156,
          161.1999969482422,
          170.05999755859375,
          171.7899932861328,
          169.14999389648438,
          168.5399932861328,
          172.0800018310547,
          167.97999572753906,
          166.35000610351562,
          166.52000427246094,
          173.86000061035156,
          176.88999938964844,
          180.13999938964844,
          188.8699951171875,
          185.77000427246094,
          182.89999389648438,
          184.47000122070312,
          193.1699981689453,
          201.16000366210938,
          203.92999267578125,
          207.52000427246094,
          213.97000122070312,
          217.61000061035156,
          221.30999755859375,
          224.57000732421875,
          234.86000061035156,
          244.39999389648438,
          249.8300018310547,
          258.7099914550781,
          256.7900085449219,
          255.89999389648438,
          260.5400085449219,
          274.45001220703125,
          259.4599914550781,
          264.6099853515625,
          256.6000061035156,
          241.0500030517578,
          250.2100067138672,
          256.239990234375,
          257.5,
          261.7699890136719,
          279.82000732421875,
          282.4800109863281,
          276.5400085449219,
          274.42999267578125,
          269.6099853515625,
          269.7900085449219,
          271.989990234375,
          277.8999938964844,
          281.3800048828125,
          290.3800048828125,
          293.3399963378906,
          291.260009765625,
          262.8999938964844,
          260.0199890136719,
          269.05999755859375,
          265.2799987792969,
          264.3500061035156,
          255.7100067138672,
          266.2749938964844
         ],
         "yaxis": "y"
        }
       ],
       "layout": {
        "legend": {
         "title": {
          "text": "variable"
         },
         "tracegroupgap": 0
        },
        "margin": {
         "t": 60
        },
        "template": {
         "data": {
          "bar": [
           {
            "error_x": {
             "color": "#2a3f5f"
            },
            "error_y": {
             "color": "#2a3f5f"
            },
            "marker": {
             "line": {
              "color": "#E5ECF6",
              "width": 0.5
             },
             "pattern": {
              "fillmode": "overlay",
              "size": 10,
              "solidity": 0.2
             }
            },
            "type": "bar"
           }
          ],
          "barpolar": [
           {
            "marker": {
             "line": {
              "color": "#E5ECF6",
              "width": 0.5
             },
             "pattern": {
              "fillmode": "overlay",
              "size": 10,
              "solidity": 0.2
             }
            },
            "type": "barpolar"
           }
          ],
          "carpet": [
           {
            "aaxis": {
             "endlinecolor": "#2a3f5f",
             "gridcolor": "white",
             "linecolor": "white",
             "minorgridcolor": "white",
             "startlinecolor": "#2a3f5f"
            },
            "baxis": {
             "endlinecolor": "#2a3f5f",
             "gridcolor": "white",
             "linecolor": "white",
             "minorgridcolor": "white",
             "startlinecolor": "#2a3f5f"
            },
            "type": "carpet"
           }
          ],
          "choropleth": [
           {
            "colorbar": {
             "outlinewidth": 0,
             "ticks": ""
            },
            "type": "choropleth"
           }
          ],
          "contour": [
           {
            "colorbar": {
             "outlinewidth": 0,
             "ticks": ""
            },
            "colorscale": [
             [
              0,
              "#0d0887"
             ],
             [
              0.1111111111111111,
              "#46039f"
             ],
             [
              0.2222222222222222,
              "#7201a8"
             ],
             [
              0.3333333333333333,
              "#9c179e"
             ],
             [
              0.4444444444444444,
              "#bd3786"
             ],
             [
              0.5555555555555556,
              "#d8576b"
             ],
             [
              0.6666666666666666,
              "#ed7953"
             ],
             [
              0.7777777777777778,
              "#fb9f3a"
             ],
             [
              0.8888888888888888,
              "#fdca26"
             ],
             [
              1,
              "#f0f921"
             ]
            ],
            "type": "contour"
           }
          ],
          "contourcarpet": [
           {
            "colorbar": {
             "outlinewidth": 0,
             "ticks": ""
            },
            "type": "contourcarpet"
           }
          ],
          "heatmap": [
           {
            "colorbar": {
             "outlinewidth": 0,
             "ticks": ""
            },
            "colorscale": [
             [
              0,
              "#0d0887"
             ],
             [
              0.1111111111111111,
              "#46039f"
             ],
             [
              0.2222222222222222,
              "#7201a8"
             ],
             [
              0.3333333333333333,
              "#9c179e"
             ],
             [
              0.4444444444444444,
              "#bd3786"
             ],
             [
              0.5555555555555556,
              "#d8576b"
             ],
             [
              0.6666666666666666,
              "#ed7953"
             ],
             [
              0.7777777777777778,
              "#fb9f3a"
             ],
             [
              0.8888888888888888,
              "#fdca26"
             ],
             [
              1,
              "#f0f921"
             ]
            ],
            "type": "heatmap"
           }
          ],
          "heatmapgl": [
           {
            "colorbar": {
             "outlinewidth": 0,
             "ticks": ""
            },
            "colorscale": [
             [
              0,
              "#0d0887"
             ],
             [
              0.1111111111111111,
              "#46039f"
             ],
             [
              0.2222222222222222,
              "#7201a8"
             ],
             [
              0.3333333333333333,
              "#9c179e"
             ],
             [
              0.4444444444444444,
              "#bd3786"
             ],
             [
              0.5555555555555556,
              "#d8576b"
             ],
             [
              0.6666666666666666,
              "#ed7953"
             ],
             [
              0.7777777777777778,
              "#fb9f3a"
             ],
             [
              0.8888888888888888,
              "#fdca26"
             ],
             [
              1,
              "#f0f921"
             ]
            ],
            "type": "heatmapgl"
           }
          ],
          "histogram": [
           {
            "marker": {
             "pattern": {
              "fillmode": "overlay",
              "size": 10,
              "solidity": 0.2
             }
            },
            "type": "histogram"
           }
          ],
          "histogram2d": [
           {
            "colorbar": {
             "outlinewidth": 0,
             "ticks": ""
            },
            "colorscale": [
             [
              0,
              "#0d0887"
             ],
             [
              0.1111111111111111,
              "#46039f"
             ],
             [
              0.2222222222222222,
              "#7201a8"
             ],
             [
              0.3333333333333333,
              "#9c179e"
             ],
             [
              0.4444444444444444,
              "#bd3786"
             ],
             [
              0.5555555555555556,
              "#d8576b"
             ],
             [
              0.6666666666666666,
              "#ed7953"
             ],
             [
              0.7777777777777778,
              "#fb9f3a"
             ],
             [
              0.8888888888888888,
              "#fdca26"
             ],
             [
              1,
              "#f0f921"
             ]
            ],
            "type": "histogram2d"
           }
          ],
          "histogram2dcontour": [
           {
            "colorbar": {
             "outlinewidth": 0,
             "ticks": ""
            },
            "colorscale": [
             [
              0,
              "#0d0887"
             ],
             [
              0.1111111111111111,
              "#46039f"
             ],
             [
              0.2222222222222222,
              "#7201a8"
             ],
             [
              0.3333333333333333,
              "#9c179e"
             ],
             [
              0.4444444444444444,
              "#bd3786"
             ],
             [
              0.5555555555555556,
              "#d8576b"
             ],
             [
              0.6666666666666666,
              "#ed7953"
             ],
             [
              0.7777777777777778,
              "#fb9f3a"
             ],
             [
              0.8888888888888888,
              "#fdca26"
             ],
             [
              1,
              "#f0f921"
             ]
            ],
            "type": "histogram2dcontour"
           }
          ],
          "mesh3d": [
           {
            "colorbar": {
             "outlinewidth": 0,
             "ticks": ""
            },
            "type": "mesh3d"
           }
          ],
          "parcoords": [
           {
            "line": {
             "colorbar": {
              "outlinewidth": 0,
              "ticks": ""
             }
            },
            "type": "parcoords"
           }
          ],
          "pie": [
           {
            "automargin": true,
            "type": "pie"
           }
          ],
          "scatter": [
           {
            "fillpattern": {
             "fillmode": "overlay",
             "size": 10,
             "solidity": 0.2
            },
            "type": "scatter"
           }
          ],
          "scatter3d": [
           {
            "line": {
             "colorbar": {
              "outlinewidth": 0,
              "ticks": ""
             }
            },
            "marker": {
             "colorbar": {
              "outlinewidth": 0,
              "ticks": ""
             }
            },
            "type": "scatter3d"
           }
          ],
          "scattercarpet": [
           {
            "marker": {
             "colorbar": {
              "outlinewidth": 0,
              "ticks": ""
             }
            },
            "type": "scattercarpet"
           }
          ],
          "scattergeo": [
           {
            "marker": {
             "colorbar": {
              "outlinewidth": 0,
              "ticks": ""
             }
            },
            "type": "scattergeo"
           }
          ],
          "scattergl": [
           {
            "marker": {
             "colorbar": {
              "outlinewidth": 0,
              "ticks": ""
             }
            },
            "type": "scattergl"
           }
          ],
          "scattermapbox": [
           {
            "marker": {
             "colorbar": {
              "outlinewidth": 0,
              "ticks": ""
             }
            },
            "type": "scattermapbox"
           }
          ],
          "scatterpolar": [
           {
            "marker": {
             "colorbar": {
              "outlinewidth": 0,
              "ticks": ""
             }
            },
            "type": "scatterpolar"
           }
          ],
          "scatterpolargl": [
           {
            "marker": {
             "colorbar": {
              "outlinewidth": 0,
              "ticks": ""
             }
            },
            "type": "scatterpolargl"
           }
          ],
          "scatterternary": [
           {
            "marker": {
             "colorbar": {
              "outlinewidth": 0,
              "ticks": ""
             }
            },
            "type": "scatterternary"
           }
          ],
          "surface": [
           {
            "colorbar": {
             "outlinewidth": 0,
             "ticks": ""
            },
            "colorscale": [
             [
              0,
              "#0d0887"
             ],
             [
              0.1111111111111111,
              "#46039f"
             ],
             [
              0.2222222222222222,
              "#7201a8"
             ],
             [
              0.3333333333333333,
              "#9c179e"
             ],
             [
              0.4444444444444444,
              "#bd3786"
             ],
             [
              0.5555555555555556,
              "#d8576b"
             ],
             [
              0.6666666666666666,
              "#ed7953"
             ],
             [
              0.7777777777777778,
              "#fb9f3a"
             ],
             [
              0.8888888888888888,
              "#fdca26"
             ],
             [
              1,
              "#f0f921"
             ]
            ],
            "type": "surface"
           }
          ],
          "table": [
           {
            "cells": {
             "fill": {
              "color": "#EBF0F8"
             },
             "line": {
              "color": "white"
             }
            },
            "header": {
             "fill": {
              "color": "#C8D4E3"
             },
             "line": {
              "color": "white"
             }
            },
            "type": "table"
           }
          ]
         },
         "layout": {
          "annotationdefaults": {
           "arrowcolor": "#2a3f5f",
           "arrowhead": 0,
           "arrowwidth": 1
          },
          "autotypenumbers": "strict",
          "coloraxis": {
           "colorbar": {
            "outlinewidth": 0,
            "ticks": ""
           }
          },
          "colorscale": {
           "diverging": [
            [
             0,
             "#8e0152"
            ],
            [
             0.1,
             "#c51b7d"
            ],
            [
             0.2,
             "#de77ae"
            ],
            [
             0.3,
             "#f1b6da"
            ],
            [
             0.4,
             "#fde0ef"
            ],
            [
             0.5,
             "#f7f7f7"
            ],
            [
             0.6,
             "#e6f5d0"
            ],
            [
             0.7,
             "#b8e186"
            ],
            [
             0.8,
             "#7fbc41"
            ],
            [
             0.9,
             "#4d9221"
            ],
            [
             1,
             "#276419"
            ]
           ],
           "sequential": [
            [
             0,
             "#0d0887"
            ],
            [
             0.1111111111111111,
             "#46039f"
            ],
            [
             0.2222222222222222,
             "#7201a8"
            ],
            [
             0.3333333333333333,
             "#9c179e"
            ],
            [
             0.4444444444444444,
             "#bd3786"
            ],
            [
             0.5555555555555556,
             "#d8576b"
            ],
            [
             0.6666666666666666,
             "#ed7953"
            ],
            [
             0.7777777777777778,
             "#fb9f3a"
            ],
            [
             0.8888888888888888,
             "#fdca26"
            ],
            [
             1,
             "#f0f921"
            ]
           ],
           "sequentialminus": [
            [
             0,
             "#0d0887"
            ],
            [
             0.1111111111111111,
             "#46039f"
            ],
            [
             0.2222222222222222,
             "#7201a8"
            ],
            [
             0.3333333333333333,
             "#9c179e"
            ],
            [
             0.4444444444444444,
             "#bd3786"
            ],
            [
             0.5555555555555556,
             "#d8576b"
            ],
            [
             0.6666666666666666,
             "#ed7953"
            ],
            [
             0.7777777777777778,
             "#fb9f3a"
            ],
            [
             0.8888888888888888,
             "#fdca26"
            ],
            [
             1,
             "#f0f921"
            ]
           ]
          },
          "colorway": [
           "#636efa",
           "#EF553B",
           "#00cc96",
           "#ab63fa",
           "#FFA15A",
           "#19d3f3",
           "#FF6692",
           "#B6E880",
           "#FF97FF",
           "#FECB52"
          ],
          "font": {
           "color": "#2a3f5f"
          },
          "geo": {
           "bgcolor": "white",
           "lakecolor": "white",
           "landcolor": "#E5ECF6",
           "showlakes": true,
           "showland": true,
           "subunitcolor": "white"
          },
          "hoverlabel": {
           "align": "left"
          },
          "hovermode": "closest",
          "mapbox": {
           "style": "light"
          },
          "paper_bgcolor": "white",
          "plot_bgcolor": "#E5ECF6",
          "polar": {
           "angularaxis": {
            "gridcolor": "white",
            "linecolor": "white",
            "ticks": ""
           },
           "bgcolor": "#E5ECF6",
           "radialaxis": {
            "gridcolor": "white",
            "linecolor": "white",
            "ticks": ""
           }
          },
          "scene": {
           "xaxis": {
            "backgroundcolor": "#E5ECF6",
            "gridcolor": "white",
            "gridwidth": 2,
            "linecolor": "white",
            "showbackground": true,
            "ticks": "",
            "zerolinecolor": "white"
           },
           "yaxis": {
            "backgroundcolor": "#E5ECF6",
            "gridcolor": "white",
            "gridwidth": 2,
            "linecolor": "white",
            "showbackground": true,
            "ticks": "",
            "zerolinecolor": "white"
           },
           "zaxis": {
            "backgroundcolor": "#E5ECF6",
            "gridcolor": "white",
            "gridwidth": 2,
            "linecolor": "white",
            "showbackground": true,
            "ticks": "",
            "zerolinecolor": "white"
           }
          },
          "shapedefaults": {
           "line": {
            "color": "#2a3f5f"
           }
          },
          "ternary": {
           "aaxis": {
            "gridcolor": "white",
            "linecolor": "white",
            "ticks": ""
           },
           "baxis": {
            "gridcolor": "white",
            "linecolor": "white",
            "ticks": ""
           },
           "bgcolor": "#E5ECF6",
           "caxis": {
            "gridcolor": "white",
            "linecolor": "white",
            "ticks": ""
           }
          },
          "title": {
           "x": 0.05
          },
          "xaxis": {
           "automargin": true,
           "gridcolor": "white",
           "linecolor": "white",
           "ticks": "",
           "title": {
            "standoff": 15
           },
           "zerolinecolor": "white",
           "zerolinewidth": 2
          },
          "yaxis": {
           "automargin": true,
           "gridcolor": "white",
           "linecolor": "white",
           "ticks": "",
           "title": {
            "standoff": 15
           },
           "zerolinecolor": "white",
           "zerolinewidth": 2
          }
         }
        },
        "xaxis": {
         "anchor": "y",
         "domain": [
          0,
          1
         ],
         "title": {
          "text": "Date"
         }
        },
        "yaxis": {
         "anchor": "x",
         "domain": [
          0,
          1
         ],
         "title": {
          "text": "value"
         }
        }
       }
      },
      "text/html": [
       "<div>                            <div id=\"2d70ab75-021b-460e-a93b-a1eaeb4fe906\" class=\"plotly-graph-div\" style=\"height:525px; width:100%;\"></div>            <script type=\"text/javascript\">                require([\"plotly\"], function(Plotly) {                    window.PLOTLYENV=window.PLOTLYENV || {};                                    if (document.getElementById(\"2d70ab75-021b-460e-a93b-a1eaeb4fe906\")) {                    Plotly.newPlot(                        \"2d70ab75-021b-460e-a93b-a1eaeb4fe906\",                        [{\"hovertemplate\":\"variable=Close\\u003cbr\\u003eDate=%{x}\\u003cbr\\u003evalue=%{y}\\u003cextra\\u003e\\u003c\\u002fextra\\u003e\",\"legendgroup\":\"Close\",\"line\":{\"color\":\"#636efa\",\"dash\":\"solid\"},\"marker\":{\"symbol\":\"circle\"},\"mode\":\"lines\",\"name\":\"Close\",\"orientation\":\"v\",\"showlegend\":true,\"x\":[\"2020-01-02T00:00:00\",\"2020-01-03T00:00:00\",\"2020-01-06T00:00:00\",\"2020-01-07T00:00:00\",\"2020-01-08T00:00:00\",\"2020-01-09T00:00:00\",\"2020-01-10T00:00:00\",\"2020-01-13T00:00:00\",\"2020-01-14T00:00:00\",\"2020-01-15T00:00:00\",\"2020-01-16T00:00:00\",\"2020-01-17T00:00:00\",\"2020-01-21T00:00:00\",\"2020-01-22T00:00:00\",\"2020-01-23T00:00:00\",\"2020-01-24T00:00:00\",\"2020-01-27T00:00:00\",\"2020-01-28T00:00:00\",\"2020-01-29T00:00:00\",\"2020-01-30T00:00:00\",\"2020-01-31T00:00:00\",\"2020-02-03T00:00:00\",\"2020-02-04T00:00:00\",\"2020-02-05T00:00:00\",\"2020-02-06T00:00:00\",\"2020-02-07T00:00:00\",\"2020-02-10T00:00:00\",\"2020-02-11T00:00:00\",\"2020-02-12T00:00:00\",\"2020-02-13T00:00:00\",\"2020-02-14T00:00:00\",\"2020-02-18T00:00:00\",\"2020-02-19T00:00:00\",\"2020-02-20T00:00:00\",\"2020-02-21T00:00:00\",\"2020-02-24T00:00:00\",\"2020-02-25T00:00:00\",\"2020-02-26T00:00:00\",\"2020-02-27T00:00:00\",\"2020-02-28T00:00:00\",\"2020-03-02T00:00:00\",\"2020-03-03T00:00:00\",\"2020-03-04T00:00:00\",\"2020-03-05T00:00:00\",\"2020-03-06T00:00:00\",\"2020-03-09T00:00:00\",\"2020-03-10T00:00:00\",\"2020-03-11T00:00:00\",\"2020-03-12T00:00:00\",\"2020-03-13T00:00:00\",\"2020-03-16T00:00:00\",\"2020-03-17T00:00:00\",\"2020-03-18T00:00:00\",\"2020-03-19T00:00:00\",\"2020-03-20T00:00:00\",\"2020-03-23T00:00:00\",\"2020-03-24T00:00:00\",\"2020-03-25T00:00:00\",\"2020-03-26T00:00:00\",\"2020-03-27T00:00:00\",\"2020-03-30T00:00:00\",\"2020-03-31T00:00:00\",\"2020-04-01T00:00:00\",\"2020-04-02T00:00:00\",\"2020-04-03T00:00:00\",\"2020-04-06T00:00:00\",\"2020-04-07T00:00:00\",\"2020-04-08T00:00:00\",\"2020-04-09T00:00:00\",\"2020-04-13T00:00:00\",\"2020-04-14T00:00:00\",\"2020-04-15T00:00:00\",\"2020-04-16T00:00:00\",\"2020-04-17T00:00:00\",\"2020-04-20T00:00:00\",\"2020-04-21T00:00:00\",\"2020-04-22T00:00:00\",\"2020-04-23T00:00:00\",\"2020-04-24T00:00:00\",\"2020-04-27T00:00:00\",\"2020-04-28T00:00:00\",\"2020-04-29T00:00:00\",\"2020-04-30T00:00:00\",\"2020-05-01T00:00:00\",\"2020-05-04T00:00:00\",\"2020-05-05T00:00:00\",\"2020-05-06T00:00:00\",\"2020-05-07T00:00:00\",\"2020-05-08T00:00:00\",\"2020-05-11T00:00:00\",\"2020-05-12T00:00:00\",\"2020-05-13T00:00:00\",\"2020-05-14T00:00:00\",\"2020-05-15T00:00:00\",\"2020-05-18T00:00:00\",\"2020-05-19T00:00:00\",\"2020-05-20T00:00:00\",\"2020-05-21T00:00:00\",\"2020-05-22T00:00:00\",\"2020-05-26T00:00:00\",\"2020-05-27T00:00:00\",\"2020-05-28T00:00:00\",\"2020-05-29T00:00:00\",\"2020-06-01T00:00:00\",\"2020-06-02T00:00:00\",\"2020-06-03T00:00:00\",\"2020-06-04T00:00:00\",\"2020-06-05T00:00:00\",\"2020-06-08T00:00:00\",\"2020-06-09T00:00:00\",\"2020-06-10T00:00:00\",\"2020-06-11T00:00:00\",\"2020-06-12T00:00:00\",\"2020-06-15T00:00:00\",\"2020-06-16T00:00:00\",\"2020-06-17T00:00:00\",\"2020-06-18T00:00:00\",\"2020-06-19T00:00:00\",\"2020-06-22T00:00:00\",\"2020-06-23T00:00:00\",\"2020-06-24T00:00:00\",\"2020-06-25T00:00:00\",\"2020-06-26T00:00:00\",\"2020-06-29T00:00:00\",\"2020-06-30T00:00:00\",\"2020-07-01T00:00:00\",\"2020-07-02T00:00:00\",\"2020-07-06T00:00:00\",\"2020-07-07T00:00:00\",\"2020-07-08T00:00:00\",\"2020-07-09T00:00:00\",\"2020-07-10T00:00:00\",\"2020-07-13T00:00:00\",\"2020-07-14T00:00:00\",\"2020-07-15T00:00:00\",\"2020-07-16T00:00:00\",\"2020-07-17T00:00:00\",\"2020-07-20T00:00:00\",\"2020-07-21T00:00:00\",\"2020-07-22T00:00:00\",\"2020-07-23T00:00:00\",\"2020-07-24T00:00:00\",\"2020-07-27T00:00:00\",\"2020-07-28T00:00:00\",\"2020-07-29T00:00:00\",\"2020-07-30T00:00:00\",\"2020-07-31T00:00:00\",\"2020-08-03T00:00:00\",\"2020-08-04T00:00:00\",\"2020-08-05T00:00:00\",\"2020-08-06T00:00:00\",\"2020-08-07T00:00:00\",\"2020-08-10T00:00:00\",\"2020-08-11T00:00:00\",\"2020-08-12T00:00:00\",\"2020-08-13T00:00:00\",\"2020-08-14T00:00:00\",\"2020-08-17T00:00:00\",\"2020-08-18T00:00:00\",\"2020-08-19T00:00:00\",\"2020-08-20T00:00:00\",\"2020-08-21T00:00:00\",\"2020-08-24T00:00:00\",\"2020-08-25T00:00:00\",\"2020-08-26T00:00:00\",\"2020-08-27T00:00:00\",\"2020-08-28T00:00:00\",\"2020-08-31T00:00:00\",\"2020-09-01T00:00:00\",\"2020-09-02T00:00:00\",\"2020-09-03T00:00:00\",\"2020-09-04T00:00:00\",\"2020-09-08T00:00:00\",\"2020-09-09T00:00:00\",\"2020-09-10T00:00:00\",\"2020-09-11T00:00:00\",\"2020-09-14T00:00:00\",\"2020-09-15T00:00:00\",\"2020-09-16T00:00:00\",\"2020-09-17T00:00:00\",\"2020-09-18T00:00:00\",\"2020-09-21T00:00:00\",\"2020-09-22T00:00:00\",\"2020-09-23T00:00:00\",\"2020-09-24T00:00:00\",\"2020-09-25T00:00:00\",\"2020-09-28T00:00:00\",\"2020-09-29T00:00:00\",\"2020-09-30T00:00:00\",\"2020-10-01T00:00:00\",\"2020-10-02T00:00:00\",\"2020-10-05T00:00:00\",\"2020-10-06T00:00:00\",\"2020-10-07T00:00:00\",\"2020-10-08T00:00:00\",\"2020-10-09T00:00:00\",\"2020-10-12T00:00:00\",\"2020-10-13T00:00:00\",\"2020-10-14T00:00:00\",\"2020-10-15T00:00:00\",\"2020-10-16T00:00:00\",\"2020-10-19T00:00:00\",\"2020-10-20T00:00:00\",\"2020-10-21T00:00:00\",\"2020-10-22T00:00:00\",\"2020-10-23T00:00:00\",\"2020-10-26T00:00:00\",\"2020-10-27T00:00:00\",\"2020-10-28T00:00:00\",\"2020-10-29T00:00:00\",\"2020-10-30T00:00:00\",\"2020-11-02T00:00:00\",\"2020-11-03T00:00:00\",\"2020-11-04T00:00:00\",\"2020-11-05T00:00:00\",\"2020-11-06T00:00:00\",\"2020-11-09T00:00:00\",\"2020-11-10T00:00:00\",\"2020-11-11T00:00:00\",\"2020-11-12T00:00:00\",\"2020-11-13T00:00:00\",\"2020-11-16T00:00:00\",\"2020-11-17T00:00:00\",\"2020-11-18T00:00:00\",\"2020-11-19T00:00:00\",\"2020-11-20T00:00:00\",\"2020-11-23T00:00:00\",\"2020-11-24T00:00:00\",\"2020-11-25T00:00:00\",\"2020-11-27T00:00:00\",\"2020-11-30T00:00:00\",\"2020-12-01T00:00:00\",\"2020-12-02T00:00:00\",\"2020-12-03T00:00:00\",\"2020-12-04T00:00:00\",\"2020-12-07T00:00:00\",\"2020-12-08T00:00:00\",\"2020-12-09T00:00:00\",\"2020-12-10T00:00:00\",\"2020-12-11T00:00:00\",\"2020-12-14T00:00:00\",\"2020-12-15T00:00:00\",\"2020-12-16T00:00:00\",\"2020-12-17T00:00:00\",\"2020-12-18T00:00:00\",\"2020-12-21T00:00:00\",\"2020-12-22T00:00:00\",\"2020-12-23T00:00:00\",\"2020-12-24T00:00:00\",\"2020-12-28T00:00:00\",\"2020-12-29T00:00:00\",\"2020-12-30T00:00:00\",\"2020-12-31T00:00:00\",\"2021-01-04T00:00:00\",\"2021-01-05T00:00:00\",\"2021-01-06T00:00:00\",\"2021-01-07T00:00:00\",\"2021-01-08T00:00:00\",\"2021-01-11T00:00:00\",\"2021-01-12T00:00:00\",\"2021-01-13T00:00:00\",\"2021-01-14T00:00:00\",\"2021-01-15T00:00:00\",\"2021-01-19T00:00:00\",\"2021-01-20T00:00:00\",\"2021-01-21T00:00:00\",\"2021-01-22T00:00:00\",\"2021-01-25T00:00:00\",\"2021-01-26T00:00:00\",\"2021-01-27T00:00:00\",\"2021-01-28T00:00:00\",\"2021-01-29T00:00:00\",\"2021-02-01T00:00:00\",\"2021-02-02T00:00:00\",\"2021-02-03T00:00:00\",\"2021-02-04T00:00:00\",\"2021-02-05T00:00:00\",\"2021-02-08T00:00:00\",\"2021-02-09T00:00:00\",\"2021-02-10T00:00:00\",\"2021-02-11T00:00:00\",\"2021-02-12T00:00:00\",\"2021-02-16T00:00:00\",\"2021-02-17T00:00:00\",\"2021-02-18T00:00:00\",\"2021-02-19T00:00:00\",\"2021-02-22T00:00:00\",\"2021-02-23T00:00:00\",\"2021-02-24T00:00:00\",\"2021-02-25T00:00:00\",\"2021-02-26T00:00:00\",\"2021-03-01T00:00:00\",\"2021-03-02T00:00:00\",\"2021-03-03T00:00:00\",\"2021-03-04T00:00:00\",\"2021-03-05T00:00:00\",\"2021-03-08T00:00:00\",\"2021-03-09T00:00:00\",\"2021-03-10T00:00:00\",\"2021-03-11T00:00:00\",\"2021-03-12T00:00:00\",\"2021-03-15T00:00:00\",\"2021-03-16T00:00:00\",\"2021-03-17T00:00:00\",\"2021-03-18T00:00:00\",\"2021-03-19T00:00:00\",\"2021-03-22T00:00:00\",\"2021-03-23T00:00:00\",\"2021-03-24T00:00:00\",\"2021-03-25T00:00:00\",\"2021-03-26T00:00:00\",\"2021-03-29T00:00:00\",\"2021-03-30T00:00:00\",\"2021-03-31T00:00:00\",\"2021-04-01T00:00:00\",\"2021-04-05T00:00:00\",\"2021-04-06T00:00:00\",\"2021-04-07T00:00:00\",\"2021-04-08T00:00:00\",\"2021-04-09T00:00:00\",\"2021-04-12T00:00:00\",\"2021-04-13T00:00:00\",\"2021-04-14T00:00:00\",\"2021-04-15T00:00:00\",\"2021-04-16T00:00:00\",\"2021-04-19T00:00:00\",\"2021-04-20T00:00:00\",\"2021-04-21T00:00:00\",\"2021-04-22T00:00:00\",\"2021-04-23T00:00:00\",\"2021-04-26T00:00:00\",\"2021-04-27T00:00:00\",\"2021-04-28T00:00:00\",\"2021-04-29T00:00:00\",\"2021-04-30T00:00:00\",\"2021-05-03T00:00:00\",\"2021-05-04T00:00:00\",\"2021-05-05T00:00:00\",\"2021-05-06T00:00:00\",\"2021-05-07T00:00:00\",\"2021-05-10T00:00:00\",\"2021-05-11T00:00:00\",\"2021-05-12T00:00:00\",\"2021-05-13T00:00:00\",\"2021-05-14T00:00:00\",\"2021-05-17T00:00:00\",\"2021-05-18T00:00:00\",\"2021-05-19T00:00:00\",\"2021-05-20T00:00:00\",\"2021-05-21T00:00:00\",\"2021-05-24T00:00:00\",\"2021-05-25T00:00:00\",\"2021-05-26T00:00:00\",\"2021-05-27T00:00:00\",\"2021-05-28T00:00:00\",\"2021-06-01T00:00:00\",\"2021-06-02T00:00:00\",\"2021-06-03T00:00:00\",\"2021-06-04T00:00:00\",\"2021-06-07T00:00:00\",\"2021-06-08T00:00:00\",\"2021-06-09T00:00:00\",\"2021-06-10T00:00:00\",\"2021-06-11T00:00:00\",\"2021-06-14T00:00:00\",\"2021-06-15T00:00:00\",\"2021-06-16T00:00:00\",\"2021-06-17T00:00:00\",\"2021-06-18T00:00:00\",\"2021-06-21T00:00:00\",\"2021-06-22T00:00:00\",\"2021-06-23T00:00:00\",\"2021-06-24T00:00:00\",\"2021-06-25T00:00:00\",\"2021-06-28T00:00:00\",\"2021-06-29T00:00:00\",\"2021-06-30T00:00:00\",\"2021-07-01T00:00:00\",\"2021-07-02T00:00:00\",\"2021-07-06T00:00:00\",\"2021-07-07T00:00:00\",\"2021-07-08T00:00:00\",\"2021-07-09T00:00:00\",\"2021-07-12T00:00:00\",\"2021-07-13T00:00:00\",\"2021-07-14T00:00:00\",\"2021-07-15T00:00:00\",\"2021-07-16T00:00:00\",\"2021-07-19T00:00:00\",\"2021-07-20T00:00:00\",\"2021-07-21T00:00:00\",\"2021-07-22T00:00:00\",\"2021-07-23T00:00:00\",\"2021-07-26T00:00:00\",\"2021-07-27T00:00:00\",\"2021-07-28T00:00:00\",\"2021-07-29T00:00:00\",\"2021-07-30T00:00:00\",\"2021-08-02T00:00:00\",\"2021-08-03T00:00:00\",\"2021-08-04T00:00:00\",\"2021-08-05T00:00:00\",\"2021-08-06T00:00:00\",\"2021-08-09T00:00:00\",\"2021-08-10T00:00:00\",\"2021-08-11T00:00:00\",\"2021-08-12T00:00:00\",\"2021-08-13T00:00:00\",\"2021-08-16T00:00:00\",\"2021-08-17T00:00:00\",\"2021-08-18T00:00:00\",\"2021-08-19T00:00:00\",\"2021-08-20T00:00:00\",\"2021-08-23T00:00:00\",\"2021-08-24T00:00:00\",\"2021-08-25T00:00:00\",\"2021-08-26T00:00:00\",\"2021-08-27T00:00:00\",\"2021-08-30T00:00:00\",\"2021-08-31T00:00:00\",\"2021-09-01T00:00:00\",\"2021-09-02T00:00:00\",\"2021-09-03T00:00:00\",\"2021-09-07T00:00:00\",\"2021-09-08T00:00:00\",\"2021-09-09T00:00:00\",\"2021-09-10T00:00:00\",\"2021-09-13T00:00:00\",\"2021-09-14T00:00:00\",\"2021-09-15T00:00:00\",\"2021-09-16T00:00:00\",\"2021-09-17T00:00:00\",\"2021-09-20T00:00:00\",\"2021-09-21T00:00:00\",\"2021-09-22T00:00:00\",\"2021-09-23T00:00:00\",\"2021-09-24T00:00:00\",\"2021-09-27T00:00:00\",\"2021-09-28T00:00:00\",\"2021-09-29T00:00:00\",\"2021-09-30T00:00:00\",\"2021-10-01T00:00:00\",\"2021-10-04T00:00:00\",\"2021-10-05T00:00:00\",\"2021-10-06T00:00:00\",\"2021-10-07T00:00:00\",\"2021-10-08T00:00:00\",\"2021-10-11T00:00:00\",\"2021-10-12T00:00:00\",\"2021-10-13T00:00:00\",\"2021-10-14T00:00:00\",\"2021-10-15T00:00:00\",\"2021-10-18T00:00:00\",\"2021-10-19T00:00:00\",\"2021-10-20T00:00:00\",\"2021-10-21T00:00:00\",\"2021-10-22T00:00:00\",\"2021-10-25T00:00:00\",\"2021-10-26T00:00:00\",\"2021-10-27T00:00:00\",\"2021-10-28T00:00:00\",\"2021-10-29T00:00:00\",\"2021-11-01T00:00:00\",\"2021-11-02T00:00:00\",\"2021-11-03T00:00:00\",\"2021-11-04T00:00:00\",\"2021-11-05T00:00:00\",\"2021-11-08T00:00:00\",\"2021-11-09T00:00:00\",\"2021-11-10T00:00:00\",\"2021-11-11T00:00:00\",\"2021-11-12T00:00:00\",\"2021-11-15T00:00:00\",\"2021-11-16T00:00:00\",\"2021-11-17T00:00:00\",\"2021-11-18T00:00:00\",\"2021-11-19T00:00:00\",\"2021-11-22T00:00:00\",\"2021-11-23T00:00:00\",\"2021-11-24T00:00:00\",\"2021-11-26T00:00:00\",\"2021-11-29T00:00:00\",\"2021-11-30T00:00:00\",\"2021-12-01T00:00:00\",\"2021-12-02T00:00:00\",\"2021-12-03T00:00:00\",\"2021-12-06T00:00:00\",\"2021-12-07T00:00:00\",\"2021-12-08T00:00:00\",\"2021-12-09T00:00:00\",\"2021-12-10T00:00:00\",\"2021-12-13T00:00:00\",\"2021-12-14T00:00:00\",\"2021-12-15T00:00:00\",\"2021-12-16T00:00:00\",\"2021-12-17T00:00:00\",\"2021-12-20T00:00:00\",\"2021-12-21T00:00:00\",\"2021-12-22T00:00:00\",\"2021-12-23T00:00:00\",\"2021-12-27T00:00:00\",\"2021-12-28T00:00:00\",\"2021-12-29T00:00:00\",\"2021-12-30T00:00:00\",\"2021-12-31T00:00:00\",\"2022-01-03T00:00:00\",\"2022-01-04T00:00:00\",\"2022-01-05T00:00:00\",\"2022-01-06T00:00:00\",\"2022-01-07T00:00:00\",\"2022-01-10T00:00:00\",\"2022-01-11T00:00:00\",\"2022-01-12T00:00:00\",\"2022-01-13T00:00:00\",\"2022-01-14T00:00:00\",\"2022-01-18T00:00:00\",\"2022-01-19T00:00:00\",\"2022-01-20T00:00:00\",\"2022-01-21T00:00:00\",\"2022-01-24T00:00:00\",\"2022-01-25T00:00:00\",\"2022-01-26T00:00:00\",\"2022-01-27T00:00:00\",\"2022-01-28T00:00:00\",\"2022-01-31T00:00:00\",\"2022-02-01T00:00:00\",\"2022-02-02T00:00:00\",\"2022-02-03T00:00:00\",\"2022-02-04T00:00:00\",\"2022-02-07T00:00:00\",\"2022-02-08T00:00:00\",\"2022-02-09T00:00:00\",\"2022-02-10T00:00:00\",\"2022-02-11T00:00:00\",\"2022-02-14T00:00:00\",\"2022-02-15T00:00:00\",\"2022-02-16T00:00:00\",\"2022-02-17T00:00:00\",\"2022-02-18T00:00:00\",\"2022-02-22T00:00:00\",\"2022-02-23T00:00:00\",\"2022-02-24T00:00:00\",\"2022-02-25T00:00:00\",\"2022-02-28T00:00:00\",\"2022-03-01T00:00:00\",\"2022-03-02T00:00:00\",\"2022-03-03T00:00:00\",\"2022-03-04T00:00:00\",\"2022-03-07T00:00:00\",\"2022-03-08T00:00:00\",\"2022-03-09T00:00:00\",\"2022-03-10T00:00:00\",\"2022-03-11T00:00:00\",\"2022-03-14T00:00:00\",\"2022-03-15T00:00:00\",\"2022-03-16T00:00:00\",\"2022-03-17T00:00:00\",\"2022-03-18T00:00:00\",\"2022-03-21T00:00:00\",\"2022-03-22T00:00:00\",\"2022-03-23T00:00:00\",\"2022-03-24T00:00:00\",\"2022-03-25T00:00:00\",\"2022-03-28T00:00:00\",\"2022-03-29T00:00:00\",\"2022-03-30T00:00:00\",\"2022-03-31T00:00:00\",\"2022-04-01T00:00:00\",\"2022-04-04T00:00:00\",\"2022-04-05T00:00:00\",\"2022-04-06T00:00:00\",\"2022-04-07T00:00:00\",\"2022-04-08T00:00:00\",\"2022-04-11T00:00:00\",\"2022-04-12T00:00:00\",\"2022-04-13T00:00:00\",\"2022-04-14T00:00:00\",\"2022-04-18T00:00:00\",\"2022-04-19T00:00:00\",\"2022-04-20T00:00:00\",\"2022-04-21T00:00:00\",\"2022-04-22T00:00:00\",\"2022-04-25T00:00:00\",\"2022-04-26T00:00:00\",\"2022-04-27T00:00:00\",\"2022-04-28T00:00:00\",\"2022-04-29T00:00:00\",\"2022-05-02T00:00:00\",\"2022-05-03T00:00:00\",\"2022-05-04T00:00:00\",\"2022-05-05T00:00:00\",\"2022-05-06T00:00:00\",\"2022-05-09T00:00:00\",\"2022-05-10T00:00:00\",\"2022-05-11T00:00:00\",\"2022-05-12T00:00:00\",\"2022-05-13T00:00:00\",\"2022-05-16T00:00:00\",\"2022-05-17T00:00:00\",\"2022-05-18T00:00:00\",\"2022-05-19T00:00:00\",\"2022-05-20T00:00:00\",\"2022-05-23T00:00:00\",\"2022-05-24T00:00:00\",\"2022-05-25T00:00:00\",\"2022-05-26T00:00:00\",\"2022-05-27T00:00:00\",\"2022-05-31T00:00:00\",\"2022-06-01T00:00:00\",\"2022-06-02T00:00:00\",\"2022-06-03T00:00:00\",\"2022-06-06T00:00:00\",\"2022-06-07T00:00:00\",\"2022-06-08T00:00:00\",\"2022-06-09T00:00:00\",\"2022-06-10T00:00:00\",\"2022-06-13T00:00:00\",\"2022-06-14T00:00:00\",\"2022-06-15T00:00:00\",\"2022-06-16T00:00:00\",\"2022-06-17T00:00:00\",\"2022-06-21T00:00:00\",\"2022-06-22T00:00:00\",\"2022-06-23T00:00:00\",\"2022-06-24T00:00:00\",\"2022-06-27T00:00:00\",\"2022-06-28T00:00:00\",\"2022-06-29T00:00:00\",\"2022-06-30T00:00:00\",\"2022-07-01T00:00:00\",\"2022-07-05T00:00:00\",\"2022-07-06T00:00:00\",\"2022-07-07T00:00:00\",\"2022-07-08T00:00:00\",\"2022-07-11T00:00:00\",\"2022-07-12T00:00:00\",\"2022-07-13T00:00:00\",\"2022-07-14T00:00:00\",\"2022-07-15T00:00:00\",\"2022-07-18T00:00:00\",\"2022-07-19T00:00:00\",\"2022-07-20T00:00:00\",\"2022-07-21T00:00:00\",\"2022-07-22T00:00:00\",\"2022-07-25T00:00:00\",\"2022-07-26T00:00:00\",\"2022-07-27T00:00:00\",\"2022-07-28T00:00:00\",\"2022-07-29T00:00:00\",\"2022-08-01T00:00:00\",\"2022-08-02T00:00:00\",\"2022-08-03T00:00:00\",\"2022-08-04T00:00:00\",\"2022-08-05T00:00:00\",\"2022-08-08T00:00:00\",\"2022-08-09T00:00:00\",\"2022-08-10T00:00:00\",\"2022-08-11T00:00:00\",\"2022-08-12T00:00:00\",\"2022-08-15T00:00:00\",\"2022-08-16T00:00:00\",\"2022-08-17T00:00:00\",\"2022-08-18T00:00:00\",\"2022-08-19T00:00:00\",\"2022-08-22T00:00:00\",\"2022-08-23T00:00:00\",\"2022-08-24T00:00:00\",\"2022-08-25T00:00:00\",\"2022-08-26T00:00:00\",\"2022-08-29T00:00:00\",\"2022-08-30T00:00:00\",\"2022-08-31T00:00:00\",\"2022-09-01T00:00:00\",\"2022-09-02T00:00:00\",\"2022-09-06T00:00:00\",\"2022-09-07T00:00:00\",\"2022-09-08T00:00:00\",\"2022-09-09T00:00:00\",\"2022-09-12T00:00:00\",\"2022-09-13T00:00:00\",\"2022-09-14T00:00:00\",\"2022-09-15T00:00:00\",\"2022-09-16T00:00:00\",\"2022-09-19T00:00:00\",\"2022-09-20T00:00:00\",\"2022-09-21T00:00:00\",\"2022-09-22T00:00:00\",\"2022-09-23T00:00:00\",\"2022-09-26T00:00:00\",\"2022-09-27T00:00:00\",\"2022-09-28T00:00:00\",\"2022-09-29T00:00:00\",\"2022-09-30T00:00:00\",\"2022-10-03T00:00:00\",\"2022-10-04T00:00:00\",\"2022-10-05T00:00:00\",\"2022-10-06T00:00:00\",\"2022-10-07T00:00:00\",\"2022-10-10T00:00:00\",\"2022-10-11T00:00:00\",\"2022-10-12T00:00:00\",\"2022-10-13T00:00:00\",\"2022-10-14T00:00:00\",\"2022-10-17T00:00:00\",\"2022-10-18T00:00:00\",\"2022-10-19T00:00:00\",\"2022-10-20T00:00:00\",\"2022-10-21T00:00:00\",\"2022-10-24T00:00:00\",\"2022-10-25T00:00:00\",\"2022-10-26T00:00:00\",\"2022-10-27T00:00:00\",\"2022-10-28T00:00:00\",\"2022-10-31T00:00:00\",\"2022-11-01T00:00:00\",\"2022-11-02T00:00:00\",\"2022-11-03T00:00:00\",\"2022-11-04T00:00:00\",\"2022-11-07T00:00:00\",\"2022-11-08T00:00:00\",\"2022-11-09T00:00:00\",\"2022-11-10T00:00:00\",\"2022-11-11T00:00:00\",\"2022-11-14T00:00:00\",\"2022-11-15T00:00:00\",\"2022-11-16T00:00:00\",\"2022-11-17T00:00:00\",\"2022-11-18T00:00:00\",\"2022-11-21T00:00:00\",\"2022-11-22T00:00:00\",\"2022-11-23T00:00:00\",\"2022-11-25T00:00:00\",\"2022-11-28T00:00:00\",\"2022-11-29T00:00:00\",\"2022-11-30T00:00:00\",\"2022-12-01T00:00:00\",\"2022-12-02T00:00:00\",\"2022-12-05T00:00:00\",\"2022-12-06T00:00:00\",\"2022-12-07T00:00:00\",\"2022-12-08T00:00:00\",\"2022-12-09T00:00:00\",\"2022-12-12T00:00:00\",\"2022-12-13T00:00:00\",\"2022-12-14T00:00:00\",\"2022-12-15T00:00:00\",\"2022-12-16T00:00:00\",\"2022-12-19T00:00:00\",\"2022-12-20T00:00:00\",\"2022-12-21T00:00:00\",\"2022-12-22T00:00:00\",\"2022-12-23T00:00:00\",\"2022-12-27T00:00:00\",\"2022-12-28T00:00:00\",\"2022-12-29T00:00:00\",\"2022-12-30T00:00:00\",\"2023-01-03T00:00:00\",\"2023-01-04T00:00:00\",\"2023-01-05T00:00:00\",\"2023-01-06T00:00:00\",\"2023-01-09T00:00:00\",\"2023-01-10T00:00:00\",\"2023-01-11T00:00:00\",\"2023-01-12T00:00:00\",\"2023-01-13T00:00:00\",\"2023-01-17T00:00:00\",\"2023-01-18T00:00:00\",\"2023-01-19T00:00:00\",\"2023-01-20T00:00:00\",\"2023-01-23T00:00:00\",\"2023-01-24T00:00:00\",\"2023-01-25T00:00:00\",\"2023-01-26T00:00:00\",\"2023-01-27T00:00:00\",\"2023-01-30T00:00:00\",\"2023-01-31T00:00:00\",\"2023-02-01T00:00:00\",\"2023-02-02T00:00:00\",\"2023-02-03T00:00:00\",\"2023-02-06T00:00:00\",\"2023-02-07T00:00:00\",\"2023-02-08T00:00:00\",\"2023-02-09T00:00:00\",\"2023-02-10T00:00:00\",\"2023-02-13T00:00:00\",\"2023-02-14T00:00:00\",\"2023-02-15T00:00:00\",\"2023-02-16T00:00:00\",\"2023-02-17T00:00:00\",\"2023-02-21T00:00:00\",\"2023-02-22T00:00:00\",\"2023-02-23T00:00:00\",\"2023-02-24T00:00:00\",\"2023-02-27T00:00:00\",\"2023-02-28T00:00:00\",\"2023-03-01T00:00:00\",\"2023-03-02T00:00:00\",\"2023-03-03T00:00:00\",\"2023-03-06T00:00:00\",\"2023-03-07T00:00:00\",\"2023-03-08T00:00:00\",\"2023-03-09T00:00:00\",\"2023-03-10T00:00:00\",\"2023-03-13T00:00:00\",\"2023-03-14T00:00:00\",\"2023-03-15T00:00:00\",\"2023-03-16T00:00:00\",\"2023-03-17T00:00:00\",\"2023-03-20T00:00:00\",\"2023-03-21T00:00:00\",\"2023-03-22T00:00:00\",\"2023-03-23T00:00:00\",\"2023-03-24T00:00:00\",\"2023-03-27T00:00:00\",\"2023-03-28T00:00:00\",\"2023-03-29T00:00:00\",\"2023-03-30T00:00:00\",\"2023-03-31T00:00:00\",\"2023-04-03T00:00:00\",\"2023-04-04T00:00:00\",\"2023-04-05T00:00:00\",\"2023-04-06T00:00:00\",\"2023-04-10T00:00:00\",\"2023-04-11T00:00:00\",\"2023-04-12T00:00:00\",\"2023-04-13T00:00:00\",\"2023-04-14T00:00:00\",\"2023-04-17T00:00:00\",\"2023-04-18T00:00:00\",\"2023-04-19T00:00:00\",\"2023-04-20T00:00:00\",\"2023-04-21T00:00:00\",\"2023-04-24T00:00:00\",\"2023-04-25T00:00:00\",\"2023-04-26T00:00:00\",\"2023-04-27T00:00:00\",\"2023-04-28T00:00:00\",\"2023-05-01T00:00:00\",\"2023-05-02T00:00:00\",\"2023-05-03T00:00:00\",\"2023-05-04T00:00:00\",\"2023-05-05T00:00:00\",\"2023-05-08T00:00:00\",\"2023-05-09T00:00:00\",\"2023-05-10T00:00:00\",\"2023-05-11T00:00:00\",\"2023-05-12T00:00:00\",\"2023-05-15T00:00:00\",\"2023-05-16T00:00:00\",\"2023-05-17T00:00:00\",\"2023-05-18T00:00:00\",\"2023-05-19T00:00:00\",\"2023-05-22T00:00:00\",\"2023-05-23T00:00:00\",\"2023-05-24T00:00:00\",\"2023-05-25T00:00:00\",\"2023-05-26T00:00:00\",\"2023-05-30T00:00:00\",\"2023-05-31T00:00:00\",\"2023-06-01T00:00:00\",\"2023-06-02T00:00:00\",\"2023-06-05T00:00:00\",\"2023-06-06T00:00:00\",\"2023-06-07T00:00:00\",\"2023-06-08T00:00:00\",\"2023-06-09T00:00:00\",\"2023-06-12T00:00:00\",\"2023-06-13T00:00:00\",\"2023-06-14T00:00:00\",\"2023-06-15T00:00:00\",\"2023-06-16T00:00:00\",\"2023-06-20T00:00:00\",\"2023-06-21T00:00:00\",\"2023-06-22T00:00:00\",\"2023-06-23T00:00:00\",\"2023-06-26T00:00:00\",\"2023-06-27T00:00:00\",\"2023-06-28T00:00:00\",\"2023-06-29T00:00:00\",\"2023-06-30T00:00:00\",\"2023-07-03T00:00:00\",\"2023-07-05T00:00:00\",\"2023-07-06T00:00:00\",\"2023-07-07T00:00:00\",\"2023-07-10T00:00:00\",\"2023-07-11T00:00:00\",\"2023-07-12T00:00:00\",\"2023-07-13T00:00:00\",\"2023-07-14T00:00:00\",\"2023-07-17T00:00:00\",\"2023-07-18T00:00:00\",\"2023-07-19T00:00:00\",\"2023-07-20T00:00:00\",\"2023-07-21T00:00:00\",\"2023-07-24T00:00:00\",\"2023-07-25T00:00:00\",\"2023-07-26T00:00:00\",\"2023-07-27T00:00:00\",\"2023-07-28T00:00:00\"],\"xaxis\":\"x\",\"y\":[28.68400001525879,29.534000396728516,30.1026668548584,31.270666122436523,32.80933380126953,32.089332580566406,31.876667022705078,34.990665435791016,35.861331939697266,34.56666564941406,34.232666015625,34.03333282470703,36.47999954223633,37.97066879272461,38.14666748046875,37.654666900634766,37.201332092285156,37.793331146240234,38.732666015625,42.72066879272461,43.371334075927734,52.0,59.137332916259766,48.97999954223633,49.930667877197266,49.871334075927734,51.41866683959961,51.62533187866211,51.15266799926758,53.599998474121094,53.33533477783203,57.22666549682617,61.16133117675781,59.96066665649414,60.06666564941406,55.58599853515625,53.32733154296875,51.91999816894531,45.266666412353516,44.53266525268555,49.574668884277344,49.70066833496094,49.96666717529297,48.30266571044922,46.89866638183594,40.53333282470703,43.02199935913086,42.28200149536133,37.369998931884766,36.44133377075195,29.67133331298828,28.68000030517578,24.08133316040039,28.50933265686035,28.50200080871582,28.952667236328125,33.66666793823242,35.95000076293945,35.21066665649414,34.29066848754883,33.47533416748047,34.93333435058594,32.104000091552734,30.29800033569336,32.000667572021484,34.41600036621094,36.36333465576172,36.589332580566406,38.20000076293945,43.39666748046875,47.32600021362305,48.65533447265625,49.680667877197266,50.259334564208984,49.75733184814453,45.781333923339844,48.807334899902344,47.04199981689453,48.34333419799805,53.25,51.27466583251953,53.367332458496094,52.12533187866211,46.75466537475586,50.74599838256836,51.2140007019043,52.172000885009766,52.00266647338867,54.62799835205078,54.08599853515625,53.96066665649414,52.73066711425781,53.55533218383789,53.27799987792969,54.242000579833984,53.867332458496094,54.37066650390625,55.17333221435547,54.45866775512695,54.591331481933594,54.68199920654297,53.72066879272461,55.66666793823242,59.87333297729492,58.770668029785156,58.86399841308594,57.62533187866211,59.04399871826172,63.327999114990234,62.711334228515625,68.336669921875,64.85600280761719,62.35200119018555,66.05999755859375,65.47533416748047,66.11933135986328,66.9306640625,66.72666931152344,66.28800201416016,66.78533172607422,64.0566635131836,65.73200225830078,63.982666015625,67.29000091552734,71.98733520507812,74.64199829101562,80.57733154296875,91.43866729736328,92.65733337402344,91.05867004394531,92.9520034790039,102.97666931152344,99.80400085449219,101.12000274658203,103.06732940673828,100.04266357421875,100.05599975585938,109.53333282470703,104.55733489990234,106.15533447265625,100.87133026123047,94.46666717529297,102.63999938964844,98.43267059326172,99.94066619873047,99.16600036621094,95.38400268554688,99.0,99.13333129882812,99.00133514404297,99.30533599853516,96.84733581542969,94.57133483886719,91.6259994506836,103.65066528320312,108.06666564941406,110.04733276367188,122.3759994506836,125.80599975585938,125.23533630371094,133.45533752441406,136.6653289794922,134.27999877929688,134.8893280029297,143.54466247558594,149.25,147.55999755859375,166.10667419433594,158.35000610351562,149.1233367919922,135.6666717529297,139.44000244140625,110.06999969482422,122.09333038330078,123.77999877929688,124.23999786376953,139.8733367919922,149.9199981689453,147.25332641601562,141.14332580566406,147.38333129882812,149.79666137695312,141.41000366210938,126.78666687011719,129.26333618164062,135.77999877929688,140.39999389648438,139.69000244140625,143.00332641601562,149.3866729736328,138.3633270263672,141.89332580566406,137.9933319091797,141.76666259765625,141.97332763671875,144.6666717529297,147.43333435058594,148.88333129882812,153.76666259765625,149.6266632080078,146.55667114257812,143.61000061035156,140.64666748046875,140.8800048828125,141.92999267578125,140.2100067138672,140.0933380126953,141.55999755859375,135.33999633789062,136.94332885742188,129.34666442871094,133.50332641601562,141.3000030517578,140.32666015625,146.02999877929688,143.31666564941406,140.4199981689453,136.7866668701172,139.0433349609375,137.25332641601562,136.1666717529297,136.02999877929688,147.20333862304688,162.2133331298828,166.42333984375,163.20333862304688,173.9499969482422,185.1266632080078,191.3333282470703,195.25332641601562,189.1999969482422,194.9199981689453,189.60667419433594,197.7933349609375,199.67999267578125,213.9199981689453,216.6266632080078,201.4933319091797,209.02333068847656,203.3300018310547,213.27667236328125,211.0833282470703,207.58999633789062,218.63333129882812,231.6666717529297,216.6199951171875,213.44667053222656,215.32666015625,220.58999633789062,221.22999572753906,221.99667358398438,231.5933380126953,235.22332763671875,243.2566680908203,245.0366668701172,251.9933319091797,272.0133361816406,293.3399963378906,270.39666748046875,283.14666748046875,284.8033447265625,281.6666564941406,275.38665771484375,281.51666259765625,283.48333740234375,281.663330078125,282.21331787109375,293.6000061035156,294.36334228515625,288.0533447265625,278.4766540527344,264.510009765625,279.9366760253906,290.92999267578125,284.89666748046875,283.3299865722656,284.07666015625,287.8066711425781,283.1533203125,268.2733459472656,270.5533447265625,272.0400085449219,265.40667724609375,266.04998779296875,262.4599914550781,260.4333190917969,238.1666717529297,232.94667053222656,247.33999633789062,227.4066619873047,225.1666717529297,239.47666931152344,228.81333923339844,217.73333740234375,207.14666748046875,199.31666564941406,187.6666717529297,224.52667236328125,222.68666076660156,233.1999969482422,231.2433319091797,235.97999572753906,225.6266632080078,233.93666076660156,217.72000122070312,218.2899932861328,223.3333282470703,220.72000122070312,210.08999633789062,213.4633331298828,206.23666381835938,203.76333618164062,211.8733367919922,222.64332580566406,220.5833282470703,230.35000610351562,230.5399932861328,223.6566619873047,227.93333435058594,225.67333984375,233.9933319091797,254.10667419433594,244.07666015625,246.28334045410156,246.5933380126953,238.2100067138672,239.663330078125,248.0399932861328,239.89666748046875,243.13333129882812,246.06666564941406,234.913330078125,231.46665954589844,225.6666717529297,236.47999572753906,228.3000030517578,224.53334045410156,223.64666748046875,221.17999267578125,224.1233367919922,209.67999267578125,205.73333740234375,196.6300048828125,190.56333923339844,196.5800018310547,192.27667236328125,192.6233367919922,187.82000732421875,195.5933380126953,193.6266632080078,202.14666748046875,201.56333923339844,206.3766632080078,210.28334045410156,208.4066619873047,207.96665954589844,201.7066650390625,190.94667053222656,199.68333435058594,201.7100067138672,201.19667053222656,199.5933380126953,203.3733367919922,203.29666137695312,205.89666748046875,199.7866668701172,201.6233367919922,205.53334045410156,207.77000427246094,206.94332885742188,207.90333557128906,218.85667419433594,226.60667419433594,223.9566650390625,229.57333374023438,226.9199981689453,226.56666564941406,225.97332763671875,226.3000030517578,219.86000061035156,214.88333129882812,217.60333251953125,218.98333740234375,228.56666564941406,222.84666442871094,217.7933349609375,216.86666870117188,214.74000549316406,215.4066619873047,220.1666717529297,218.42999267578125,216.4199981689453,214.4600067138672,219.2066650390625,214.92666625976562,215.66000366210938,225.78334045410156,229.06666564941406,236.55667114257812,236.5800018310547,236.97332763671875,238.2100067138672,233.03334045410156,237.9199981689453,236.663330078125,235.94000244140625,240.75,239.05667114257812,228.72332763671875,221.90333557128906,229.663330078125,224.49000549316406,226.75332641601562,235.43333435058594,236.163330078125,237.06666564941406,233.72000122070312,237.30667114257812,243.6366729736328,245.24000549316406,244.69667053222656,244.1300048828125,244.52333068847656,250.97332763671875,251.2899932861328,251.6199951171875,245.42333984375,247.6666717529297,248.163330078125,251.94332885742188,252.3300018310547,253.163330078125,243.38999938964844,246.4600067138672,250.64666748046875,251.2133331298828,258.1300048828125,263.78668212890625,259.1866760253906,260.4366760253906,258.49334716796875,258.40667724609375,260.510009765625,260.1966552734375,260.9166564941406,264.53668212890625,261.8299865722656,263.9800109863281,268.5733337402344,270.3599853515625,272.7733459472656,281.010009765625,290.03668212890625,288.0899963378906,288.6000061035156,298.0,303.2266540527344,341.6199951171875,339.4766540527344,345.9533386230469,359.0133361816406,371.3333435058594,402.86334228515625,390.6666564941406,404.6199951171875,409.9700012207031,407.36334228515625,387.64666748046875,341.1666564941406,355.98333740234375,354.5033264160156,344.47332763671875,337.7966613769531,351.57666015625,363.0033264160156,365.4599914550781,379.0199890136719,385.6233215332031,369.6766662597656,372.0,360.6400146484375,378.9966735839844,381.586669921875,365.0,361.5333251953125,338.3233337402344,336.336669921875,350.5833435058594,356.32000732421875,334.6000061035156,339.010009765625,322.13665771484375,319.5033264160156,325.3299865722656,308.97332763671875,310.8566589355469,299.9800109863281,312.84332275390625,336.2900085449219,355.6666564941406,364.64666748046875,362.8233337402344,362.0633239746094,356.7799987792969,352.260009765625,399.9266662597656,383.1966552734375,362.7066650390625,354.8999938964844,342.32000732421875,352.7066650390625,354.79998779296875,368.739990234375,343.85333251953125,349.8699951171875,343.5033264160156,331.8833312988281,332.0899963378906,314.6333312988281,310.0,306.1333312988281,312.4700012207031,276.3666687011719,282.1166687011719,312.239990234375,310.4166564941406,301.88665771484375,297.0466613769531,307.7733459472656,302.4466552734375,307.3333435058594,310.6666564941406,301.51666259765625,286.6666564941406,291.9200134277344,307.4766540527344,307.7966613769531,292.1166687011719,285.6600036621094,273.84332275390625,254.67999267578125,266.92333984375,269.9566650390625,290.1433410644531,288.1233215332031,293.2966613769531,279.7633361816406,279.42999267578125,268.1933288574219,274.79998779296875,286.3233337402344,279.4333190917969,265.1166687011719,255.4566650390625,267.2966613769531,280.07666015625,290.5333251953125,301.7966613769531,307.0533447265625,331.32666015625,333.03668212890625,337.97332763671875,336.8800048828125,363.9466552734375,366.5233459472656,364.663330078125,359.20001220703125,361.5299987792969,381.8166809082031,363.7533264160156,348.586669921875,352.4200134277344,341.8299865722656,325.30999755859375,328.98333740234375,340.7900085449219,328.3333435058594,334.7633361816406,342.7166748046875,325.73333740234375,336.260009765625,335.01666259765625,332.67333984375,292.1400146484375,293.836669921875,292.5033264160156,290.2533264160156,300.9800109863281,303.0833435058594,317.5400085449219,291.09332275390625,288.54998779296875,262.3699951171875,266.67999267578125,244.6666717529297,242.6666717529297,256.5299987792969,241.4566650390625,253.8699951171875,236.60333251953125,236.47332763671875,221.3000030517578,224.96665954589844,209.3866729736328,219.60000610351562,235.91000366210938,253.2100067138672,252.75332641601562,246.7899932861328,258.3333435058594,234.51666259765625,238.27999877929688,238.8866729736328,241.86666870117188,239.7066650390625,232.22999572753906,215.73666381835938,220.88999938964844,233.0,213.10000610351562,216.75999450683594,237.0366668701172,236.086669921875,235.07000732421875,245.7066650390625,244.9199981689453,232.663330078125,228.49000549316406,224.47332763671875,227.26333618164062,233.06666564941406,231.73333740234375,244.5433349609375,250.76333618164062,234.3433380126953,233.07000732421875,237.0399932861328,238.31333923339844,240.06666564941406,240.54666137695312,245.52999877929688,247.5,271.7066650390625,272.24334716796875,268.4333190917969,258.8599853515625,274.82000732421875,280.8999938964844,297.1499938964844,297.27667236328125,300.586669921875,307.39666748046875,308.6333312988281,288.1700134277344,290.42333984375,283.3333435058594,294.3566589355469,286.6300048828125,300.0299987792969,309.32000732421875,306.5633239746094,303.9966735839844,302.8699951171875,296.6666564941406,289.913330078125,296.4533386230469,297.0966796875,296.07000732421875,288.0899963378906,284.82000732421875,277.70001220703125,275.6099853515625,277.1600036621094,270.2099914550781,274.4200134277344,283.70001220703125,289.260009765625,299.67999267578125,304.4200134277344,292.1300048828125,302.6099853515625,303.75,303.3500061035156,309.07000732421875,308.7300109863281,300.79998779296875,288.5899963378906,275.3299865722656,276.010009765625,282.94000244140625,287.80999755859375,268.2099914550781,265.25,242.39999389648438,249.44000244140625,240.80999755859375,238.1300048828125,223.07000732421875,222.9600067138672,216.5,217.24000549316406,221.72000122070312,204.99000549316406,219.35000610351562,220.19000244140625,222.0399932861328,207.27999877929688,214.44000244140625,211.25,222.4199981689453,224.63999938964844,225.08999633789062,228.52000427246094,227.5399932861328,227.82000732421875,214.97999572753906,215.30999755859375,207.47000122070312,197.0800018310547,191.3000030517578,177.58999633789062,190.72000122070312,195.97000122070312,190.9499969482422,194.4199981689453,186.9199981689453,183.1699981689453,180.19000244140625,167.8699951171875,169.91000366210938,183.1999969482422,182.86000061035156,182.9199981689453,180.8300018310547,194.6999969482422,194.6999969482422,194.86000061035156,182.4499969482422,179.82000732421875,174.0399932861328,173.44000244140625,179.0500030517578,167.82000732421875,160.9499969482422,156.8000030517578,157.6699981689453,150.22999572753906,149.8699951171875,137.8000030517578,137.57000732421875,125.3499984741211,123.1500015258789,109.0999984741211,112.70999908447266,121.81999969482422,123.18000030517578,108.0999984741211,113.63999938964844,110.33999633789062,113.05999755859375,119.7699966430664,118.8499984741211,123.22000122070312,123.55999755859375,122.4000015258789,131.49000549316406,128.77999877929688,127.16999816894531,133.4199981689453,143.75,143.88999938964844,144.42999267578125,160.27000427246094,177.89999389648438,166.66000366210938,173.22000122070312,181.41000366210938,188.27000427246094,189.97999572753906,194.75999450683594,196.80999755859375,201.2899932861328,207.32000732421875,196.88999938964844,194.63999938964844,209.25,214.24000549316406,202.0399932861328,208.30999755859375,197.3699951171875,200.86000061035156,202.07000732421875,196.8800048828125,207.6300048828125,205.7100067138672,202.77000427246094,190.89999389648438,197.7899932861328,193.80999755859375,187.7100067138672,182.0,172.9199981689453,173.44000244140625,174.47999572753906,183.25999450683594,180.4499969482422,184.1300048828125,180.1300048828125,183.25,197.5800018310547,191.14999389648438,192.22000122070312,190.41000366210938,191.80999755859375,189.19000244140625,193.8800048828125,195.27999877929688,207.4600067138672,194.77000427246094,192.5800018310547,185.52000427246094,185.05999755859375,184.50999450683594,186.7899932861328,180.5399932861328,185.89999389648438,185.0,187.0399932861328,184.30999755859375,180.58999633789062,162.99000549316406,165.0800018310547,162.5500030517578,160.6699981689453,153.75,160.19000244140625,164.30999755859375,161.8300018310547,160.30999755859375,160.61000061035156,161.1999969482422,170.05999755859375,171.7899932861328,169.14999389648438,168.5399932861328,172.0800018310547,167.97999572753906,166.35000610351562,166.52000427246094,173.86000061035156,176.88999938964844,180.13999938964844,188.8699951171875,185.77000427246094,182.89999389648438,184.47000122070312,193.1699981689453,201.16000366210938,203.92999267578125,207.52000427246094,213.97000122070312,217.61000061035156,221.30999755859375,224.57000732421875,234.86000061035156,244.39999389648438,249.8300018310547,258.7099914550781,256.7900085449219,255.89999389648438,260.5400085449219,274.45001220703125,259.4599914550781,264.6099853515625,256.6000061035156,241.0500030517578,250.2100067138672,256.239990234375,257.5,261.7699890136719,279.82000732421875,282.4800109863281,276.5400085449219,274.42999267578125,269.6099853515625,269.7900085449219,271.989990234375,277.8999938964844,281.3800048828125,290.3800048828125,293.3399963378906,291.260009765625,262.8999938964844,260.0199890136719,269.05999755859375,265.2799987792969,264.3500061035156,255.7100067138672,266.2749938964844],\"yaxis\":\"y\",\"type\":\"scatter\"}],                        {\"template\":{\"data\":{\"histogram2dcontour\":[{\"type\":\"histogram2dcontour\",\"colorbar\":{\"outlinewidth\":0,\"ticks\":\"\"},\"colorscale\":[[0.0,\"#0d0887\"],[0.1111111111111111,\"#46039f\"],[0.2222222222222222,\"#7201a8\"],[0.3333333333333333,\"#9c179e\"],[0.4444444444444444,\"#bd3786\"],[0.5555555555555556,\"#d8576b\"],[0.6666666666666666,\"#ed7953\"],[0.7777777777777778,\"#fb9f3a\"],[0.8888888888888888,\"#fdca26\"],[1.0,\"#f0f921\"]]}],\"choropleth\":[{\"type\":\"choropleth\",\"colorbar\":{\"outlinewidth\":0,\"ticks\":\"\"}}],\"histogram2d\":[{\"type\":\"histogram2d\",\"colorbar\":{\"outlinewidth\":0,\"ticks\":\"\"},\"colorscale\":[[0.0,\"#0d0887\"],[0.1111111111111111,\"#46039f\"],[0.2222222222222222,\"#7201a8\"],[0.3333333333333333,\"#9c179e\"],[0.4444444444444444,\"#bd3786\"],[0.5555555555555556,\"#d8576b\"],[0.6666666666666666,\"#ed7953\"],[0.7777777777777778,\"#fb9f3a\"],[0.8888888888888888,\"#fdca26\"],[1.0,\"#f0f921\"]]}],\"heatmap\":[{\"type\":\"heatmap\",\"colorbar\":{\"outlinewidth\":0,\"ticks\":\"\"},\"colorscale\":[[0.0,\"#0d0887\"],[0.1111111111111111,\"#46039f\"],[0.2222222222222222,\"#7201a8\"],[0.3333333333333333,\"#9c179e\"],[0.4444444444444444,\"#bd3786\"],[0.5555555555555556,\"#d8576b\"],[0.6666666666666666,\"#ed7953\"],[0.7777777777777778,\"#fb9f3a\"],[0.8888888888888888,\"#fdca26\"],[1.0,\"#f0f921\"]]}],\"heatmapgl\":[{\"type\":\"heatmapgl\",\"colorbar\":{\"outlinewidth\":0,\"ticks\":\"\"},\"colorscale\":[[0.0,\"#0d0887\"],[0.1111111111111111,\"#46039f\"],[0.2222222222222222,\"#7201a8\"],[0.3333333333333333,\"#9c179e\"],[0.4444444444444444,\"#bd3786\"],[0.5555555555555556,\"#d8576b\"],[0.6666666666666666,\"#ed7953\"],[0.7777777777777778,\"#fb9f3a\"],[0.8888888888888888,\"#fdca26\"],[1.0,\"#f0f921\"]]}],\"contourcarpet\":[{\"type\":\"contourcarpet\",\"colorbar\":{\"outlinewidth\":0,\"ticks\":\"\"}}],\"contour\":[{\"type\":\"contour\",\"colorbar\":{\"outlinewidth\":0,\"ticks\":\"\"},\"colorscale\":[[0.0,\"#0d0887\"],[0.1111111111111111,\"#46039f\"],[0.2222222222222222,\"#7201a8\"],[0.3333333333333333,\"#9c179e\"],[0.4444444444444444,\"#bd3786\"],[0.5555555555555556,\"#d8576b\"],[0.6666666666666666,\"#ed7953\"],[0.7777777777777778,\"#fb9f3a\"],[0.8888888888888888,\"#fdca26\"],[1.0,\"#f0f921\"]]}],\"surface\":[{\"type\":\"surface\",\"colorbar\":{\"outlinewidth\":0,\"ticks\":\"\"},\"colorscale\":[[0.0,\"#0d0887\"],[0.1111111111111111,\"#46039f\"],[0.2222222222222222,\"#7201a8\"],[0.3333333333333333,\"#9c179e\"],[0.4444444444444444,\"#bd3786\"],[0.5555555555555556,\"#d8576b\"],[0.6666666666666666,\"#ed7953\"],[0.7777777777777778,\"#fb9f3a\"],[0.8888888888888888,\"#fdca26\"],[1.0,\"#f0f921\"]]}],\"mesh3d\":[{\"type\":\"mesh3d\",\"colorbar\":{\"outlinewidth\":0,\"ticks\":\"\"}}],\"scatter\":[{\"fillpattern\":{\"fillmode\":\"overlay\",\"size\":10,\"solidity\":0.2},\"type\":\"scatter\"}],\"parcoords\":[{\"type\":\"parcoords\",\"line\":{\"colorbar\":{\"outlinewidth\":0,\"ticks\":\"\"}}}],\"scatterpolargl\":[{\"type\":\"scatterpolargl\",\"marker\":{\"colorbar\":{\"outlinewidth\":0,\"ticks\":\"\"}}}],\"bar\":[{\"error_x\":{\"color\":\"#2a3f5f\"},\"error_y\":{\"color\":\"#2a3f5f\"},\"marker\":{\"line\":{\"color\":\"#E5ECF6\",\"width\":0.5},\"pattern\":{\"fillmode\":\"overlay\",\"size\":10,\"solidity\":0.2}},\"type\":\"bar\"}],\"scattergeo\":[{\"type\":\"scattergeo\",\"marker\":{\"colorbar\":{\"outlinewidth\":0,\"ticks\":\"\"}}}],\"scatterpolar\":[{\"type\":\"scatterpolar\",\"marker\":{\"colorbar\":{\"outlinewidth\":0,\"ticks\":\"\"}}}],\"histogram\":[{\"marker\":{\"pattern\":{\"fillmode\":\"overlay\",\"size\":10,\"solidity\":0.2}},\"type\":\"histogram\"}],\"scattergl\":[{\"type\":\"scattergl\",\"marker\":{\"colorbar\":{\"outlinewidth\":0,\"ticks\":\"\"}}}],\"scatter3d\":[{\"type\":\"scatter3d\",\"line\":{\"colorbar\":{\"outlinewidth\":0,\"ticks\":\"\"}},\"marker\":{\"colorbar\":{\"outlinewidth\":0,\"ticks\":\"\"}}}],\"scattermapbox\":[{\"type\":\"scattermapbox\",\"marker\":{\"colorbar\":{\"outlinewidth\":0,\"ticks\":\"\"}}}],\"scatterternary\":[{\"type\":\"scatterternary\",\"marker\":{\"colorbar\":{\"outlinewidth\":0,\"ticks\":\"\"}}}],\"scattercarpet\":[{\"type\":\"scattercarpet\",\"marker\":{\"colorbar\":{\"outlinewidth\":0,\"ticks\":\"\"}}}],\"carpet\":[{\"aaxis\":{\"endlinecolor\":\"#2a3f5f\",\"gridcolor\":\"white\",\"linecolor\":\"white\",\"minorgridcolor\":\"white\",\"startlinecolor\":\"#2a3f5f\"},\"baxis\":{\"endlinecolor\":\"#2a3f5f\",\"gridcolor\":\"white\",\"linecolor\":\"white\",\"minorgridcolor\":\"white\",\"startlinecolor\":\"#2a3f5f\"},\"type\":\"carpet\"}],\"table\":[{\"cells\":{\"fill\":{\"color\":\"#EBF0F8\"},\"line\":{\"color\":\"white\"}},\"header\":{\"fill\":{\"color\":\"#C8D4E3\"},\"line\":{\"color\":\"white\"}},\"type\":\"table\"}],\"barpolar\":[{\"marker\":{\"line\":{\"color\":\"#E5ECF6\",\"width\":0.5},\"pattern\":{\"fillmode\":\"overlay\",\"size\":10,\"solidity\":0.2}},\"type\":\"barpolar\"}],\"pie\":[{\"automargin\":true,\"type\":\"pie\"}]},\"layout\":{\"autotypenumbers\":\"strict\",\"colorway\":[\"#636efa\",\"#EF553B\",\"#00cc96\",\"#ab63fa\",\"#FFA15A\",\"#19d3f3\",\"#FF6692\",\"#B6E880\",\"#FF97FF\",\"#FECB52\"],\"font\":{\"color\":\"#2a3f5f\"},\"hovermode\":\"closest\",\"hoverlabel\":{\"align\":\"left\"},\"paper_bgcolor\":\"white\",\"plot_bgcolor\":\"#E5ECF6\",\"polar\":{\"bgcolor\":\"#E5ECF6\",\"angularaxis\":{\"gridcolor\":\"white\",\"linecolor\":\"white\",\"ticks\":\"\"},\"radialaxis\":{\"gridcolor\":\"white\",\"linecolor\":\"white\",\"ticks\":\"\"}},\"ternary\":{\"bgcolor\":\"#E5ECF6\",\"aaxis\":{\"gridcolor\":\"white\",\"linecolor\":\"white\",\"ticks\":\"\"},\"baxis\":{\"gridcolor\":\"white\",\"linecolor\":\"white\",\"ticks\":\"\"},\"caxis\":{\"gridcolor\":\"white\",\"linecolor\":\"white\",\"ticks\":\"\"}},\"coloraxis\":{\"colorbar\":{\"outlinewidth\":0,\"ticks\":\"\"}},\"colorscale\":{\"sequential\":[[0.0,\"#0d0887\"],[0.1111111111111111,\"#46039f\"],[0.2222222222222222,\"#7201a8\"],[0.3333333333333333,\"#9c179e\"],[0.4444444444444444,\"#bd3786\"],[0.5555555555555556,\"#d8576b\"],[0.6666666666666666,\"#ed7953\"],[0.7777777777777778,\"#fb9f3a\"],[0.8888888888888888,\"#fdca26\"],[1.0,\"#f0f921\"]],\"sequentialminus\":[[0.0,\"#0d0887\"],[0.1111111111111111,\"#46039f\"],[0.2222222222222222,\"#7201a8\"],[0.3333333333333333,\"#9c179e\"],[0.4444444444444444,\"#bd3786\"],[0.5555555555555556,\"#d8576b\"],[0.6666666666666666,\"#ed7953\"],[0.7777777777777778,\"#fb9f3a\"],[0.8888888888888888,\"#fdca26\"],[1.0,\"#f0f921\"]],\"diverging\":[[0,\"#8e0152\"],[0.1,\"#c51b7d\"],[0.2,\"#de77ae\"],[0.3,\"#f1b6da\"],[0.4,\"#fde0ef\"],[0.5,\"#f7f7f7\"],[0.6,\"#e6f5d0\"],[0.7,\"#b8e186\"],[0.8,\"#7fbc41\"],[0.9,\"#4d9221\"],[1,\"#276419\"]]},\"xaxis\":{\"gridcolor\":\"white\",\"linecolor\":\"white\",\"ticks\":\"\",\"title\":{\"standoff\":15},\"zerolinecolor\":\"white\",\"automargin\":true,\"zerolinewidth\":2},\"yaxis\":{\"gridcolor\":\"white\",\"linecolor\":\"white\",\"ticks\":\"\",\"title\":{\"standoff\":15},\"zerolinecolor\":\"white\",\"automargin\":true,\"zerolinewidth\":2},\"scene\":{\"xaxis\":{\"backgroundcolor\":\"#E5ECF6\",\"gridcolor\":\"white\",\"linecolor\":\"white\",\"showbackground\":true,\"ticks\":\"\",\"zerolinecolor\":\"white\",\"gridwidth\":2},\"yaxis\":{\"backgroundcolor\":\"#E5ECF6\",\"gridcolor\":\"white\",\"linecolor\":\"white\",\"showbackground\":true,\"ticks\":\"\",\"zerolinecolor\":\"white\",\"gridwidth\":2},\"zaxis\":{\"backgroundcolor\":\"#E5ECF6\",\"gridcolor\":\"white\",\"linecolor\":\"white\",\"showbackground\":true,\"ticks\":\"\",\"zerolinecolor\":\"white\",\"gridwidth\":2}},\"shapedefaults\":{\"line\":{\"color\":\"#2a3f5f\"}},\"annotationdefaults\":{\"arrowcolor\":\"#2a3f5f\",\"arrowhead\":0,\"arrowwidth\":1},\"geo\":{\"bgcolor\":\"white\",\"landcolor\":\"#E5ECF6\",\"subunitcolor\":\"white\",\"showland\":true,\"showlakes\":true,\"lakecolor\":\"white\"},\"title\":{\"x\":0.05},\"mapbox\":{\"style\":\"light\"}}},\"xaxis\":{\"anchor\":\"y\",\"domain\":[0.0,1.0],\"title\":{\"text\":\"Date\"}},\"yaxis\":{\"anchor\":\"x\",\"domain\":[0.0,1.0],\"title\":{\"text\":\"value\"}},\"legend\":{\"title\":{\"text\":\"variable\"},\"tracegroupgap\":0},\"margin\":{\"t\":60}},                        {\"responsive\": true}                    ).then(function(){\n",
       "                            \n",
       "var gd = document.getElementById('2d70ab75-021b-460e-a93b-a1eaeb4fe906');\n",
       "var x = new MutationObserver(function (mutations, observer) {{\n",
       "        var display = window.getComputedStyle(gd).display;\n",
       "        if (!display || display === 'none') {{\n",
       "            console.log([gd, 'removed!']);\n",
       "            Plotly.purge(gd);\n",
       "            observer.disconnect();\n",
       "        }}\n",
       "}});\n",
       "\n",
       "// Listen for the removal of the full notebook cells\n",
       "var notebookContainer = gd.closest('#notebook-container');\n",
       "if (notebookContainer) {{\n",
       "    x.observe(notebookContainer, {childList: true});\n",
       "}}\n",
       "\n",
       "// Listen for the clearing of the current output cell\n",
       "var outputEl = gd.closest('.output');\n",
       "if (outputEl) {{\n",
       "    x.observe(outputEl, {childList: true});\n",
       "}}\n",
       "\n",
       "                        })                };                });            </script>        </div>"
      ]
     },
     "metadata": {},
     "output_type": "display_data"
    }
   ],
   "source": [
    "df.Close.plot()"
   ]
  },
  {
   "cell_type": "markdown",
   "id": "df832d4d",
   "metadata": {},
   "source": [
    "Testing the limitations of simple returns:"
   ]
  },
  {
   "cell_type": "code",
   "execution_count": 6,
   "id": "d899fe82",
   "metadata": {},
   "outputs": [
    {
     "name": "stdout",
     "output_type": "stream",
     "text": [
      "First 28.68400001525879 last 266.2749938964844\n"
     ]
    }
   ],
   "source": [
    "print('First', df.Close[0], 'last', df.Close[-1])"
   ]
  },
  {
   "cell_type": "code",
   "execution_count": 7,
   "id": "2af0198f",
   "metadata": {},
   "outputs": [
    {
     "data": {
      "text/plain": [
       "0.003461502890118236"
      ]
     },
     "execution_count": 7,
     "metadata": {},
     "output_type": "execute_result"
    }
   ],
   "source": [
    "# Average across all above days:\n",
    "\n",
    "simple_returns.mean()"
   ]
  },
  {
   "cell_type": "code",
   "execution_count": 8,
   "id": "466f0d2d",
   "metadata": {},
   "outputs": [
    {
     "data": {
      "text/plain": [
       "619.2592779263339"
      ]
     },
     "execution_count": 8,
     "metadata": {},
     "output_type": "execute_result"
    }
   ],
   "source": [
    "# Let's \"try\" to take close price and compute simple return everyday, This should give us our final stock price of TSLA\n",
    "\n",
    "\" We start from Close[0], and multiplying this everyday by .mean() and taking it to the power of day number, should give df.Close[-1]\"\n",
    "\n",
    "df.Close[0] * (1 + simple_returns.mean())**len(simple_returns)\n",
    "\n",
    "df.Close[0] * (1 + 0.003423181203071985)**len(simple_returns)"
   ]
  },
  {
   "cell_type": "code",
   "execution_count": 9,
   "id": "5c99b199",
   "metadata": {},
   "outputs": [
    {
     "data": {
      "text/plain": [
       "266.2749938964844"
      ]
     },
     "execution_count": 9,
     "metadata": {},
     "output_type": "execute_result"
    }
   ],
   "source": [
    "df.Close[-1]"
   ]
  },
  {
   "cell_type": "markdown",
   "id": "598e0642",
   "metadata": {},
   "source": [
    "#### So it doesn't give the right price, we need to instead use the 3rd equation, taking the product of all the (1 + daily returns)\n",
    "\n",
    "\n",
    "The mean() is no longer a useful statistic, it doesn't mean much to us (we cant use it like normally would).\n",
    "\n",
    "\n",
    "**Below we do it the right way:**"
   ]
  },
  {
   "cell_type": "code",
   "execution_count": 10,
   "id": "e8312848",
   "metadata": {},
   "outputs": [
    {
     "data": {
      "text/plain": [
       "266.2749938964846"
      ]
     },
     "execution_count": 10,
     "metadata": {},
     "output_type": "execute_result"
    }
   ],
   "source": [
    "# Let us do it the right way now, using 3rd eqt.\n",
    "\n",
    "df.Close[0] * np.prod( [(1 + Rt) for Rt in simple_returns.dropna()] )\n",
    "    "
   ]
  },
  {
   "cell_type": "code",
   "execution_count": null,
   "id": "b0cc2e91",
   "metadata": {},
   "outputs": [],
   "source": []
  },
  {
   "cell_type": "code",
   "execution_count": 11,
   "id": "92818d85",
   "metadata": {},
   "outputs": [
    {
     "name": "stdout",
     "output_type": "stream",
     "text": [
      "0.04131628370116602\n"
     ]
    }
   ],
   "source": [
    "# Implementing the first equation to get the last return on day [-1]  (last day)\n",
    "\n",
    "\n",
    "for i in range(0, len(simple_returns)):\n",
    "    holder = 1\n",
    "    if i > 0:\n",
    "        a = df.Close[i]/df.Close[i-1]\n",
    "        holder = holder * a\n",
    "Rt = holder - 1\n",
    "print(Rt)"
   ]
  },
  {
   "cell_type": "code",
   "execution_count": 12,
   "id": "2537d4b7",
   "metadata": {},
   "outputs": [
    {
     "data": {
      "text/plain": [
       "0.04131628370116602"
      ]
     },
     "execution_count": 12,
     "metadata": {},
     "output_type": "execute_result"
    }
   ],
   "source": [
    "simple_returns[-1]"
   ]
  },
  {
   "cell_type": "code",
   "execution_count": null,
   "id": "2ea69deb",
   "metadata": {},
   "outputs": [],
   "source": []
  },
  {
   "cell_type": "markdown",
   "id": "57437909",
   "metadata": {},
   "source": [
    "# Log returns:"
   ]
  },
  {
   "attachments": {
    "image.png": {
     "image/png": "[encoded data removed]"
    }
   },
   "cell_type": "markdown",
   "id": "b82d1027",
   "metadata": {},
   "source": [
    "![image.png](attachment:image.png)"
   ]
  },
  {
   "cell_type": "markdown",
   "id": "bc597dfa",
   "metadata": {},
   "source": [
    "Log returns have the property: Adding the daily returns over time, it is descriptive of the dataset!"
   ]
  },
  {
   "cell_type": "code",
   "execution_count": 13,
   "id": "0378d07a",
   "metadata": {},
   "outputs": [
    {
     "data": {
      "text/plain": [
       "Date\n",
       "2020-01-03    0.029203\n",
       "2020-01-06    0.019072\n",
       "2020-01-07    0.038067\n",
       "2020-01-08    0.048033\n",
       "2020-01-09   -0.022189\n",
       "                ...   \n",
       "2023-07-24    0.034176\n",
       "2023-07-25   -0.014149\n",
       "2023-07-26   -0.003512\n",
       "2023-07-27   -0.033230\n",
       "2023-07-28    0.040486\n",
       "Name: Close, Length: 898, dtype: float64"
      ]
     },
     "execution_count": 13,
     "metadata": {},
     "output_type": "execute_result"
    }
   ],
   "source": [
    "log_returns = np.log(df.Close/df.Close.shift(1)).dropna()   # Log(Close[n] / Close[n-1])\n",
    "log_returns"
   ]
  },
  {
   "cell_type": "code",
   "execution_count": 14,
   "id": "e26fe6cd",
   "metadata": {},
   "outputs": [
    {
     "data": {
      "text/plain": [
       "0.002481280745941079"
      ]
     },
     "execution_count": 14,
     "metadata": {},
     "output_type": "execute_result"
    }
   ],
   "source": [
    "log_returns.mean()"
   ]
  },
  {
   "cell_type": "code",
   "execution_count": 15,
   "id": "5c28df35",
   "metadata": {},
   "outputs": [
    {
     "data": {
      "text/plain": [
       "266.27499389648443"
      ]
     },
     "execution_count": 15,
     "metadata": {},
     "output_type": "execute_result"
    }
   ],
   "source": [
    "df.Close[0] * np.exp(log_returns.mean() * len(log_returns))"
   ]
  },
  {
   "cell_type": "markdown",
   "id": "0fe41cfb",
   "metadata": {},
   "source": [
    "### But! This isn't the main reason we use log returns!\n",
    "\n",
    "\n",
    "– Simple Returns: The product of normally distribution variables is NOT normally distributed\n",
    "\n",
    "– Log Returns: The sum of normally distributed variables follows a normal distribution\n",
    "\n",
    "Also the log distribution bounds our stock price at 0. Which is a nice property to have and is consistent with reality\n"
   ]
  },
  {
   "cell_type": "code",
   "execution_count": 16,
   "id": "84601826",
   "metadata": {},
   "outputs": [
    {
     "data": {
      "application/vnd.plotly.v1+json": {
       "config": {
        "plotlyServerURL": "https://plot.ly"
       },
       "data": [
        {
         "alignmentgroup": "True",
         "bingroup": "x",
         "hovertemplate": "variable=Close<br>value=%{x}<br>count=%{y}<extra></extra>",
         "legendgroup": "Close",
         "marker": {
          "color": "#636efa",
          "pattern": {
           "shape": ""
          }
         },
         "name": "Close",
         "offsetgroup": "Close",
         "orientation": "v",
         "showlegend": true,
         "type": "histogram",
         "x": [
          0.02920267893223429,
          0.019071612174755247,
          0.03806670586808656,
          0.048032568493066904,
          -0.022189385476863444,
          -0.006649355680979626,
          0.09320702322102224,
          0.024578286172624794,
          -0.03676981311758122,
          -0.00970946227670784,
          -0.005839913304383257,
          0.06942373110021945,
          0.04004983514491321,
          0.004624413044606698,
          -0.012981499419033645,
          -0.012112331857897394,
          0.01578809278786119,
          0.02455066473079113,
          0.09799952270077929,
          0.015115867923964223,
          0.18144500086765858,
          0.1286186970285338,
          -0.18845037343186985,
          0.019223358515689473,
          -0.0011890304222129079,
          0.030554904345579816,
          0.0040112052857509935,
          -0.009197828567077742,
          0.04673438827304504,
          -0.004949986662921484,
          0.0704209168261074,
          0.06649517653196184,
          -0.019826354777620056,
          0.0017662480443414094,
          -0.07752369493467591,
          -0.041482357972054684,
          -0.026744949535016983,
          -0.13713311629061195,
          -0.016347950327421108,
          0.1072570247859105,
          0.0025383850988232293,
          0.005337746224066965,
          -0.033869376791647296,
          -0.029497510135476336,
          -0.14586457137702016,
          0.059586929551683376,
          -0.01735009892797303,
          -0.12349328402408655,
          -0.02516454136147571,
          -0.20552230217550044,
          -0.03398134500612111,
          -0.17476304366003273,
          0.16879451260286096,
          -0.00025720668994270134,
          0.015688043665694176,
          0.15084593365171223,
          0.06562083944686455,
          -0.0207800386755252,
          -0.026475805312348537,
          -0.024064387275638185,
          0.04263263821287683,
          -0.08446087652228773,
          -0.057898921000518445,
          0.05467504939194526,
          0.07276481895829454,
          0.05503939414254686,
          0.006195761068727163,
          0.043078797207400474,
          0.12754711640906993,
          0.0866771798728856,
          0.02770162075738181,
          0.020854428493631318,
          0.011580411041559343,
          -0.010038465581097953,
          -0.08328137479063667,
          0.06400415510269586,
          -0.036839791089286374,
          0.02728753098899391,
          0.09666945779957149,
          -0.037801017814305886,
          0.040002020280935593,
          -0.023547759980736722,
          -0.10873700220740792,
          0.0819187203405193,
          0.009180180665024101,
          0.018533023597782732,
          -0.003250973870209664,
          0.04925154604829151,
          -0.009971196406895207,
          -0.0023199593370761967,
          -0.02305818093053759,
          0.015518160889563192,
          -0.005191880165631997,
          0.01793204109959487,
          -0.0069313094591098995,
          0.00930057241369536,
          0.014654934735012084,
          -0.013037700356063059,
          0.002433081947381517,
          0.001659467041868106,
          -0.017736751939729612,
          0.035583725409644835,
          0.07284966703702293,
          -0.018588326218028427,
          0.0015867839932886055,
          -0.02126741082055923,
          0.024320646383694,
          0.07004464847857836,
          -0.00978535494822048,
          0.08590431690632504,
          -0.052277046427824686,
          -0.03937370329089697,
          0.05776761532071402,
          -0.008889888882897297,
          0.009787666254598352,
          0.012196058432993926,
          -0.003052506049991116,
          -0.006595797039905825,
          0.007474555771254048,
          -0.04171541244464825,
          0.025817844628587844,
          -0.02697370050614223,
          0.05039944763683731,
          0.06747855280845434,
          0.036213124954005624,
          0.07651403502187115,
          0.12645108117682743,
          0.01323965619758905,
          -0.017404076436543424,
          0.020579243780394125,
          0.10241918272489342,
          -0.031294179797161696,
          0.013099686323903579,
          0.019074500672006927,
          -0.029785727485036655,
          0.00013329605943815782,
          0.09049888548491682,
          -0.04649333201590645,
          0.015167860710440668,
          -0.05105769412846385,
          -0.06559870288489437,
          0.08298067038819532,
          -0.04185494718429495,
          0.01520390470417943,
          -0.007781454581928156,
          -0.038884339639871014,
          0.03720897247565101,
          0.0013458747004375454,
          -0.0013323884879125765,
          0.0030659693985973365,
          -0.025063424630081085,
          -0.023781465364230404,
          -0.03163934754750347,
          0.12331118921207428,
          0.04172205380429948,
          0.018162259872136134,
          0.10618769683979797,
          0.02764276800974182,
          -0.0045463782503080055,
          0.0635722137952821,
          0.023768211540485355,
          -0.017607920006301417,
          0.004527486632740915,
          0.0621915738853809,
          0.03897652873348478,
          -0.01138789608941323,
          0.11839534141276628,
          -0.04782238606695396,
          -0.060034084286439256,
          -0.0945727929773044,
          0.02743348445504921,
          -0.23651789445767657,
          0.10366923114657202,
          0.013720031040026988,
          0.003709375196707332,
          0.11852211424147706,
          0.06936453038904387,
          -0.017947393738460667,
          -0.04237854336559032,
          0.04326101937694436,
          0.016241895082045352,
          -0.05761528541471742,
          -0.10915761260898618,
          0.019345803747202597,
          0.0491842305281949,
          0.033459528236176775,
          -0.005069748902601041,
          0.023442192423042928,
          0.043670173422939704,
          -0.07665503512528221,
          0.025192518630920653,
          -0.02787018407731412,
          0.026977120398229415,
          0.0014567215247855486,
          0.018793074176697643,
          0.018943822515122916,
          0.009786884708723409,
          0.032273287618783654,
          -0.02729299577407529,
          -0.020731092265373598,
          -0.020310891071385614,
          -0.020850455371877373,
          0.0016576578966101716,
          0.007425427859397711,
          -0.01219258008931434,
          -0.0008324460631960825,
          0.010414737676610572,
          -0.04493353448533056,
          0.011777078527549948,
          -0.05707106115006527,
          0.03163027338080621,
          0.05675891678442002,
          -0.0069123197353376745,
          0.03983908014025376,
          -0.018755444602258167,
          -0.020418708541599162,
          -0.026215382510501505,
          0.016363110813065698,
          -0.012957330573612593,
          -0.007948653293047676,
          -0.0010042223136041864,
          0.07893944622909929,
          0.09709745318946535,
          0.025622441945055478,
          -0.019537882465358328,
          0.06377098448424992,
          0.0622723727366544,
          0.03297682427747412,
          0.02028074420821668,
          -0.03149318478843732,
          0.029784568093447848,
          -0.02763741793314288,
          0.04227093212295058,
          0.009493325730045684,
          0.068886056292822,
          0.012573321033348567,
          -0.07241913725041024,
          0.03668958724599977,
          -0.027615591895456065,
          0.04775997018342951,
          -0.010337277993335172,
          -0.016688013184044656,
          0.05183107739238726,
          0.05790353852575241,
          -0.06715493498509616,
          -0.01475762913420309,
          0.00876920991536227,
          0.024149533626973363,
          0.0028971067347807124,
          0.0034595328945027123,
          0.04232058232357712,
          0.015552413007484785,
          0.03358173995604568,
          0.007290726849836652,
          0.027994766442436515,
          0.07644846869014829,
          0.07548123816080572,
          -0.08144231364811663,
          0.046075003355075396,
          0.00583390055163722,
          -0.011074621019438693,
          -0.02254816438492551,
          0.022015499815695144,
          0.00696170884124915,
          -0.006440854103183227,
          0.0019507385857471659,
          0.039555086200732226,
          0.002596544878530684,
          -0.021669174678462418,
          -0.033811459334112025,
          -0.051455133708131096,
          0.05668432585298431,
          0.03851924269165984,
          -0.020956118951172036,
          -0.005514295631595512,
          0.002631883215661463,
          0.013044842106937113,
          -0.016300455142510474,
          -0.053982110546516617,
          0.008462878423046197,
          0.005479859012751231,
          -0.024685864957400334,
          0.0024209343993348833,
          -0.01358555824881115,
          -0.007751801260508434,
          -0.08937612559287707,
          -0.022161184525391956,
          0.059954347975619646,
          -0.08402401628244031,
          -0.009898985904473094,
          0.061615106636751404,
          -0.04554943930628858,
          -0.04963546753524194,
          -0.04984401019282242,
          -0.03853223628041701,
          -0.06022747806878096,
          0.17932714140524914,
          -0.008228833280182691,
          0.046130766690605556,
          -0.008425900400429927,
          0.02027649657712341,
          -0.04486533694757771,
          0.03616869761350537,
          -0.07184055905976201,
          0.002614584056873359,
          0.02284097771296026,
          -0.011770465503008509,
          -0.04935894253519092,
          0.015929083234572167,
          -0.034440713289359076,
          -0.012065159218404247,
          0.039029424523405194,
          0.04958242699342897,
          -0.00929552576717066,
          0.043324388497766333,
          0.0008244361718844317,
          -0.03031223705748461,
          0.018941076007001657,
          -0.009964638245883383,
          0.03620406408291566,
          0.0824615371588125,
          -0.04027179907894094,
          0.009000306677510112,
          0.001257911412789418,
          -0.034587909254449344,
          0.006082481415169929,
          0.03435484924604316,
          -0.03338171795091616,
          0.01340170287553078,
          0.011992516455123612,
          -0.046385859854230695,
          -0.014780794025162398,
          -0.02537683713134589,
          0.04680461290993818,
          -0.035203052789871174,
          -0.016636360929421883,
          -0.003956776807325818,
          -0.011090612633393284,
          0.013219694470214068,
          -0.0666139869184463,
          -0.019001672485714396,
          -0.04525703659502106,
          -0.03133918628539079,
          0.031084853734470938,
          -0.02213414578006038,
          0.0018013224952045325,
          -0.025252562795766022,
          0.040553601408475165,
          -0.010105809239520404,
          0.04306162202970284,
          -0.002889839951081735,
          0.023599290742317446,
          0.018752900206065234,
          -0.008964584890580543,
          -0.002113500469111133,
          -0.030563287475861584,
          -0.05482031154624073,
          0.04473860632554917,
          0.010098272085864791,
          -0.0025481655598922595,
          -0.008000903407653626,
          0.018761400839628444,
          -0.00037708912038201647,
          0.012708130416930218,
          -0.03012429716067012,
          0.009151155788618984,
          0.0192069740346885,
          0.010823457790850165,
          -0.003986737073227676,
          0.004628256702323586,
          0.051343820984031875,
          0.03479874196476401,
          -0.011763228305736152,
          0.02476994196174637,
          -0.011624991064809973,
          -0.0015582931945795787,
          -0.00262225819371756,
          0.001444593124038416,
          -0.028870583198134143,
          -0.02289574720602526,
          0.01257859403128338,
          0.006321812249024031,
          0.042832279170544656,
          -0.02534398967789286,
          -0.02293732311171139,
          -0.004263873629526309,
          -0.009854715165981626,
          0.003099673103658058,
          0.021857165705963834,
          -0.007919294852611359,
          -0.00924460786068585,
          -0.009097683584931696,
          0.02189168871378688,
          -0.019718078031379437,
          0.0034062276545409947,
          0.04587275846182932,
          0.014437208664382839,
          0.03217472594711166,
          9.862134908657855e-05,
          0.001661168327351945,
          0.005205072568156722,
          -0.021971130346089583,
          0.02075293960905606,
          -0.005295892009324611,
          -0.003061037245157465,
          0.020181504916966016,
          -0.0070584091033222005,
          -0.04418754471286682,
          -0.03027123516946714,
          0.03437259258571844,
          -0.022783267048393844,
          0.010031571629142592,
          0.03756503320848795,
          0.0030958501857263057,
          0.0038177489873267093,
          -0.014217568331421088,
          0.015229452832627683,
          0.026324794631827943,
          0.0065592749200010505,
          -0.002217981262751364,
          -0.00231847373209337,
          0.0016098361025145228,
          0.026035942688487673,
          0.0012609548743898497,
          0.001312369553312357,
          -0.024935356375548032,
          0.009099139444443169,
          0.002003341828722264,
          0.015117058319369686,
          0.0015335851645735571,
          0.0032970919669145526,
          -0.03936976129858423,
          0.012534643183807646,
          0.01684451236014587,
          0.002258262820491851,
          0.027160841972020323,
          0.021677401377557137,
          -0.017592195347548873,
          0.0048111864344248965,
          -0.0074897880450971975,
          -0.00033534501293734615,
          0.008106673348889567,
          -0.0012035741082394261,
          0.002763320999873195,
          0.01377889392912291,
          -0.010284539562274665,
          0.008177997401230774,
          0.01725061613832015,
          0.006630349593761303,
          0.008886865672994949,
          0.02974907491710917,
          0.03161711443997285,
          -0.006734486474692475,
          0.0017687488821671587,
          0.03205181901693134,
          0.017387072543931938,
          0.11921843486746743,
          -0.0062938149592970775,
          0.018898727534898532,
          0.03705562944417333,
          0.03374062327713504,
          0.08149724419582528,
          -0.03074274797958024,
          0.03509368755165895,
          0.01313564628546233,
          -0.006378469186125081,
          -0.04961124617557869,
          -0.12772318728902374,
          0.04251283809069096,
          -0.0041661953768667185,
          -0.028701065279561472,
          -0.01957254315692035,
          0.03998366090579434,
          0.031984216103858806,
          0.006744812791821567,
          0.03643213445735007,
          0.017272096909531555,
          -0.04223229344871564,
          0.006265105659810634,
          -0.031013582803841335,
          0.04964715675134432,
          0.006810578672784683,
          -0.044440653310942796,
          -0.009543130353379798,
          -0.0663521763056877,
          -0.005889394805839068,
          0.04148581070093519,
          0.016230761245708623,
          -0.06289341727027524,
          0.013093827482800639,
          -0.051053775924629424,
          -0.008208173270999982,
          0.018072325435531507,
          -0.051585055672323236,
          0.006076947341899706,
          -0.03561605979548491,
          0.04198665654283043,
          0.07227140942458773,
          0.05602002567418564,
          0.02493491640225287,
          -0.0050128185500081576,
          -0.002096907250306926,
          -0.014699782732613053,
          -0.012749774874751605,
          0.1269116289226746,
          -0.04273287830059682,
          -0.054953895352910696,
          -0.021758379841487693,
          -0.03609004895021842,
          0.029890740749494566,
          0.005917481776156395,
          0.03853754612843837,
          -0.06987655465675016,
          0.017346435457551865,
          -0.018364847454341894,
          -0.03441330009854252,
          0.000622510083264904,
          -0.0539980722931419,
          -0.014835635717323473,
          -0.012551567227813773,
          0.02048773822340817,
          -0.12277997465910719,
          0.02059221036289143,
          0.10145138741776683,
          -0.005856643341232021,
          -0.02786380690498853,
          -0.016162405874435497,
          0.035474386816493036,
          -0.017458706575610557,
          0.016028052271245364,
          0.010787525285489406,
          -0.0298952129692807,
          -0.050505215210130634,
          0.018159773032297852,
          0.05191932445845771,
          0.0010402120327626255,
          -0.05228610180162916,
          -0.022350967561475237,
          -0.04224617718140919,
          -0.07254830168258311,
          0.04695367409397792,
          0.011299945777284081,
          0.07211363413565586,
          -0.006986492144572377,
          0.01779600470296842,
          -0.04724057511561311,
          -0.0011922300504741562,
          -0.04104369101185902,
          0.024335419149005895,
          0.04107819387010212,
          -0.024358017786858904,
          -0.05259370365966602,
          -0.03711720154932235,
          0.04530634609366675,
          0.046704219074345354,
          0.03665493442277862,
          0.03803519751155836,
          0.017268009913468576,
          0.0760832835953988,
          0.005147863044765912,
          0.014714339594958641,
          -0.003240181703986614,
          0.07728050710253655,
          0.007054913567225325,
          -0.005087674440050588,
          -0.01509517416561853,
          0.006465651918934319,
          0.05459557817973847,
          -0.048464637280470575,
          -0.042589069768463106,
          0.01093679078037125,
          -0.030510186068030958,
          -0.049534931817513166,
          0.01122853693277581,
          0.03525937358618668,
          -0.03723709338922126,
          0.01939443951963136,
          0.023480261839117743,
          -0.05082502163771964,
          0.03180563608534794,
          -0.003704429607069112,
          -0.007019222592886596,
          -0.1299278575282087,
          0.005790878918745771,
          -0.004548029513557434,
          -0.007721957937068309,
          0.03628977282780161,
          0.006963974902024329,
          0.04659599279666411,
          -0.08695990905101429,
          -0.00877557365586079,
          -0.0951126361970946,
          0.016293707630266798,
          -0.08615264955046516,
          -0.008207980246495447,
          0.05555683158900242,
          -0.06055559591829793,
          0.050132289582274676,
          -0.07043726926027942,
          -0.0005496144580126333,
          -0.06631616117599509,
          0.016432950581559483,
          -0.07176955888757142,
          0.04762508488803113,
          0.07164265445291097,
          0.0707688185938516,
          -0.0018051917677216725,
          -0.023876273341224673,
          0.04571303469577831,
          -0.09672413884722543,
          0.01591980642197778,
          0.002542820180630796,
          0.012397350726358317,
          -0.008970671737446728,
          -0.0316877053198606,
          -0.07366972655880115,
          0.023606322357198544,
          0.0533736162801124,
          -0.08927688581957327,
          0.017029157609637507,
          0.08942411634475682,
          -0.004015858661335937,
          -0.0043156097521520964,
          0.04425503260828766,
          -0.003206786761701394,
          -0.05133914578061633,
          -0.018100003611393488,
          -0.0177355774717728,
          0.012352524133575146,
          0.025215114905161356,
          -0.00573722846648063,
          0.05380522947187794,
          0.02511707828484195,
          -0.06772231414560198,
          -0.005448427397798375,
          0.016890005886123306,
          0.005357484236889209,
          0.007330299130864308,
          0.001997430616818738,
          0.020505045463666282,
          0.007991447618970264,
          0.09331246499887616,
          0.0019732780255828208,
          -0.014093787954092982,
          -0.0363152186530825,
          0.05982904612856656,
          0.021882347827174065,
          0.056238328890716484,
          0.0004262206792024022,
          0.011072869479979633,
          0.022402858626649376,
          0.004014952135593356,
          -0.0686033118290163,
          0.007789020718917544,
          -0.0247155543645267,
          0.03816806100817755,
          -0.026599955270312267,
          0.045690263130780645,
          0.030493897831355556,
          -0.008952025876518947,
          -0.008407578354357605,
          -0.0037131047703819653,
          -0.02069451464936621,
          -0.023027123255798403,
          0.02230781558771273,
          0.0021677745650455194,
          -0.0034616690754643124,
          -0.02732301898385137,
          -0.011415491099770154,
          -0.02531598923616216,
          -0.007554668468041173,
          0.005608200169827373,
          -0.025395567131662106,
          0.015460425583855752,
          0.03325755641840769,
          0.019408586563541073,
          0.035389242849343666,
          0.015693156705112052,
          -0.041209445573060305,
          0.035245873940170286,
          0.0037601953268899466,
          -0.0013177201460770078,
          0.018680537647816527,
          -0.001100668054834369,
          -0.026021592607865372,
          -0.041438568478665415,
          -0.04703665354268194,
          0.0024668028538151034,
          0.024797737333229056,
          0.017065662059063912,
          -0.07053030781738932,
          -0.011097446407076914,
          -0.09008354847845335,
          0.02862918608137619,
          -0.035210184423729626,
          -0.011191467132615623,
          -0.06533110715825653,
          -0.0004932430962923407,
          -0.02940186584357689,
          0.003412211010253521,
          0.02041257160441261,
          -0.07845410579918498,
          0.06770743117966126,
          0.003822165646732409,
          0.008366694500343838,
          -0.06878698522005931,
          0.03395945997966481,
          -0.014987724107085643,
          0.051525211920993325,
          0.009931639962148882,
          0.0020011878357876823,
          0.015123446596271723,
          -0.004297734947231046,
          0.0012298580156588981,
          -0.05801089494975556,
          0.0015338580999043428,
          -0.03709208198225607,
          -0.05137700982212229,
          -0.029766854567743133,
          -0.07436539035358274,
          0.07132888823212645,
          0.027155202242509627,
          -0.02594999483044167,
          0.018009160285334423,
          -0.03934004993858786,
          -0.020266034660649707,
          -0.016402810087859467,
          -0.07082202204033466,
          0.012079065403443036,
          0.07530952893106566,
          -0.0018575995078746789,
          0.00032805270562665304,
          -0.011491515256992131,
          0.07390252318127676,
          0,
          0.0008214584254523483,
          -0.06580520897353867,
          -0.01451975486845227,
          -0.03267127201155782,
          -0.003453386948248274,
          0.03183338116095202,
          -0.06477309340338366,
          -0.04179828130131225,
          -0.02612261140486262,
          0.005533102257132837,
          -0.04833680500131505,
          -0.0023992055582815475,
          -0.08396483835074355,
          -0.0016704490129968075,
          -0.09302311928148893,
          -0.017706675474399133,
          -0.12113825810398889,
          0.032553261278161744,
          0.07772640277207259,
          0.011102159833173808,
          -0.13058999220665155,
          0.04997884108534127,
          -0.02946907696009933,
          0.02435215499827936,
          0.057654579278002493,
          -0.007711027963739906,
          0.036109204525613114,
          0.00275546279838757,
          -0.009432465746951967,
          0.07163646233055776,
          -0.020825332244057446,
          -0.012580752996881307,
          0.04797727392320426,
          0.07457364612008015,
          0.0009734348560736818,
          0.0037457958683397114,
          0.1040650092615062,
          0.10436164069972145,
          -0.06526572943550507,
          0.03860663902242871,
          0.04619721319012782,
          0.03711744228973266,
          0.009041655543147504,
          0.024849222136681733,
          0.010470780820742525,
          0.02250783702828191,
          0.029516907690852447,
          -0.05161833459581209,
          -0.011493498714308886,
          0.07237801403011461,
          0.023567198213512965,
          -0.058631243213632354,
          0.030561678706295534,
          -0.05394722804913025,
          0.017528035977254008,
          0.006006057267467943,
          -0.02601977738759486,
          0.05316324215501689,
          -0.009290230436857878,
          -0.014395089751065829,
          -0.060322654091468045,
          0.03545612908951283,
          -0.02032754273314496,
          -0.03198003067013721,
          -0.03089156736881823,
          -0.05117763786639216,
          0.0030026831172517087,
          0.005978365078895034,
          0.04909578215581386,
          -0.015452165385496644,
          0.020188342220549882,
          -0.021963216854791676,
          0.01717250122413543,
          0.07529223411697607,
          -0.0330851466718186,
          0.0055821275337720674,
          -0.009460894526444498,
          0.007325624786097459,
          -0.013753472002494866,
          0.0244876221590413,
          0.0071949836717746535,
          0.060504162532241994,
          -0.06311918518816903,
          -0.011307735857578558,
          -0.03734894534323148,
          -0.002482632348555218,
          -0.0029764508462149673,
          0.012281322445656457,
          -0.03403263254550459,
          0.029256539212836878,
          -0.004853036816821088,
          0.010966636750077955,
          -0.014703352511066695,
          -0.020389861131667686,
          -0.10254036525166675,
          0.012741333042302827,
          -0.015444550452118741,
          -0.011633104865311444,
          -0.04402465397224694,
          0.041032719267455574,
          0.025394246651119615,
          -0.015208459761728233,
          -0.009436987371174365,
          0.001869644402715088,
          0.0036667412660127767,
          0.05350549046047228,
          0.01012145995502574,
          -0.015486902413259212,
          -0.003612788634512576,
          0.020786425091438347,
          -0.024114596337054404,
          -0.009750860107846383,
          0.0010214088288270423,
          0.04313493317739194,
          0.01727768584344739,
          0.018206255962432197,
          0.0473245988875953,
          -0.016549549453013485,
          -0.015569850375932186,
          0.008547333224801432,
          0.04608376548838008,
          0.040530008769500823,
          0.013676132280176065,
          0.017450979367424225,
          0.030608082827557156,
          0.016868648629117366,
          0.0168599499197107,
          0.01462307267215497,
          0.04480209933086133,
          0.03981660778824774,
          0.021974491562613167,
          0.03492701634188564,
          -0.007449046704933148,
          -0.0034719442089692484,
          0.01796971375181672,
          0.05201270640767318,
          -0.05616662426467672,
          0.019654473293680905,
          -0.03073851253541729,
          -0.06251408245574486,
          0.03729619858071868,
          0.023813875097039847,
          0.004905252914132209,
          0.016446493545468958,
          0.06668035183063045,
          0.009461225032650612,
          -0.02125228365266279,
          -0.007659314226953743,
          -0.01771977662648564,
          0.0006674942605875906,
          0.008121354742896705,
          0.021496049775542363,
          0.012444771516691934,
          0.03148434056863512,
          0.010141906463636843,
          -0.00711596075110357,
          -0.1024426640636013,
          -0.011015199637560409,
          0.03417588510139735,
          -0.014148526638195701,
          -0.003511861575139069,
          -0.03322998965193553,
          0.040485570289088474
         ],
         "xaxis": "x",
         "yaxis": "y"
        }
       ],
       "layout": {
        "barmode": "relative",
        "legend": {
         "title": {
          "text": "variable"
         },
         "tracegroupgap": 0
        },
        "margin": {
         "t": 60
        },
        "template": {
         "data": {
          "bar": [
           {
            "error_x": {
             "color": "#2a3f5f"
            },
            "error_y": {
             "color": "#2a3f5f"
            },
            "marker": {
             "line": {
              "color": "#E5ECF6",
              "width": 0.5
             },
             "pattern": {
              "fillmode": "overlay",
              "size": 10,
              "solidity": 0.2
             }
            },
            "type": "bar"
           }
          ],
          "barpolar": [
           {
            "marker": {
             "line": {
              "color": "#E5ECF6",
              "width": 0.5
             },
             "pattern": {
              "fillmode": "overlay",
              "size": 10,
              "solidity": 0.2
             }
            },
            "type": "barpolar"
           }
          ],
          "carpet": [
           {
            "aaxis": {
             "endlinecolor": "#2a3f5f",
             "gridcolor": "white",
             "linecolor": "white",
             "minorgridcolor": "white",
             "startlinecolor": "#2a3f5f"
            },
            "baxis": {
             "endlinecolor": "#2a3f5f",
             "gridcolor": "white",
             "linecolor": "white",
             "minorgridcolor": "white",
             "startlinecolor": "#2a3f5f"
            },
            "type": "carpet"
           }
          ],
          "choropleth": [
           {
            "colorbar": {
             "outlinewidth": 0,
             "ticks": ""
            },
            "type": "choropleth"
           }
          ],
          "contour": [
           {
            "colorbar": {
             "outlinewidth": 0,
             "ticks": ""
            },
            "colorscale": [
             [
              0,
              "#0d0887"
             ],
             [
              0.1111111111111111,
              "#46039f"
             ],
             [
              0.2222222222222222,
              "#7201a8"
             ],
             [
              0.3333333333333333,
              "#9c179e"
             ],
             [
              0.4444444444444444,
              "#bd3786"
             ],
             [
              0.5555555555555556,
              "#d8576b"
             ],
             [
              0.6666666666666666,
              "#ed7953"
             ],
             [
              0.7777777777777778,
              "#fb9f3a"
             ],
             [
              0.8888888888888888,
              "#fdca26"
             ],
             [
              1,
              "#f0f921"
             ]
            ],
            "type": "contour"
           }
          ],
          "contourcarpet": [
           {
            "colorbar": {
             "outlinewidth": 0,
             "ticks": ""
            },
            "type": "contourcarpet"
           }
          ],
          "heatmap": [
           {
            "colorbar": {
             "outlinewidth": 0,
             "ticks": ""
            },
            "colorscale": [
             [
              0,
              "#0d0887"
             ],
             [
              0.1111111111111111,
              "#46039f"
             ],
             [
              0.2222222222222222,
              "#7201a8"
             ],
             [
              0.3333333333333333,
              "#9c179e"
             ],
             [
              0.4444444444444444,
              "#bd3786"
             ],
             [
              0.5555555555555556,
              "#d8576b"
             ],
             [
              0.6666666666666666,
              "#ed7953"
             ],
             [
              0.7777777777777778,
              "#fb9f3a"
             ],
             [
              0.8888888888888888,
              "#fdca26"
             ],
             [
              1,
              "#f0f921"
             ]
            ],
            "type": "heatmap"
           }
          ],
          "heatmapgl": [
           {
            "colorbar": {
             "outlinewidth": 0,
             "ticks": ""
            },
            "colorscale": [
             [
              0,
              "#0d0887"
             ],
             [
              0.1111111111111111,
              "#46039f"
             ],
             [
              0.2222222222222222,
              "#7201a8"
             ],
             [
              0.3333333333333333,
              "#9c179e"
             ],
             [
              0.4444444444444444,
              "#bd3786"
             ],
             [
              0.5555555555555556,
              "#d8576b"
             ],
             [
              0.6666666666666666,
              "#ed7953"
             ],
             [
              0.7777777777777778,
              "#fb9f3a"
             ],
             [
              0.8888888888888888,
              "#fdca26"
             ],
             [
              1,
              "#f0f921"
             ]
            ],
            "type": "heatmapgl"
           }
          ],
          "histogram": [
           {
            "marker": {
             "pattern": {
              "fillmode": "overlay",
              "size": 10,
              "solidity": 0.2
             }
            },
            "type": "histogram"
           }
          ],
          "histogram2d": [
           {
            "colorbar": {
             "outlinewidth": 0,
             "ticks": ""
            },
            "colorscale": [
             [
              0,
              "#0d0887"
             ],
             [
              0.1111111111111111,
              "#46039f"
             ],
             [
              0.2222222222222222,
              "#7201a8"
             ],
             [
              0.3333333333333333,
              "#9c179e"
             ],
             [
              0.4444444444444444,
              "#bd3786"
             ],
             [
              0.5555555555555556,
              "#d8576b"
             ],
             [
              0.6666666666666666,
              "#ed7953"
             ],
             [
              0.7777777777777778,
              "#fb9f3a"
             ],
             [
              0.8888888888888888,
              "#fdca26"
             ],
             [
              1,
              "#f0f921"
             ]
            ],
            "type": "histogram2d"
           }
          ],
          "histogram2dcontour": [
           {
            "colorbar": {
             "outlinewidth": 0,
             "ticks": ""
            },
            "colorscale": [
             [
              0,
              "#0d0887"
             ],
             [
              0.1111111111111111,
              "#46039f"
             ],
             [
              0.2222222222222222,
              "#7201a8"
             ],
             [
              0.3333333333333333,
              "#9c179e"
             ],
             [
              0.4444444444444444,
              "#bd3786"
             ],
             [
              0.5555555555555556,
              "#d8576b"
             ],
             [
              0.6666666666666666,
              "#ed7953"
             ],
             [
              0.7777777777777778,
              "#fb9f3a"
             ],
             [
              0.8888888888888888,
              "#fdca26"
             ],
             [
              1,
              "#f0f921"
             ]
            ],
            "type": "histogram2dcontour"
           }
          ],
          "mesh3d": [
           {
            "colorbar": {
             "outlinewidth": 0,
             "ticks": ""
            },
            "type": "mesh3d"
           }
          ],
          "parcoords": [
           {
            "line": {
             "colorbar": {
              "outlinewidth": 0,
              "ticks": ""
             }
            },
            "type": "parcoords"
           }
          ],
          "pie": [
           {
            "automargin": true,
            "type": "pie"
           }
          ],
          "scatter": [
           {
            "fillpattern": {
             "fillmode": "overlay",
             "size": 10,
             "solidity": 0.2
            },
            "type": "scatter"
           }
          ],
          "scatter3d": [
           {
            "line": {
             "colorbar": {
              "outlinewidth": 0,
              "ticks": ""
             }
            },
            "marker": {
             "colorbar": {
              "outlinewidth": 0,
              "ticks": ""
             }
            },
            "type": "scatter3d"
           }
          ],
          "scattercarpet": [
           {
            "marker": {
             "colorbar": {
              "outlinewidth": 0,
              "ticks": ""
             }
            },
            "type": "scattercarpet"
           }
          ],
          "scattergeo": [
           {
            "marker": {
             "colorbar": {
              "outlinewidth": 0,
              "ticks": ""
             }
            },
            "type": "scattergeo"
           }
          ],
          "scattergl": [
           {
            "marker": {
             "colorbar": {
              "outlinewidth": 0,
              "ticks": ""
             }
            },
            "type": "scattergl"
           }
          ],
          "scattermapbox": [
           {
            "marker": {
             "colorbar": {
              "outlinewidth": 0,
              "ticks": ""
             }
            },
            "type": "scattermapbox"
           }
          ],
          "scatterpolar": [
           {
            "marker": {
             "colorbar": {
              "outlinewidth": 0,
              "ticks": ""
             }
            },
            "type": "scatterpolar"
           }
          ],
          "scatterpolargl": [
           {
            "marker": {
             "colorbar": {
              "outlinewidth": 0,
              "ticks": ""
             }
            },
            "type": "scatterpolargl"
           }
          ],
          "scatterternary": [
           {
            "marker": {
             "colorbar": {
              "outlinewidth": 0,
              "ticks": ""
             }
            },
            "type": "scatterternary"
           }
          ],
          "surface": [
           {
            "colorbar": {
             "outlinewidth": 0,
             "ticks": ""
            },
            "colorscale": [
             [
              0,
              "#0d0887"
             ],
             [
              0.1111111111111111,
              "#46039f"
             ],
             [
              0.2222222222222222,
              "#7201a8"
             ],
             [
              0.3333333333333333,
              "#9c179e"
             ],
             [
              0.4444444444444444,
              "#bd3786"
             ],
             [
              0.5555555555555556,
              "#d8576b"
             ],
             [
              0.6666666666666666,
              "#ed7953"
             ],
             [
              0.7777777777777778,
              "#fb9f3a"
             ],
             [
              0.8888888888888888,
              "#fdca26"
             ],
             [
              1,
              "#f0f921"
             ]
            ],
            "type": "surface"
           }
          ],
          "table": [
           {
            "cells": {
             "fill": {
              "color": "#EBF0F8"
             },
             "line": {
              "color": "white"
             }
            },
            "header": {
             "fill": {
              "color": "#C8D4E3"
             },
             "line": {
              "color": "white"
             }
            },
            "type": "table"
           }
          ]
         },
         "layout": {
          "annotationdefaults": {
           "arrowcolor": "#2a3f5f",
           "arrowhead": 0,
           "arrowwidth": 1
          },
          "autotypenumbers": "strict",
          "coloraxis": {
           "colorbar": {
            "outlinewidth": 0,
            "ticks": ""
           }
          },
          "colorscale": {
           "diverging": [
            [
             0,
             "#8e0152"
            ],
            [
             0.1,
             "#c51b7d"
            ],
            [
             0.2,
             "#de77ae"
            ],
            [
             0.3,
             "#f1b6da"
            ],
            [
             0.4,
             "#fde0ef"
            ],
            [
             0.5,
             "#f7f7f7"
            ],
            [
             0.6,
             "#e6f5d0"
            ],
            [
             0.7,
             "#b8e186"
            ],
            [
             0.8,
             "#7fbc41"
            ],
            [
             0.9,
             "#4d9221"
            ],
            [
             1,
             "#276419"
            ]
           ],
           "sequential": [
            [
             0,
             "#0d0887"
            ],
            [
             0.1111111111111111,
             "#46039f"
            ],
            [
             0.2222222222222222,
             "#7201a8"
            ],
            [
             0.3333333333333333,
             "#9c179e"
            ],
            [
             0.4444444444444444,
             "#bd3786"
            ],
            [
             0.5555555555555556,
             "#d8576b"
            ],
            [
             0.6666666666666666,
             "#ed7953"
            ],
            [
             0.7777777777777778,
             "#fb9f3a"
            ],
            [
             0.8888888888888888,
             "#fdca26"
            ],
            [
             1,
             "#f0f921"
            ]
           ],
           "sequentialminus": [
            [
             0,
             "#0d0887"
            ],
            [
             0.1111111111111111,
             "#46039f"
            ],
            [
             0.2222222222222222,
             "#7201a8"
            ],
            [
             0.3333333333333333,
             "#9c179e"
            ],
            [
             0.4444444444444444,
             "#bd3786"
            ],
            [
             0.5555555555555556,
             "#d8576b"
            ],
            [
             0.6666666666666666,
             "#ed7953"
            ],
            [
             0.7777777777777778,
             "#fb9f3a"
            ],
            [
             0.8888888888888888,
             "#fdca26"
            ],
            [
             1,
             "#f0f921"
            ]
           ]
          },
          "colorway": [
           "#636efa",
           "#EF553B",
           "#00cc96",
           "#ab63fa",
           "#FFA15A",
           "#19d3f3",
           "#FF6692",
           "#B6E880",
           "#FF97FF",
           "#FECB52"
          ],
          "font": {
           "color": "#2a3f5f"
          },
          "geo": {
           "bgcolor": "white",
           "lakecolor": "white",
           "landcolor": "#E5ECF6",
           "showlakes": true,
           "showland": true,
           "subunitcolor": "white"
          },
          "hoverlabel": {
           "align": "left"
          },
          "hovermode": "closest",
          "mapbox": {
           "style": "light"
          },
          "paper_bgcolor": "white",
          "plot_bgcolor": "#E5ECF6",
          "polar": {
           "angularaxis": {
            "gridcolor": "white",
            "linecolor": "white",
            "ticks": ""
           },
           "bgcolor": "#E5ECF6",
           "radialaxis": {
            "gridcolor": "white",
            "linecolor": "white",
            "ticks": ""
           }
          },
          "scene": {
           "xaxis": {
            "backgroundcolor": "#E5ECF6",
            "gridcolor": "white",
            "gridwidth": 2,
            "linecolor": "white",
            "showbackground": true,
            "ticks": "",
            "zerolinecolor": "white"
           },
           "yaxis": {
            "backgroundcolor": "#E5ECF6",
            "gridcolor": "white",
            "gridwidth": 2,
            "linecolor": "white",
            "showbackground": true,
            "ticks": "",
            "zerolinecolor": "white"
           },
           "zaxis": {
            "backgroundcolor": "#E5ECF6",
            "gridcolor": "white",
            "gridwidth": 2,
            "linecolor": "white",
            "showbackground": true,
            "ticks": "",
            "zerolinecolor": "white"
           }
          },
          "shapedefaults": {
           "line": {
            "color": "#2a3f5f"
           }
          },
          "ternary": {
           "aaxis": {
            "gridcolor": "white",
            "linecolor": "white",
            "ticks": ""
           },
           "baxis": {
            "gridcolor": "white",
            "linecolor": "white",
            "ticks": ""
           },
           "bgcolor": "#E5ECF6",
           "caxis": {
            "gridcolor": "white",
            "linecolor": "white",
            "ticks": ""
           }
          },
          "title": {
           "x": 0.05
          },
          "xaxis": {
           "automargin": true,
           "gridcolor": "white",
           "linecolor": "white",
           "ticks": "",
           "title": {
            "standoff": 15
           },
           "zerolinecolor": "white",
           "zerolinewidth": 2
          },
          "yaxis": {
           "automargin": true,
           "gridcolor": "white",
           "linecolor": "white",
           "ticks": "",
           "title": {
            "standoff": 15
           },
           "zerolinecolor": "white",
           "zerolinewidth": 2
          }
         }
        },
        "xaxis": {
         "anchor": "y",
         "domain": [
          0,
          1
         ],
         "title": {
          "text": "value"
         }
        },
        "yaxis": {
         "anchor": "x",
         "domain": [
          0,
          1
         ],
         "title": {
          "text": "count"
         }
        }
       }
      },
      "text/html": [
       "<div>                            <div id=\"7f3b8545-c5fd-4490-aba1-bbd11d9ebf1f\" class=\"plotly-graph-div\" style=\"height:525px; width:100%;\"></div>            <script type=\"text/javascript\">                require([\"plotly\"], function(Plotly) {                    window.PLOTLYENV=window.PLOTLYENV || {};                                    if (document.getElementById(\"7f3b8545-c5fd-4490-aba1-bbd11d9ebf1f\")) {                    Plotly.newPlot(                        \"7f3b8545-c5fd-4490-aba1-bbd11d9ebf1f\",                        [{\"alignmentgroup\":\"True\",\"bingroup\":\"x\",\"hovertemplate\":\"variable=Close\\u003cbr\\u003evalue=%{x}\\u003cbr\\u003ecount=%{y}\\u003cextra\\u003e\\u003c\\u002fextra\\u003e\",\"legendgroup\":\"Close\",\"marker\":{\"color\":\"#636efa\",\"pattern\":{\"shape\":\"\"}},\"name\":\"Close\",\"offsetgroup\":\"Close\",\"orientation\":\"v\",\"showlegend\":true,\"x\":[0.02920267893223429,0.019071612174755247,0.03806670586808656,0.048032568493066904,-0.022189385476863444,-0.006649355680979626,0.09320702322102224,0.024578286172624794,-0.03676981311758122,-0.00970946227670784,-0.005839913304383257,0.06942373110021945,0.04004983514491321,0.004624413044606698,-0.012981499419033645,-0.012112331857897394,0.01578809278786119,0.02455066473079113,0.09799952270077929,0.015115867923964223,0.18144500086765858,0.1286186970285338,-0.18845037343186985,0.019223358515689473,-0.0011890304222129079,0.030554904345579816,0.0040112052857509935,-0.009197828567077742,0.04673438827304504,-0.004949986662921484,0.0704209168261074,0.06649517653196184,-0.019826354777620056,0.0017662480443414094,-0.07752369493467591,-0.041482357972054684,-0.026744949535016983,-0.13713311629061195,-0.016347950327421108,0.1072570247859105,0.0025383850988232293,0.005337746224066965,-0.033869376791647296,-0.029497510135476336,-0.14586457137702016,0.059586929551683376,-0.01735009892797303,-0.12349328402408655,-0.02516454136147571,-0.20552230217550044,-0.03398134500612111,-0.17476304366003273,0.16879451260286096,-0.00025720668994270134,0.015688043665694176,0.15084593365171223,0.06562083944686455,-0.0207800386755252,-0.026475805312348537,-0.024064387275638185,0.04263263821287683,-0.08446087652228773,-0.057898921000518445,0.05467504939194526,0.07276481895829454,0.05503939414254686,0.006195761068727163,0.043078797207400474,0.12754711640906993,0.0866771798728856,0.02770162075738181,0.020854428493631318,0.011580411041559343,-0.010038465581097953,-0.08328137479063667,0.06400415510269586,-0.036839791089286374,0.02728753098899391,0.09666945779957149,-0.037801017814305886,0.040002020280935593,-0.023547759980736722,-0.10873700220740792,0.0819187203405193,0.009180180665024101,0.018533023597782732,-0.003250973870209664,0.04925154604829151,-0.009971196406895207,-0.0023199593370761967,-0.02305818093053759,0.015518160889563192,-0.005191880165631997,0.01793204109959487,-0.0069313094591098995,0.00930057241369536,0.014654934735012084,-0.013037700356063059,0.002433081947381517,0.001659467041868106,-0.017736751939729612,0.035583725409644835,0.07284966703702293,-0.018588326218028427,0.0015867839932886055,-0.02126741082055923,0.024320646383694,0.07004464847857836,-0.00978535494822048,0.08590431690632504,-0.052277046427824686,-0.03937370329089697,0.05776761532071402,-0.008889888882897297,0.009787666254598352,0.012196058432993926,-0.003052506049991116,-0.006595797039905825,0.007474555771254048,-0.04171541244464825,0.025817844628587844,-0.02697370050614223,0.05039944763683731,0.06747855280845434,0.036213124954005624,0.07651403502187115,0.12645108117682743,0.01323965619758905,-0.017404076436543424,0.020579243780394125,0.10241918272489342,-0.031294179797161696,0.013099686323903579,0.019074500672006927,-0.029785727485036655,0.00013329605943815782,0.09049888548491682,-0.04649333201590645,0.015167860710440668,-0.05105769412846385,-0.06559870288489437,0.08298067038819532,-0.04185494718429495,0.01520390470417943,-0.007781454581928156,-0.038884339639871014,0.03720897247565101,0.0013458747004375454,-0.0013323884879125765,0.0030659693985973365,-0.025063424630081085,-0.023781465364230404,-0.03163934754750347,0.12331118921207428,0.04172205380429948,0.018162259872136134,0.10618769683979797,0.02764276800974182,-0.0045463782503080055,0.0635722137952821,0.023768211540485355,-0.017607920006301417,0.004527486632740915,0.0621915738853809,0.03897652873348478,-0.01138789608941323,0.11839534141276628,-0.04782238606695396,-0.060034084286439256,-0.0945727929773044,0.02743348445504921,-0.23651789445767657,0.10366923114657202,0.013720031040026988,0.003709375196707332,0.11852211424147706,0.06936453038904387,-0.017947393738460667,-0.04237854336559032,0.04326101937694436,0.016241895082045352,-0.05761528541471742,-0.10915761260898618,0.019345803747202597,0.0491842305281949,0.033459528236176775,-0.005069748902601041,0.023442192423042928,0.043670173422939704,-0.07665503512528221,0.025192518630920653,-0.02787018407731412,0.026977120398229415,0.0014567215247855486,0.018793074176697643,0.018943822515122916,0.009786884708723409,0.032273287618783654,-0.02729299577407529,-0.020731092265373598,-0.020310891071385614,-0.020850455371877373,0.0016576578966101716,0.007425427859397711,-0.01219258008931434,-0.0008324460631960825,0.010414737676610572,-0.04493353448533056,0.011777078527549948,-0.05707106115006527,0.03163027338080621,0.05675891678442002,-0.0069123197353376745,0.03983908014025376,-0.018755444602258167,-0.020418708541599162,-0.026215382510501505,0.016363110813065698,-0.012957330573612593,-0.007948653293047676,-0.0010042223136041864,0.07893944622909929,0.09709745318946535,0.025622441945055478,-0.019537882465358328,0.06377098448424992,0.0622723727366544,0.03297682427747412,0.02028074420821668,-0.03149318478843732,0.029784568093447848,-0.02763741793314288,0.04227093212295058,0.009493325730045684,0.068886056292822,0.012573321033348567,-0.07241913725041024,0.03668958724599977,-0.027615591895456065,0.04775997018342951,-0.010337277993335172,-0.016688013184044656,0.05183107739238726,0.05790353852575241,-0.06715493498509616,-0.01475762913420309,0.00876920991536227,0.024149533626973363,0.0028971067347807124,0.0034595328945027123,0.04232058232357712,0.015552413007484785,0.03358173995604568,0.007290726849836652,0.027994766442436515,0.07644846869014829,0.07548123816080572,-0.08144231364811663,0.046075003355075396,0.00583390055163722,-0.011074621019438693,-0.02254816438492551,0.022015499815695144,0.00696170884124915,-0.006440854103183227,0.0019507385857471659,0.039555086200732226,0.002596544878530684,-0.021669174678462418,-0.033811459334112025,-0.051455133708131096,0.05668432585298431,0.03851924269165984,-0.020956118951172036,-0.005514295631595512,0.002631883215661463,0.013044842106937113,-0.016300455142510474,-0.053982110546516617,0.008462878423046197,0.005479859012751231,-0.024685864957400334,0.0024209343993348833,-0.01358555824881115,-0.007751801260508434,-0.08937612559287707,-0.022161184525391956,0.059954347975619646,-0.08402401628244031,-0.009898985904473094,0.061615106636751404,-0.04554943930628858,-0.04963546753524194,-0.04984401019282242,-0.03853223628041701,-0.06022747806878096,0.17932714140524914,-0.008228833280182691,0.046130766690605556,-0.008425900400429927,0.02027649657712341,-0.04486533694757771,0.03616869761350537,-0.07184055905976201,0.002614584056873359,0.02284097771296026,-0.011770465503008509,-0.04935894253519092,0.015929083234572167,-0.034440713289359076,-0.012065159218404247,0.039029424523405194,0.04958242699342897,-0.00929552576717066,0.043324388497766333,0.0008244361718844317,-0.03031223705748461,0.018941076007001657,-0.009964638245883383,0.03620406408291566,0.0824615371588125,-0.04027179907894094,0.009000306677510112,0.001257911412789418,-0.034587909254449344,0.006082481415169929,0.03435484924604316,-0.03338171795091616,0.01340170287553078,0.011992516455123612,-0.046385859854230695,-0.014780794025162398,-0.02537683713134589,0.04680461290993818,-0.035203052789871174,-0.016636360929421883,-0.003956776807325818,-0.011090612633393284,0.013219694470214068,-0.0666139869184463,-0.019001672485714396,-0.04525703659502106,-0.03133918628539079,0.031084853734470938,-0.02213414578006038,0.0018013224952045325,-0.025252562795766022,0.040553601408475165,-0.010105809239520404,0.04306162202970284,-0.002889839951081735,0.023599290742317446,0.018752900206065234,-0.008964584890580543,-0.002113500469111133,-0.030563287475861584,-0.05482031154624073,0.04473860632554917,0.010098272085864791,-0.0025481655598922595,-0.008000903407653626,0.018761400839628444,-0.00037708912038201647,0.012708130416930218,-0.03012429716067012,0.009151155788618984,0.0192069740346885,0.010823457790850165,-0.003986737073227676,0.004628256702323586,0.051343820984031875,0.03479874196476401,-0.011763228305736152,0.02476994196174637,-0.011624991064809973,-0.0015582931945795787,-0.00262225819371756,0.001444593124038416,-0.028870583198134143,-0.02289574720602526,0.01257859403128338,0.006321812249024031,0.042832279170544656,-0.02534398967789286,-0.02293732311171139,-0.004263873629526309,-0.009854715165981626,0.003099673103658058,0.021857165705963834,-0.007919294852611359,-0.00924460786068585,-0.009097683584931696,0.02189168871378688,-0.019718078031379437,0.0034062276545409947,0.04587275846182932,0.014437208664382839,0.03217472594711166,9.862134908657855e-05,0.001661168327351945,0.005205072568156722,-0.021971130346089583,0.02075293960905606,-0.005295892009324611,-0.003061037245157465,0.020181504916966016,-0.0070584091033222005,-0.04418754471286682,-0.03027123516946714,0.03437259258571844,-0.022783267048393844,0.010031571629142592,0.03756503320848795,0.0030958501857263057,0.0038177489873267093,-0.014217568331421088,0.015229452832627683,0.026324794631827943,0.0065592749200010505,-0.002217981262751364,-0.00231847373209337,0.0016098361025145228,0.026035942688487673,0.0012609548743898497,0.001312369553312357,-0.024935356375548032,0.009099139444443169,0.002003341828722264,0.015117058319369686,0.0015335851645735571,0.0032970919669145526,-0.03936976129858423,0.012534643183807646,0.01684451236014587,0.002258262820491851,0.027160841972020323,0.021677401377557137,-0.017592195347548873,0.0048111864344248965,-0.0074897880450971975,-0.00033534501293734615,0.008106673348889567,-0.0012035741082394261,0.002763320999873195,0.01377889392912291,-0.010284539562274665,0.008177997401230774,0.01725061613832015,0.006630349593761303,0.008886865672994949,0.02974907491710917,0.03161711443997285,-0.006734486474692475,0.0017687488821671587,0.03205181901693134,0.017387072543931938,0.11921843486746743,-0.0062938149592970775,0.018898727534898532,0.03705562944417333,0.03374062327713504,0.08149724419582528,-0.03074274797958024,0.03509368755165895,0.01313564628546233,-0.006378469186125081,-0.04961124617557869,-0.12772318728902374,0.04251283809069096,-0.0041661953768667185,-0.028701065279561472,-0.01957254315692035,0.03998366090579434,0.031984216103858806,0.006744812791821567,0.03643213445735007,0.017272096909531555,-0.04223229344871564,0.006265105659810634,-0.031013582803841335,0.04964715675134432,0.006810578672784683,-0.044440653310942796,-0.009543130353379798,-0.0663521763056877,-0.005889394805839068,0.04148581070093519,0.016230761245708623,-0.06289341727027524,0.013093827482800639,-0.051053775924629424,-0.008208173270999982,0.018072325435531507,-0.051585055672323236,0.006076947341899706,-0.03561605979548491,0.04198665654283043,0.07227140942458773,0.05602002567418564,0.02493491640225287,-0.0050128185500081576,-0.002096907250306926,-0.014699782732613053,-0.012749774874751605,0.1269116289226746,-0.04273287830059682,-0.054953895352910696,-0.021758379841487693,-0.03609004895021842,0.029890740749494566,0.005917481776156395,0.03853754612843837,-0.06987655465675016,0.017346435457551865,-0.018364847454341894,-0.03441330009854252,0.000622510083264904,-0.0539980722931419,-0.014835635717323473,-0.012551567227813773,0.02048773822340817,-0.12277997465910719,0.02059221036289143,0.10145138741776683,-0.005856643341232021,-0.02786380690498853,-0.016162405874435497,0.035474386816493036,-0.017458706575610557,0.016028052271245364,0.010787525285489406,-0.0298952129692807,-0.050505215210130634,0.018159773032297852,0.05191932445845771,0.0010402120327626255,-0.05228610180162916,-0.022350967561475237,-0.04224617718140919,-0.07254830168258311,0.04695367409397792,0.011299945777284081,0.07211363413565586,-0.006986492144572377,0.01779600470296842,-0.04724057511561311,-0.0011922300504741562,-0.04104369101185902,0.024335419149005895,0.04107819387010212,-0.024358017786858904,-0.05259370365966602,-0.03711720154932235,0.04530634609366675,0.046704219074345354,0.03665493442277862,0.03803519751155836,0.017268009913468576,0.0760832835953988,0.005147863044765912,0.014714339594958641,-0.003240181703986614,0.07728050710253655,0.007054913567225325,-0.005087674440050588,-0.01509517416561853,0.006465651918934319,0.05459557817973847,-0.048464637280470575,-0.042589069768463106,0.01093679078037125,-0.030510186068030958,-0.049534931817513166,0.01122853693277581,0.03525937358618668,-0.03723709338922126,0.01939443951963136,0.023480261839117743,-0.05082502163771964,0.03180563608534794,-0.003704429607069112,-0.007019222592886596,-0.1299278575282087,0.005790878918745771,-0.004548029513557434,-0.007721957937068309,0.03628977282780161,0.006963974902024329,0.04659599279666411,-0.08695990905101429,-0.00877557365586079,-0.0951126361970946,0.016293707630266798,-0.08615264955046516,-0.008207980246495447,0.05555683158900242,-0.06055559591829793,0.050132289582274676,-0.07043726926027942,-0.0005496144580126333,-0.06631616117599509,0.016432950581559483,-0.07176955888757142,0.04762508488803113,0.07164265445291097,0.0707688185938516,-0.0018051917677216725,-0.023876273341224673,0.04571303469577831,-0.09672413884722543,0.01591980642197778,0.002542820180630796,0.012397350726358317,-0.008970671737446728,-0.0316877053198606,-0.07366972655880115,0.023606322357198544,0.0533736162801124,-0.08927688581957327,0.017029157609637507,0.08942411634475682,-0.004015858661335937,-0.0043156097521520964,0.04425503260828766,-0.003206786761701394,-0.05133914578061633,-0.018100003611393488,-0.0177355774717728,0.012352524133575146,0.025215114905161356,-0.00573722846648063,0.05380522947187794,0.02511707828484195,-0.06772231414560198,-0.005448427397798375,0.016890005886123306,0.005357484236889209,0.007330299130864308,0.001997430616818738,0.020505045463666282,0.007991447618970264,0.09331246499887616,0.0019732780255828208,-0.014093787954092982,-0.0363152186530825,0.05982904612856656,0.021882347827174065,0.056238328890716484,0.0004262206792024022,0.011072869479979633,0.022402858626649376,0.004014952135593356,-0.0686033118290163,0.007789020718917544,-0.0247155543645267,0.03816806100817755,-0.026599955270312267,0.045690263130780645,0.030493897831355556,-0.008952025876518947,-0.008407578354357605,-0.0037131047703819653,-0.02069451464936621,-0.023027123255798403,0.02230781558771273,0.0021677745650455194,-0.0034616690754643124,-0.02732301898385137,-0.011415491099770154,-0.02531598923616216,-0.007554668468041173,0.005608200169827373,-0.025395567131662106,0.015460425583855752,0.03325755641840769,0.019408586563541073,0.035389242849343666,0.015693156705112052,-0.041209445573060305,0.035245873940170286,0.0037601953268899466,-0.0013177201460770078,0.018680537647816527,-0.001100668054834369,-0.026021592607865372,-0.041438568478665415,-0.04703665354268194,0.0024668028538151034,0.024797737333229056,0.017065662059063912,-0.07053030781738932,-0.011097446407076914,-0.09008354847845335,0.02862918608137619,-0.035210184423729626,-0.011191467132615623,-0.06533110715825653,-0.0004932430962923407,-0.02940186584357689,0.003412211010253521,0.02041257160441261,-0.07845410579918498,0.06770743117966126,0.003822165646732409,0.008366694500343838,-0.06878698522005931,0.03395945997966481,-0.014987724107085643,0.051525211920993325,0.009931639962148882,0.0020011878357876823,0.015123446596271723,-0.004297734947231046,0.0012298580156588981,-0.05801089494975556,0.0015338580999043428,-0.03709208198225607,-0.05137700982212229,-0.029766854567743133,-0.07436539035358274,0.07132888823212645,0.027155202242509627,-0.02594999483044167,0.018009160285334423,-0.03934004993858786,-0.020266034660649707,-0.016402810087859467,-0.07082202204033466,0.012079065403443036,0.07530952893106566,-0.0018575995078746789,0.00032805270562665304,-0.011491515256992131,0.07390252318127676,0.0,0.0008214584254523483,-0.06580520897353867,-0.01451975486845227,-0.03267127201155782,-0.003453386948248274,0.03183338116095202,-0.06477309340338366,-0.04179828130131225,-0.02612261140486262,0.005533102257132837,-0.04833680500131505,-0.0023992055582815475,-0.08396483835074355,-0.0016704490129968075,-0.09302311928148893,-0.017706675474399133,-0.12113825810398889,0.032553261278161744,0.07772640277207259,0.011102159833173808,-0.13058999220665155,0.04997884108534127,-0.02946907696009933,0.02435215499827936,0.057654579278002493,-0.007711027963739906,0.036109204525613114,0.00275546279838757,-0.009432465746951967,0.07163646233055776,-0.020825332244057446,-0.012580752996881307,0.04797727392320426,0.07457364612008015,0.0009734348560736818,0.0037457958683397114,0.1040650092615062,0.10436164069972145,-0.06526572943550507,0.03860663902242871,0.04619721319012782,0.03711744228973266,0.009041655543147504,0.024849222136681733,0.010470780820742525,0.02250783702828191,0.029516907690852447,-0.05161833459581209,-0.011493498714308886,0.07237801403011461,0.023567198213512965,-0.058631243213632354,0.030561678706295534,-0.05394722804913025,0.017528035977254008,0.006006057267467943,-0.02601977738759486,0.05316324215501689,-0.009290230436857878,-0.014395089751065829,-0.060322654091468045,0.03545612908951283,-0.02032754273314496,-0.03198003067013721,-0.03089156736881823,-0.05117763786639216,0.0030026831172517087,0.005978365078895034,0.04909578215581386,-0.015452165385496644,0.020188342220549882,-0.021963216854791676,0.01717250122413543,0.07529223411697607,-0.0330851466718186,0.0055821275337720674,-0.009460894526444498,0.007325624786097459,-0.013753472002494866,0.0244876221590413,0.0071949836717746535,0.060504162532241994,-0.06311918518816903,-0.011307735857578558,-0.03734894534323148,-0.002482632348555218,-0.0029764508462149673,0.012281322445656457,-0.03403263254550459,0.029256539212836878,-0.004853036816821088,0.010966636750077955,-0.014703352511066695,-0.020389861131667686,-0.10254036525166675,0.012741333042302827,-0.015444550452118741,-0.011633104865311444,-0.04402465397224694,0.041032719267455574,0.025394246651119615,-0.015208459761728233,-0.009436987371174365,0.001869644402715088,0.0036667412660127767,0.05350549046047228,0.01012145995502574,-0.015486902413259212,-0.003612788634512576,0.020786425091438347,-0.024114596337054404,-0.009750860107846383,0.0010214088288270423,0.04313493317739194,0.01727768584344739,0.018206255962432197,0.0473245988875953,-0.016549549453013485,-0.015569850375932186,0.008547333224801432,0.04608376548838008,0.040530008769500823,0.013676132280176065,0.017450979367424225,0.030608082827557156,0.016868648629117366,0.0168599499197107,0.01462307267215497,0.04480209933086133,0.03981660778824774,0.021974491562613167,0.03492701634188564,-0.007449046704933148,-0.0034719442089692484,0.01796971375181672,0.05201270640767318,-0.05616662426467672,0.019654473293680905,-0.03073851253541729,-0.06251408245574486,0.03729619858071868,0.023813875097039847,0.004905252914132209,0.016446493545468958,0.06668035183063045,0.009461225032650612,-0.02125228365266279,-0.007659314226953743,-0.01771977662648564,0.0006674942605875906,0.008121354742896705,0.021496049775542363,0.012444771516691934,0.03148434056863512,0.010141906463636843,-0.00711596075110357,-0.1024426640636013,-0.011015199637560409,0.03417588510139735,-0.014148526638195701,-0.003511861575139069,-0.03322998965193553,0.040485570289088474],\"xaxis\":\"x\",\"yaxis\":\"y\",\"type\":\"histogram\"}],                        {\"template\":{\"data\":{\"histogram2dcontour\":[{\"type\":\"histogram2dcontour\",\"colorbar\":{\"outlinewidth\":0,\"ticks\":\"\"},\"colorscale\":[[0.0,\"#0d0887\"],[0.1111111111111111,\"#46039f\"],[0.2222222222222222,\"#7201a8\"],[0.3333333333333333,\"#9c179e\"],[0.4444444444444444,\"#bd3786\"],[0.5555555555555556,\"#d8576b\"],[0.6666666666666666,\"#ed7953\"],[0.7777777777777778,\"#fb9f3a\"],[0.8888888888888888,\"#fdca26\"],[1.0,\"#f0f921\"]]}],\"choropleth\":[{\"type\":\"choropleth\",\"colorbar\":{\"outlinewidth\":0,\"ticks\":\"\"}}],\"histogram2d\":[{\"type\":\"histogram2d\",\"colorbar\":{\"outlinewidth\":0,\"ticks\":\"\"},\"colorscale\":[[0.0,\"#0d0887\"],[0.1111111111111111,\"#46039f\"],[0.2222222222222222,\"#7201a8\"],[0.3333333333333333,\"#9c179e\"],[0.4444444444444444,\"#bd3786\"],[0.5555555555555556,\"#d8576b\"],[0.6666666666666666,\"#ed7953\"],[0.7777777777777778,\"#fb9f3a\"],[0.8888888888888888,\"#fdca26\"],[1.0,\"#f0f921\"]]}],\"heatmap\":[{\"type\":\"heatmap\",\"colorbar\":{\"outlinewidth\":0,\"ticks\":\"\"},\"colorscale\":[[0.0,\"#0d0887\"],[0.1111111111111111,\"#46039f\"],[0.2222222222222222,\"#7201a8\"],[0.3333333333333333,\"#9c179e\"],[0.4444444444444444,\"#bd3786\"],[0.5555555555555556,\"#d8576b\"],[0.6666666666666666,\"#ed7953\"],[0.7777777777777778,\"#fb9f3a\"],[0.8888888888888888,\"#fdca26\"],[1.0,\"#f0f921\"]]}],\"heatmapgl\":[{\"type\":\"heatmapgl\",\"colorbar\":{\"outlinewidth\":0,\"ticks\":\"\"},\"colorscale\":[[0.0,\"#0d0887\"],[0.1111111111111111,\"#46039f\"],[0.2222222222222222,\"#7201a8\"],[0.3333333333333333,\"#9c179e\"],[0.4444444444444444,\"#bd3786\"],[0.5555555555555556,\"#d8576b\"],[0.6666666666666666,\"#ed7953\"],[0.7777777777777778,\"#fb9f3a\"],[0.8888888888888888,\"#fdca26\"],[1.0,\"#f0f921\"]]}],\"contourcarpet\":[{\"type\":\"contourcarpet\",\"colorbar\":{\"outlinewidth\":0,\"ticks\":\"\"}}],\"contour\":[{\"type\":\"contour\",\"colorbar\":{\"outlinewidth\":0,\"ticks\":\"\"},\"colorscale\":[[0.0,\"#0d0887\"],[0.1111111111111111,\"#46039f\"],[0.2222222222222222,\"#7201a8\"],[0.3333333333333333,\"#9c179e\"],[0.4444444444444444,\"#bd3786\"],[0.5555555555555556,\"#d8576b\"],[0.6666666666666666,\"#ed7953\"],[0.7777777777777778,\"#fb9f3a\"],[0.8888888888888888,\"#fdca26\"],[1.0,\"#f0f921\"]]}],\"surface\":[{\"type\":\"surface\",\"colorbar\":{\"outlinewidth\":0,\"ticks\":\"\"},\"colorscale\":[[0.0,\"#0d0887\"],[0.1111111111111111,\"#46039f\"],[0.2222222222222222,\"#7201a8\"],[0.3333333333333333,\"#9c179e\"],[0.4444444444444444,\"#bd3786\"],[0.5555555555555556,\"#d8576b\"],[0.6666666666666666,\"#ed7953\"],[0.7777777777777778,\"#fb9f3a\"],[0.8888888888888888,\"#fdca26\"],[1.0,\"#f0f921\"]]}],\"mesh3d\":[{\"type\":\"mesh3d\",\"colorbar\":{\"outlinewidth\":0,\"ticks\":\"\"}}],\"scatter\":[{\"fillpattern\":{\"fillmode\":\"overlay\",\"size\":10,\"solidity\":0.2},\"type\":\"scatter\"}],\"parcoords\":[{\"type\":\"parcoords\",\"line\":{\"colorbar\":{\"outlinewidth\":0,\"ticks\":\"\"}}}],\"scatterpolargl\":[{\"type\":\"scatterpolargl\",\"marker\":{\"colorbar\":{\"outlinewidth\":0,\"ticks\":\"\"}}}],\"bar\":[{\"error_x\":{\"color\":\"#2a3f5f\"},\"error_y\":{\"color\":\"#2a3f5f\"},\"marker\":{\"line\":{\"color\":\"#E5ECF6\",\"width\":0.5},\"pattern\":{\"fillmode\":\"overlay\",\"size\":10,\"solidity\":0.2}},\"type\":\"bar\"}],\"scattergeo\":[{\"type\":\"scattergeo\",\"marker\":{\"colorbar\":{\"outlinewidth\":0,\"ticks\":\"\"}}}],\"scatterpolar\":[{\"type\":\"scatterpolar\",\"marker\":{\"colorbar\":{\"outlinewidth\":0,\"ticks\":\"\"}}}],\"histogram\":[{\"marker\":{\"pattern\":{\"fillmode\":\"overlay\",\"size\":10,\"solidity\":0.2}},\"type\":\"histogram\"}],\"scattergl\":[{\"type\":\"scattergl\",\"marker\":{\"colorbar\":{\"outlinewidth\":0,\"ticks\":\"\"}}}],\"scatter3d\":[{\"type\":\"scatter3d\",\"line\":{\"colorbar\":{\"outlinewidth\":0,\"ticks\":\"\"}},\"marker\":{\"colorbar\":{\"outlinewidth\":0,\"ticks\":\"\"}}}],\"scattermapbox\":[{\"type\":\"scattermapbox\",\"marker\":{\"colorbar\":{\"outlinewidth\":0,\"ticks\":\"\"}}}],\"scatterternary\":[{\"type\":\"scatterternary\",\"marker\":{\"colorbar\":{\"outlinewidth\":0,\"ticks\":\"\"}}}],\"scattercarpet\":[{\"type\":\"scattercarpet\",\"marker\":{\"colorbar\":{\"outlinewidth\":0,\"ticks\":\"\"}}}],\"carpet\":[{\"aaxis\":{\"endlinecolor\":\"#2a3f5f\",\"gridcolor\":\"white\",\"linecolor\":\"white\",\"minorgridcolor\":\"white\",\"startlinecolor\":\"#2a3f5f\"},\"baxis\":{\"endlinecolor\":\"#2a3f5f\",\"gridcolor\":\"white\",\"linecolor\":\"white\",\"minorgridcolor\":\"white\",\"startlinecolor\":\"#2a3f5f\"},\"type\":\"carpet\"}],\"table\":[{\"cells\":{\"fill\":{\"color\":\"#EBF0F8\"},\"line\":{\"color\":\"white\"}},\"header\":{\"fill\":{\"color\":\"#C8D4E3\"},\"line\":{\"color\":\"white\"}},\"type\":\"table\"}],\"barpolar\":[{\"marker\":{\"line\":{\"color\":\"#E5ECF6\",\"width\":0.5},\"pattern\":{\"fillmode\":\"overlay\",\"size\":10,\"solidity\":0.2}},\"type\":\"barpolar\"}],\"pie\":[{\"automargin\":true,\"type\":\"pie\"}]},\"layout\":{\"autotypenumbers\":\"strict\",\"colorway\":[\"#636efa\",\"#EF553B\",\"#00cc96\",\"#ab63fa\",\"#FFA15A\",\"#19d3f3\",\"#FF6692\",\"#B6E880\",\"#FF97FF\",\"#FECB52\"],\"font\":{\"color\":\"#2a3f5f\"},\"hovermode\":\"closest\",\"hoverlabel\":{\"align\":\"left\"},\"paper_bgcolor\":\"white\",\"plot_bgcolor\":\"#E5ECF6\",\"polar\":{\"bgcolor\":\"#E5ECF6\",\"angularaxis\":{\"gridcolor\":\"white\",\"linecolor\":\"white\",\"ticks\":\"\"},\"radialaxis\":{\"gridcolor\":\"white\",\"linecolor\":\"white\",\"ticks\":\"\"}},\"ternary\":{\"bgcolor\":\"#E5ECF6\",\"aaxis\":{\"gridcolor\":\"white\",\"linecolor\":\"white\",\"ticks\":\"\"},\"baxis\":{\"gridcolor\":\"white\",\"linecolor\":\"white\",\"ticks\":\"\"},\"caxis\":{\"gridcolor\":\"white\",\"linecolor\":\"white\",\"ticks\":\"\"}},\"coloraxis\":{\"colorbar\":{\"outlinewidth\":0,\"ticks\":\"\"}},\"colorscale\":{\"sequential\":[[0.0,\"#0d0887\"],[0.1111111111111111,\"#46039f\"],[0.2222222222222222,\"#7201a8\"],[0.3333333333333333,\"#9c179e\"],[0.4444444444444444,\"#bd3786\"],[0.5555555555555556,\"#d8576b\"],[0.6666666666666666,\"#ed7953\"],[0.7777777777777778,\"#fb9f3a\"],[0.8888888888888888,\"#fdca26\"],[1.0,\"#f0f921\"]],\"sequentialminus\":[[0.0,\"#0d0887\"],[0.1111111111111111,\"#46039f\"],[0.2222222222222222,\"#7201a8\"],[0.3333333333333333,\"#9c179e\"],[0.4444444444444444,\"#bd3786\"],[0.5555555555555556,\"#d8576b\"],[0.6666666666666666,\"#ed7953\"],[0.7777777777777778,\"#fb9f3a\"],[0.8888888888888888,\"#fdca26\"],[1.0,\"#f0f921\"]],\"diverging\":[[0,\"#8e0152\"],[0.1,\"#c51b7d\"],[0.2,\"#de77ae\"],[0.3,\"#f1b6da\"],[0.4,\"#fde0ef\"],[0.5,\"#f7f7f7\"],[0.6,\"#e6f5d0\"],[0.7,\"#b8e186\"],[0.8,\"#7fbc41\"],[0.9,\"#4d9221\"],[1,\"#276419\"]]},\"xaxis\":{\"gridcolor\":\"white\",\"linecolor\":\"white\",\"ticks\":\"\",\"title\":{\"standoff\":15},\"zerolinecolor\":\"white\",\"automargin\":true,\"zerolinewidth\":2},\"yaxis\":{\"gridcolor\":\"white\",\"linecolor\":\"white\",\"ticks\":\"\",\"title\":{\"standoff\":15},\"zerolinecolor\":\"white\",\"automargin\":true,\"zerolinewidth\":2},\"scene\":{\"xaxis\":{\"backgroundcolor\":\"#E5ECF6\",\"gridcolor\":\"white\",\"linecolor\":\"white\",\"showbackground\":true,\"ticks\":\"\",\"zerolinecolor\":\"white\",\"gridwidth\":2},\"yaxis\":{\"backgroundcolor\":\"#E5ECF6\",\"gridcolor\":\"white\",\"linecolor\":\"white\",\"showbackground\":true,\"ticks\":\"\",\"zerolinecolor\":\"white\",\"gridwidth\":2},\"zaxis\":{\"backgroundcolor\":\"#E5ECF6\",\"gridcolor\":\"white\",\"linecolor\":\"white\",\"showbackground\":true,\"ticks\":\"\",\"zerolinecolor\":\"white\",\"gridwidth\":2}},\"shapedefaults\":{\"line\":{\"color\":\"#2a3f5f\"}},\"annotationdefaults\":{\"arrowcolor\":\"#2a3f5f\",\"arrowhead\":0,\"arrowwidth\":1},\"geo\":{\"bgcolor\":\"white\",\"landcolor\":\"#E5ECF6\",\"subunitcolor\":\"white\",\"showland\":true,\"showlakes\":true,\"lakecolor\":\"white\"},\"title\":{\"x\":0.05},\"mapbox\":{\"style\":\"light\"}}},\"xaxis\":{\"anchor\":\"y\",\"domain\":[0.0,1.0],\"title\":{\"text\":\"value\"}},\"yaxis\":{\"anchor\":\"x\",\"domain\":[0.0,1.0],\"title\":{\"text\":\"count\"}},\"legend\":{\"title\":{\"text\":\"variable\"},\"tracegroupgap\":0},\"margin\":{\"t\":60},\"barmode\":\"relative\"},                        {\"responsive\": true}                    ).then(function(){\n",
       "                            \n",
       "var gd = document.getElementById('7f3b8545-c5fd-4490-aba1-bbd11d9ebf1f');\n",
       "var x = new MutationObserver(function (mutations, observer) {{\n",
       "        var display = window.getComputedStyle(gd).display;\n",
       "        if (!display || display === 'none') {{\n",
       "            console.log([gd, 'removed!']);\n",
       "            Plotly.purge(gd);\n",
       "            observer.disconnect();\n",
       "        }}\n",
       "}});\n",
       "\n",
       "// Listen for the removal of the full notebook cells\n",
       "var notebookContainer = gd.closest('#notebook-container');\n",
       "if (notebookContainer) {{\n",
       "    x.observe(notebookContainer, {childList: true});\n",
       "}}\n",
       "\n",
       "// Listen for the clearing of the current output cell\n",
       "var outputEl = gd.closest('.output');\n",
       "if (outputEl) {{\n",
       "    x.observe(outputEl, {childList: true});\n",
       "}}\n",
       "\n",
       "                        })                };                });            </script>        </div>"
      ]
     },
     "metadata": {},
     "output_type": "display_data"
    }
   ],
   "source": [
    "log_returns.plot(kind='hist')"
   ]
  },
  {
   "cell_type": "markdown",
   "id": "f5a020ab",
   "metadata": {},
   "source": [
    "Is normality a good assumption for financial data?"
   ]
  },
  {
   "cell_type": "code",
   "execution_count": 17,
   "id": "e07c6fea",
   "metadata": {},
   "outputs": [
    {
     "data": {
      "text/plain": [
       "[-0.23651789445767657,\n",
       " -0.20552230217550044,\n",
       " -0.18845037343186985,\n",
       " -0.17476304366003273,\n",
       " -0.14586457137702016,\n",
       " -0.13713311629061195,\n",
       " -0.13058999220665155,\n",
       " -0.1299278575282087,\n",
       " -0.12772318728902374,\n",
       " -0.12349328402408655,\n",
       " -0.12277997465910719,\n",
       " -0.12113825810398889,\n",
       " -0.10915761260898618,\n",
       " -0.10873700220740792,\n",
       " -0.10254036525166675,\n",
       " -0.1024426640636013,\n",
       " -0.09672413884722543,\n",
       " -0.0951126361970946,\n",
       " -0.0945727929773044,\n",
       " -0.09302311928148893,\n",
       " -0.09008354847845335,\n",
       " -0.08937612559287707,\n",
       " -0.08927688581957327,\n",
       " -0.08695990905101429,\n",
       " -0.08615264955046516,\n",
       " -0.08446087652228773,\n",
       " -0.08402401628244031,\n",
       " -0.08396483835074355,\n",
       " -0.08328137479063667,\n",
       " -0.08144231364811663,\n",
       " -0.07845410579918498,\n",
       " -0.07752369493467591,\n",
       " -0.07665503512528221,\n",
       " -0.07436539035358274,\n",
       " -0.07366972655880115,\n",
       " -0.07254830168258311,\n",
       " -0.07241913725041024,\n",
       " -0.07184055905976201,\n",
       " -0.07176955888757142,\n",
       " -0.07082202204033466,\n",
       " -0.07053030781738932,\n",
       " -0.07043726926027942,\n",
       " -0.06987655465675016,\n",
       " -0.06878698522005931,\n",
       " -0.0686033118290163,\n",
       " -0.06772231414560198,\n",
       " -0.06715493498509616,\n",
       " -0.0666139869184463,\n",
       " -0.0663521763056877,\n",
       " -0.06631616117599509,\n",
       " -0.06580520897353867,\n",
       " -0.06559870288489437,\n",
       " -0.06533110715825653,\n",
       " -0.06526572943550507,\n",
       " -0.06477309340338366,\n",
       " -0.06311918518816903,\n",
       " -0.06289341727027524,\n",
       " -0.06251408245574486,\n",
       " -0.06055559591829793,\n",
       " -0.060322654091468045,\n",
       " -0.06022747806878096,\n",
       " -0.060034084286439256,\n",
       " -0.058631243213632354,\n",
       " -0.05801089494975556,\n",
       " -0.057898921000518445,\n",
       " -0.05761528541471742,\n",
       " -0.05707106115006527,\n",
       " -0.05616662426467672,\n",
       " -0.054953895352910696,\n",
       " -0.05482031154624073,\n",
       " -0.0539980722931419,\n",
       " -0.053982110546516617,\n",
       " -0.05394722804913025,\n",
       " -0.05259370365966602,\n",
       " -0.05228610180162916,\n",
       " -0.052277046427824686,\n",
       " -0.05161833459581209,\n",
       " -0.051585055672323236,\n",
       " -0.051455133708131096,\n",
       " -0.05137700982212229,\n",
       " -0.05133914578061633,\n",
       " -0.05117763786639216,\n",
       " -0.05105769412846385,\n",
       " -0.051053775924629424,\n",
       " -0.05082502163771964,\n",
       " -0.050505215210130634,\n",
       " -0.04984401019282242,\n",
       " -0.04963546753524194,\n",
       " -0.04961124617557869,\n",
       " -0.049534931817513166,\n",
       " -0.04935894253519092,\n",
       " -0.048464637280470575,\n",
       " -0.04833680500131505,\n",
       " -0.04782238606695396,\n",
       " -0.04724057511561311,\n",
       " -0.04703665354268194,\n",
       " -0.04649333201590645,\n",
       " -0.046385859854230695,\n",
       " -0.04554943930628858,\n",
       " -0.04525703659502106,\n",
       " -0.04493353448533056,\n",
       " -0.04486533694757771,\n",
       " -0.044440653310942796,\n",
       " -0.04418754471286682,\n",
       " -0.04402465397224694,\n",
       " -0.04273287830059682,\n",
       " -0.042589069768463106,\n",
       " -0.04237854336559032,\n",
       " -0.04224617718140919,\n",
       " -0.04223229344871564,\n",
       " -0.04185494718429495,\n",
       " -0.04179828130131225,\n",
       " -0.04171541244464825,\n",
       " -0.041482357972054684,\n",
       " -0.041438568478665415,\n",
       " -0.041209445573060305,\n",
       " -0.04104369101185902,\n",
       " -0.04027179907894094,\n",
       " -0.03937370329089697,\n",
       " -0.03936976129858423,\n",
       " -0.03934004993858786,\n",
       " -0.038884339639871014,\n",
       " -0.03853223628041701,\n",
       " -0.037801017814305886,\n",
       " -0.03734894534323148,\n",
       " -0.03723709338922126,\n",
       " -0.03711720154932235,\n",
       " -0.03709208198225607,\n",
       " -0.036839791089286374,\n",
       " -0.03676981311758122,\n",
       " -0.0363152186530825,\n",
       " -0.03609004895021842,\n",
       " -0.03561605979548491,\n",
       " -0.035210184423729626,\n",
       " -0.035203052789871174,\n",
       " -0.034587909254449344,\n",
       " -0.034440713289359076,\n",
       " -0.03441330009854252,\n",
       " -0.03403263254550459,\n",
       " -0.03398134500612111,\n",
       " -0.033869376791647296,\n",
       " -0.033811459334112025,\n",
       " -0.03338171795091616,\n",
       " -0.03322998965193553,\n",
       " -0.0330851466718186,\n",
       " -0.03267127201155782,\n",
       " -0.03198003067013721,\n",
       " -0.0316877053198606,\n",
       " -0.03163934754750347,\n",
       " -0.03149318478843732,\n",
       " -0.03133918628539079,\n",
       " -0.031294179797161696,\n",
       " -0.031013582803841335,\n",
       " -0.03089156736881823,\n",
       " -0.03074274797958024,\n",
       " -0.03073851253541729,\n",
       " -0.030563287475861584,\n",
       " -0.030510186068030958,\n",
       " -0.03031223705748461,\n",
       " -0.03027123516946714,\n",
       " -0.03012429716067012,\n",
       " -0.0298952129692807,\n",
       " -0.029785727485036655,\n",
       " -0.029766854567743133,\n",
       " -0.029497510135476336,\n",
       " -0.02946907696009933,\n",
       " -0.02940186584357689,\n",
       " -0.028870583198134143,\n",
       " -0.028701065279561472,\n",
       " -0.02787018407731412,\n",
       " -0.02786380690498853,\n",
       " -0.02763741793314288,\n",
       " -0.027615591895456065,\n",
       " -0.02732301898385137,\n",
       " -0.02729299577407529,\n",
       " -0.02697370050614223,\n",
       " -0.026744949535016983,\n",
       " -0.026599955270312267,\n",
       " -0.026475805312348537,\n",
       " -0.026215382510501505,\n",
       " -0.02612261140486262,\n",
       " -0.026021592607865372,\n",
       " -0.02601977738759486,\n",
       " -0.02594999483044167,\n",
       " -0.025395567131662106,\n",
       " -0.02537683713134589,\n",
       " -0.02534398967789286,\n",
       " -0.02531598923616216,\n",
       " -0.025252562795766022,\n",
       " -0.02516454136147571,\n",
       " -0.025063424630081085,\n",
       " -0.024935356375548032,\n",
       " -0.0247155543645267,\n",
       " -0.024685864957400334,\n",
       " -0.024358017786858904,\n",
       " -0.024114596337054404,\n",
       " -0.024064387275638185,\n",
       " -0.023876273341224673,\n",
       " -0.023781465364230404,\n",
       " -0.023547759980736722,\n",
       " -0.02305818093053759,\n",
       " -0.023027123255798403,\n",
       " -0.02293732311171139,\n",
       " -0.02289574720602526,\n",
       " -0.022783267048393844,\n",
       " -0.02254816438492551,\n",
       " -0.022350967561475237,\n",
       " -0.022189385476863444,\n",
       " -0.022161184525391956,\n",
       " -0.02213414578006038,\n",
       " -0.021971130346089583,\n",
       " -0.021963216854791676,\n",
       " -0.021758379841487693,\n",
       " -0.021669174678462418,\n",
       " -0.02126741082055923,\n",
       " -0.02125228365266279,\n",
       " -0.020956118951172036,\n",
       " -0.020850455371877373,\n",
       " -0.020825332244057446,\n",
       " -0.0207800386755252,\n",
       " -0.020731092265373598,\n",
       " -0.02069451464936621,\n",
       " -0.020418708541599162,\n",
       " -0.020389861131667686,\n",
       " -0.02032754273314496,\n",
       " -0.020310891071385614,\n",
       " -0.020266034660649707,\n",
       " -0.019826354777620056,\n",
       " -0.019718078031379437,\n",
       " -0.01957254315692035,\n",
       " -0.019537882465358328,\n",
       " -0.019001672485714396,\n",
       " -0.018755444602258167,\n",
       " -0.018588326218028427,\n",
       " -0.018364847454341894,\n",
       " -0.018100003611393488,\n",
       " -0.017947393738460667,\n",
       " -0.017736751939729612,\n",
       " -0.0177355774717728,\n",
       " -0.01771977662648564,\n",
       " -0.017706675474399133,\n",
       " -0.017607920006301417,\n",
       " -0.017592195347548873,\n",
       " -0.017458706575610557,\n",
       " -0.017404076436543424,\n",
       " -0.01735009892797303,\n",
       " -0.016688013184044656,\n",
       " -0.016636360929421883,\n",
       " -0.016549549453013485,\n",
       " -0.016402810087859467,\n",
       " -0.016347950327421108,\n",
       " -0.016300455142510474,\n",
       " -0.016162405874435497,\n",
       " -0.015569850375932186,\n",
       " -0.015486902413259212,\n",
       " -0.015452165385496644,\n",
       " -0.015444550452118741,\n",
       " -0.015208459761728233,\n",
       " -0.01509517416561853,\n",
       " -0.014987724107085643,\n",
       " -0.014835635717323473,\n",
       " -0.014780794025162398,\n",
       " -0.01475762913420309,\n",
       " -0.014703352511066695,\n",
       " -0.014699782732613053,\n",
       " -0.01451975486845227,\n",
       " -0.014395089751065829,\n",
       " -0.014217568331421088,\n",
       " -0.014148526638195701,\n",
       " -0.014093787954092982,\n",
       " -0.013753472002494866,\n",
       " -0.01358555824881115,\n",
       " -0.013037700356063059,\n",
       " -0.012981499419033645,\n",
       " -0.012957330573612593,\n",
       " -0.012749774874751605,\n",
       " -0.012580752996881307,\n",
       " -0.012551567227813773,\n",
       " -0.01219258008931434,\n",
       " -0.012112331857897394,\n",
       " -0.012065159218404247,\n",
       " -0.011770465503008509,\n",
       " -0.011763228305736152,\n",
       " -0.011633104865311444,\n",
       " -0.011624991064809973,\n",
       " -0.011493498714308886,\n",
       " -0.011491515256992131,\n",
       " -0.011415491099770154,\n",
       " -0.01138789608941323,\n",
       " -0.011307735857578558,\n",
       " -0.011191467132615623,\n",
       " -0.011097446407076914,\n",
       " -0.011090612633393284,\n",
       " -0.011074621019438693,\n",
       " -0.011015199637560409,\n",
       " -0.010337277993335172,\n",
       " -0.010284539562274665,\n",
       " -0.010105809239520404,\n",
       " -0.010038465581097953,\n",
       " -0.009971196406895207,\n",
       " -0.009964638245883383,\n",
       " -0.009898985904473094,\n",
       " -0.009854715165981626,\n",
       " -0.00978535494822048,\n",
       " -0.009750860107846383,\n",
       " -0.00970946227670784,\n",
       " -0.009543130353379798,\n",
       " -0.009460894526444498,\n",
       " -0.009436987371174365,\n",
       " -0.009432465746951967,\n",
       " -0.00929552576717066,\n",
       " -0.009290230436857878,\n",
       " -0.00924460786068585,\n",
       " -0.009197828567077742,\n",
       " -0.009097683584931696,\n",
       " -0.008970671737446728,\n",
       " -0.008964584890580543,\n",
       " -0.008952025876518947,\n",
       " -0.008889888882897297,\n",
       " -0.00877557365586079,\n",
       " -0.008425900400429927,\n",
       " -0.008407578354357605,\n",
       " -0.008228833280182691,\n",
       " -0.008208173270999982,\n",
       " -0.008207980246495447,\n",
       " -0.008000903407653626,\n",
       " -0.007948653293047676,\n",
       " -0.007919294852611359,\n",
       " -0.007781454581928156,\n",
       " -0.007751801260508434,\n",
       " -0.007721957937068309,\n",
       " -0.007711027963739906,\n",
       " -0.007659314226953743,\n",
       " -0.007554668468041173,\n",
       " -0.0074897880450971975,\n",
       " -0.007449046704933148,\n",
       " -0.00711596075110357,\n",
       " -0.0070584091033222005,\n",
       " -0.007019222592886596,\n",
       " -0.006986492144572377,\n",
       " -0.0069313094591098995,\n",
       " -0.0069123197353376745,\n",
       " -0.006734486474692475,\n",
       " -0.006649355680979626,\n",
       " -0.006595797039905825,\n",
       " -0.006440854103183227,\n",
       " -0.006378469186125081,\n",
       " -0.0062938149592970775,\n",
       " -0.005889394805839068,\n",
       " -0.005856643341232021,\n",
       " -0.005839913304383257,\n",
       " -0.00573722846648063,\n",
       " -0.005514295631595512,\n",
       " -0.005448427397798375,\n",
       " -0.005295892009324611,\n",
       " -0.005191880165631997,\n",
       " -0.005087674440050588,\n",
       " -0.005069748902601041,\n",
       " -0.0050128185500081576,\n",
       " -0.004949986662921484,\n",
       " -0.004853036816821088,\n",
       " -0.004548029513557434,\n",
       " -0.0045463782503080055,\n",
       " -0.0043156097521520964,\n",
       " -0.004297734947231046,\n",
       " -0.004263873629526309,\n",
       " -0.0041661953768667185,\n",
       " -0.004015858661335937,\n",
       " -0.003986737073227676,\n",
       " -0.003956776807325818,\n",
       " -0.0037131047703819653,\n",
       " -0.003704429607069112,\n",
       " -0.003612788634512576,\n",
       " -0.003511861575139069,\n",
       " -0.0034719442089692484,\n",
       " -0.0034616690754643124,\n",
       " -0.003453386948248274,\n",
       " -0.003250973870209664,\n",
       " -0.003240181703986614,\n",
       " -0.003206786761701394,\n",
       " -0.003061037245157465,\n",
       " -0.003052506049991116,\n",
       " -0.0029764508462149673,\n",
       " -0.002889839951081735,\n",
       " -0.00262225819371756,\n",
       " -0.0025481655598922595,\n",
       " -0.002482632348555218,\n",
       " -0.0023992055582815475,\n",
       " -0.0023199593370761967,\n",
       " -0.00231847373209337,\n",
       " -0.002217981262751364,\n",
       " -0.002113500469111133,\n",
       " -0.002096907250306926,\n",
       " -0.0018575995078746789,\n",
       " -0.0018051917677216725,\n",
       " -0.0016704490129968075,\n",
       " -0.0015582931945795787,\n",
       " -0.0013323884879125765,\n",
       " -0.0013177201460770078,\n",
       " -0.0012035741082394261,\n",
       " -0.0011922300504741562,\n",
       " -0.0011890304222129079,\n",
       " -0.001100668054834369,\n",
       " -0.0010042223136041864,\n",
       " -0.0008324460631960825,\n",
       " -0.0005496144580126333,\n",
       " -0.0004932430962923407,\n",
       " -0.00037708912038201647,\n",
       " -0.00033534501293734615,\n",
       " -0.00025720668994270134,\n",
       " 0.0,\n",
       " 9.862134908657855e-05,\n",
       " 0.00013329605943815782,\n",
       " 0.00032805270562665304,\n",
       " 0.0004262206792024022,\n",
       " 0.000622510083264904,\n",
       " 0.0006674942605875906,\n",
       " 0.0008214584254523483,\n",
       " 0.0008244361718844317,\n",
       " 0.0009734348560736818,\n",
       " 0.0010214088288270423,\n",
       " 0.0010402120327626255,\n",
       " 0.0012298580156588981,\n",
       " 0.001257911412789418,\n",
       " 0.0012609548743898497,\n",
       " 0.001312369553312357,\n",
       " 0.0013458747004375454,\n",
       " 0.001444593124038416,\n",
       " 0.0014567215247855486,\n",
       " 0.0015335851645735571,\n",
       " 0.0015338580999043428,\n",
       " 0.0015867839932886055,\n",
       " 0.0016098361025145228,\n",
       " 0.0016576578966101716,\n",
       " 0.001659467041868106,\n",
       " 0.001661168327351945,\n",
       " 0.0017662480443414094,\n",
       " 0.0017687488821671587,\n",
       " 0.0018013224952045325,\n",
       " 0.001869644402715088,\n",
       " 0.0019507385857471659,\n",
       " 0.0019732780255828208,\n",
       " 0.001997430616818738,\n",
       " 0.0020011878357876823,\n",
       " 0.002003341828722264,\n",
       " 0.0021677745650455194,\n",
       " 0.002258262820491851,\n",
       " 0.0024209343993348833,\n",
       " 0.002433081947381517,\n",
       " 0.0024668028538151034,\n",
       " 0.0025383850988232293,\n",
       " 0.002542820180630796,\n",
       " 0.002596544878530684,\n",
       " 0.002614584056873359,\n",
       " 0.002631883215661463,\n",
       " 0.00275546279838757,\n",
       " 0.002763320999873195,\n",
       " 0.0028971067347807124,\n",
       " 0.0030026831172517087,\n",
       " 0.0030659693985973365,\n",
       " 0.0030958501857263057,\n",
       " 0.003099673103658058,\n",
       " 0.0032970919669145526,\n",
       " 0.0034062276545409947,\n",
       " 0.003412211010253521,\n",
       " 0.0034595328945027123,\n",
       " 0.0036667412660127767,\n",
       " 0.003709375196707332,\n",
       " 0.0037457958683397114,\n",
       " 0.0037601953268899466,\n",
       " 0.0038177489873267093,\n",
       " 0.003822165646732409,\n",
       " 0.0040112052857509935,\n",
       " 0.004014952135593356,\n",
       " 0.004527486632740915,\n",
       " 0.004624413044606698,\n",
       " 0.004628256702323586,\n",
       " 0.0048111864344248965,\n",
       " 0.004905252914132209,\n",
       " 0.005147863044765912,\n",
       " 0.005205072568156722,\n",
       " 0.005337746224066965,\n",
       " 0.005357484236889209,\n",
       " 0.005479859012751231,\n",
       " 0.005533102257132837,\n",
       " 0.0055821275337720674,\n",
       " 0.005608200169827373,\n",
       " 0.005790878918745771,\n",
       " 0.00583390055163722,\n",
       " 0.005917481776156395,\n",
       " 0.005978365078895034,\n",
       " 0.006006057267467943,\n",
       " 0.006076947341899706,\n",
       " 0.006082481415169929,\n",
       " 0.006195761068727163,\n",
       " 0.006265105659810634,\n",
       " 0.006321812249024031,\n",
       " 0.006465651918934319,\n",
       " 0.0065592749200010505,\n",
       " 0.006630349593761303,\n",
       " 0.006744812791821567,\n",
       " 0.006810578672784683,\n",
       " 0.00696170884124915,\n",
       " 0.006963974902024329,\n",
       " 0.007054913567225325,\n",
       " 0.0071949836717746535,\n",
       " 0.007290726849836652,\n",
       " 0.007325624786097459,\n",
       " 0.007330299130864308,\n",
       " 0.007425427859397711,\n",
       " 0.007474555771254048,\n",
       " 0.007789020718917544,\n",
       " 0.007991447618970264,\n",
       " 0.008106673348889567,\n",
       " 0.008121354742896705,\n",
       " 0.008177997401230774,\n",
       " 0.008366694500343838,\n",
       " 0.008462878423046197,\n",
       " 0.008547333224801432,\n",
       " 0.00876920991536227,\n",
       " 0.008886865672994949,\n",
       " 0.009000306677510112,\n",
       " 0.009041655543147504,\n",
       " 0.009099139444443169,\n",
       " 0.009151155788618984,\n",
       " 0.009180180665024101,\n",
       " 0.00930057241369536,\n",
       " 0.009461225032650612,\n",
       " 0.009493325730045684,\n",
       " 0.009786884708723409,\n",
       " 0.009787666254598352,\n",
       " 0.009931639962148882,\n",
       " 0.010031571629142592,\n",
       " 0.010098272085864791,\n",
       " 0.01012145995502574,\n",
       " 0.010141906463636843,\n",
       " 0.010414737676610572,\n",
       " 0.010470780820742525,\n",
       " 0.010787525285489406,\n",
       " 0.010823457790850165,\n",
       " 0.01093679078037125,\n",
       " 0.010966636750077955,\n",
       " 0.011072869479979633,\n",
       " 0.011102159833173808,\n",
       " 0.01122853693277581,\n",
       " 0.011299945777284081,\n",
       " 0.011580411041559343,\n",
       " 0.011777078527549948,\n",
       " 0.011992516455123612,\n",
       " 0.012079065403443036,\n",
       " 0.012196058432993926,\n",
       " 0.012281322445656457,\n",
       " 0.012352524133575146,\n",
       " 0.012397350726358317,\n",
       " 0.012444771516691934,\n",
       " 0.012534643183807646,\n",
       " 0.012573321033348567,\n",
       " 0.01257859403128338,\n",
       " 0.012708130416930218,\n",
       " 0.012741333042302827,\n",
       " 0.013044842106937113,\n",
       " 0.013093827482800639,\n",
       " 0.013099686323903579,\n",
       " 0.01313564628546233,\n",
       " 0.013219694470214068,\n",
       " 0.01323965619758905,\n",
       " 0.01340170287553078,\n",
       " 0.013676132280176065,\n",
       " 0.013720031040026988,\n",
       " 0.01377889392912291,\n",
       " 0.014437208664382839,\n",
       " 0.01462307267215497,\n",
       " 0.014654934735012084,\n",
       " 0.014714339594958641,\n",
       " 0.015115867923964223,\n",
       " 0.015117058319369686,\n",
       " 0.015123446596271723,\n",
       " 0.015167860710440668,\n",
       " 0.01520390470417943,\n",
       " 0.015229452832627683,\n",
       " 0.015460425583855752,\n",
       " 0.015518160889563192,\n",
       " 0.015552413007484785,\n",
       " 0.015688043665694176,\n",
       " 0.015693156705112052,\n",
       " 0.01578809278786119,\n",
       " 0.01591980642197778,\n",
       " 0.015929083234572167,\n",
       " 0.016028052271245364,\n",
       " 0.016230761245708623,\n",
       " 0.016241895082045352,\n",
       " 0.016293707630266798,\n",
       " 0.016363110813065698,\n",
       " 0.016432950581559483,\n",
       " 0.016446493545468958,\n",
       " 0.01684451236014587,\n",
       " 0.0168599499197107,\n",
       " 0.016868648629117366,\n",
       " 0.016890005886123306,\n",
       " 0.017029157609637507,\n",
       " 0.017065662059063912,\n",
       " 0.01717250122413543,\n",
       " 0.01725061613832015,\n",
       " 0.017268009913468576,\n",
       " 0.017272096909531555,\n",
       " 0.01727768584344739,\n",
       " 0.017346435457551865,\n",
       " 0.017387072543931938,\n",
       " 0.017450979367424225,\n",
       " 0.017528035977254008,\n",
       " 0.01779600470296842,\n",
       " 0.01793204109959487,\n",
       " 0.01796971375181672,\n",
       " 0.018009160285334423,\n",
       " 0.018072325435531507,\n",
       " 0.018159773032297852,\n",
       " 0.018162259872136134,\n",
       " 0.018206255962432197,\n",
       " 0.018533023597782732,\n",
       " 0.018680537647816527,\n",
       " 0.018752900206065234,\n",
       " 0.018761400839628444,\n",
       " 0.018793074176697643,\n",
       " 0.018898727534898532,\n",
       " 0.018941076007001657,\n",
       " 0.018943822515122916,\n",
       " 0.019071612174755247,\n",
       " 0.019074500672006927,\n",
       " 0.0192069740346885,\n",
       " 0.019223358515689473,\n",
       " 0.019345803747202597,\n",
       " 0.01939443951963136,\n",
       " 0.019408586563541073,\n",
       " 0.019654473293680905,\n",
       " 0.020181504916966016,\n",
       " 0.020188342220549882,\n",
       " 0.02027649657712341,\n",
       " 0.02028074420821668,\n",
       " 0.02041257160441261,\n",
       " 0.02048773822340817,\n",
       " 0.020505045463666282,\n",
       " 0.020579243780394125,\n",
       " 0.02059221036289143,\n",
       " 0.02075293960905606,\n",
       " 0.020786425091438347,\n",
       " 0.020854428493631318,\n",
       " 0.021496049775542363,\n",
       " 0.021677401377557137,\n",
       " 0.021857165705963834,\n",
       " 0.021882347827174065,\n",
       " 0.02189168871378688,\n",
       " 0.021974491562613167,\n",
       " 0.022015499815695144,\n",
       " 0.02230781558771273,\n",
       " 0.022402858626649376,\n",
       " 0.02250783702828191,\n",
       " 0.02284097771296026,\n",
       " 0.023442192423042928,\n",
       " 0.023480261839117743,\n",
       " 0.023567198213512965,\n",
       " 0.023599290742317446,\n",
       " 0.023606322357198544,\n",
       " 0.023768211540485355,\n",
       " 0.023813875097039847,\n",
       " 0.024149533626973363,\n",
       " 0.024320646383694,\n",
       " 0.024335419149005895,\n",
       " 0.02435215499827936,\n",
       " 0.0244876221590413,\n",
       " 0.02455066473079113,\n",
       " 0.024578286172624794,\n",
       " 0.02476994196174637,\n",
       " 0.024797737333229056,\n",
       " 0.024849222136681733,\n",
       " 0.02493491640225287,\n",
       " 0.02511707828484195,\n",
       " 0.025192518630920653,\n",
       " 0.025215114905161356,\n",
       " 0.025394246651119615,\n",
       " 0.025622441945055478,\n",
       " 0.025817844628587844,\n",
       " 0.026035942688487673,\n",
       " 0.026324794631827943,\n",
       " 0.026977120398229415,\n",
       " 0.027155202242509627,\n",
       " 0.027160841972020323,\n",
       " 0.02728753098899391,\n",
       " 0.02743348445504921,\n",
       " 0.02764276800974182,\n",
       " 0.02770162075738181,\n",
       " 0.027994766442436515,\n",
       " 0.02862918608137619,\n",
       " 0.02920267893223429,\n",
       " 0.029256539212836878,\n",
       " 0.029516907690852447,\n",
       " 0.02974907491710917,\n",
       " 0.029784568093447848,\n",
       " 0.029890740749494566,\n",
       " 0.030493897831355556,\n",
       " 0.030554904345579816,\n",
       " 0.030561678706295534,\n",
       " 0.030608082827557156,\n",
       " 0.031084853734470938,\n",
       " 0.03148434056863512,\n",
       " 0.03161711443997285,\n",
       " 0.03163027338080621,\n",
       " 0.03180563608534794,\n",
       " 0.03183338116095202,\n",
       " 0.031984216103858806,\n",
       " 0.03205181901693134,\n",
       " 0.03217472594711166,\n",
       " 0.032273287618783654,\n",
       " 0.032553261278161744,\n",
       " 0.03297682427747412,\n",
       " 0.03325755641840769,\n",
       " 0.033459528236176775,\n",
       " 0.03358173995604568,\n",
       " 0.03374062327713504,\n",
       " 0.03395945997966481,\n",
       " 0.03417588510139735,\n",
       " 0.03435484924604316,\n",
       " 0.03437259258571844,\n",
       " 0.03479874196476401,\n",
       " 0.03492701634188564,\n",
       " 0.03509368755165895,\n",
       " 0.035245873940170286,\n",
       " 0.03525937358618668,\n",
       " 0.035389242849343666,\n",
       " 0.03545612908951283,\n",
       " 0.035474386816493036,\n",
       " 0.035583725409644835,\n",
       " 0.036109204525613114,\n",
       " 0.03616869761350537,\n",
       " 0.03620406408291566,\n",
       " 0.036213124954005624,\n",
       " 0.03628977282780161,\n",
       " 0.03643213445735007,\n",
       " 0.03665493442277862,\n",
       " 0.03668958724599977,\n",
       " 0.03705562944417333,\n",
       " 0.03711744228973266,\n",
       " 0.03720897247565101,\n",
       " 0.03729619858071868,\n",
       " 0.03756503320848795,\n",
       " 0.03803519751155836,\n",
       " 0.03806670586808656,\n",
       " 0.03816806100817755,\n",
       " 0.03851924269165984,\n",
       " 0.03853754612843837,\n",
       " 0.03860663902242871,\n",
       " 0.03897652873348478,\n",
       " 0.039029424523405194,\n",
       " 0.039555086200732226,\n",
       " 0.03981660778824774,\n",
       " 0.03983908014025376,\n",
       " 0.03998366090579434,\n",
       " 0.040002020280935593,\n",
       " 0.04004983514491321,\n",
       " 0.040485570289088474,\n",
       " 0.040530008769500823,\n",
       " 0.040553601408475165,\n",
       " 0.041032719267455574,\n",
       " 0.04107819387010212,\n",
       " 0.04148581070093519,\n",
       " 0.04172205380429948,\n",
       " 0.04198665654283043,\n",
       " 0.04227093212295058,\n",
       " 0.04232058232357712,\n",
       " 0.04251283809069096,\n",
       " 0.04263263821287683,\n",
       " 0.042832279170544656,\n",
       " 0.04306162202970284,\n",
       " 0.043078797207400474,\n",
       " 0.04313493317739194,\n",
       " 0.04326101937694436,\n",
       " 0.043324388497766333,\n",
       " 0.043670173422939704,\n",
       " 0.04425503260828766,\n",
       " 0.04473860632554917,\n",
       " 0.04480209933086133,\n",
       " 0.04530634609366675,\n",
       " 0.045690263130780645,\n",
       " 0.04571303469577831,\n",
       " 0.04587275846182932,\n",
       " 0.046075003355075396,\n",
       " 0.04608376548838008,\n",
       " 0.046130766690605556,\n",
       " 0.04619721319012782,\n",
       " 0.04659599279666411,\n",
       " 0.046704219074345354,\n",
       " 0.04673438827304504,\n",
       " 0.04680461290993818,\n",
       " 0.04695367409397792,\n",
       " 0.0473245988875953,\n",
       " 0.04762508488803113,\n",
       " 0.04775997018342951,\n",
       " 0.04797727392320426,\n",
       " 0.048032568493066904,\n",
       " 0.04909578215581386,\n",
       " 0.0491842305281949,\n",
       " 0.04925154604829151,\n",
       " 0.04958242699342897,\n",
       " 0.04964715675134432,\n",
       " 0.04997884108534127,\n",
       " 0.050132289582274676,\n",
       " 0.05039944763683731,\n",
       " 0.051343820984031875,\n",
       " 0.051525211920993325,\n",
       " 0.05183107739238726,\n",
       " 0.05191932445845771,\n",
       " 0.05201270640767318,\n",
       " 0.05316324215501689,\n",
       " 0.0533736162801124,\n",
       " 0.05350549046047228,\n",
       " 0.05380522947187794,\n",
       " 0.05459557817973847,\n",
       " 0.05467504939194526,\n",
       " 0.05503939414254686,\n",
       " 0.05555683158900242,\n",
       " 0.05602002567418564,\n",
       " 0.056238328890716484,\n",
       " 0.05668432585298431,\n",
       " 0.05675891678442002,\n",
       " 0.057654579278002493,\n",
       " 0.05776761532071402,\n",
       " 0.05790353852575241,\n",
       " 0.059586929551683376,\n",
       " 0.05982904612856656,\n",
       " 0.059954347975619646,\n",
       " 0.060504162532241994,\n",
       " 0.061615106636751404,\n",
       " 0.0621915738853809,\n",
       " 0.0622723727366544,\n",
       " 0.0635722137952821,\n",
       " 0.06377098448424992,\n",
       " 0.06400415510269586,\n",
       " 0.06562083944686455,\n",
       " 0.06649517653196184,\n",
       " 0.06668035183063045,\n",
       " 0.06747855280845434,\n",
       " 0.06770743117966126,\n",
       " 0.068886056292822,\n",
       " 0.06936453038904387,\n",
       " 0.06942373110021945,\n",
       " 0.07004464847857836,\n",
       " 0.0704209168261074,\n",
       " 0.0707688185938516,\n",
       " 0.07132888823212645,\n",
       " 0.07163646233055776,\n",
       " 0.07164265445291097,\n",
       " 0.07211363413565586,\n",
       " 0.07227140942458773,\n",
       " 0.07237801403011461,\n",
       " 0.07276481895829454,\n",
       " 0.07284966703702293,\n",
       " 0.07390252318127676,\n",
       " 0.07457364612008015,\n",
       " 0.07529223411697607,\n",
       " 0.07530952893106566,\n",
       " 0.07548123816080572,\n",
       " 0.0760832835953988,\n",
       " 0.07644846869014829,\n",
       " 0.07651403502187115,\n",
       " 0.07728050710253655,\n",
       " 0.07772640277207259,\n",
       " 0.07893944622909929,\n",
       " 0.08149724419582528,\n",
       " 0.0819187203405193,\n",
       " 0.0824615371588125,\n",
       " 0.08298067038819532,\n",
       " 0.08590431690632504,\n",
       " 0.0866771798728856,\n",
       " 0.08942411634475682,\n",
       " 0.09049888548491682,\n",
       " 0.09320702322102224,\n",
       " 0.09331246499887616,\n",
       " 0.09666945779957149,\n",
       " 0.09709745318946535,\n",
       " 0.09799952270077929,\n",
       " 0.10145138741776683,\n",
       " 0.10241918272489342,\n",
       " 0.10366923114657202,\n",
       " 0.1040650092615062,\n",
       " 0.10436164069972145,\n",
       " 0.10618769683979797,\n",
       " 0.1072570247859105,\n",
       " 0.11839534141276628,\n",
       " 0.11852211424147706,\n",
       " 0.11921843486746743,\n",
       " 0.12331118921207428,\n",
       " 0.12645108117682743,\n",
       " 0.1269116289226746,\n",
       " 0.12754711640906993,\n",
       " 0.1286186970285338,\n",
       " 0.15084593365171223,\n",
       " 0.16879451260286096,\n",
       " 0.17932714140524914,\n",
       " 0.18144500086765858]"
      ]
     },
     "execution_count": 17,
     "metadata": {},
     "output_type": "execute_result"
    }
   ],
   "source": [
    "log_returns_sorted = log_returns.tolist()\n",
    "log_returns_sorted.sort()\n",
    "log_returns_sorted"
   ]
  },
  {
   "cell_type": "code",
   "execution_count": 18,
   "id": "8fcd88ca",
   "metadata": {},
   "outputs": [],
   "source": [
    "worst = log_returns_sorted[0]\n",
    "best = log_returns_sorted[-1]"
   ]
  },
  {
   "cell_type": "code",
   "execution_count": 19,
   "id": "82e82daa",
   "metadata": {},
   "outputs": [],
   "source": [
    "# How many standard deviations is our best and worst?\n",
    "\n",
    "std_worst = (worst - log_returns.mean()) / log_returns.std()\n",
    "std_best = (best - log_returns.mean()) / log_returns.std()"
   ]
  },
  {
   "cell_type": "code",
   "execution_count": 20,
   "id": "fee7d345",
   "metadata": {},
   "outputs": [
    {
     "name": "stdout",
     "output_type": "stream",
     "text": [
      " Std. dev. worst: -5.40 and best: 4.04\n"
     ]
    }
   ],
   "source": [
    "print(' Std. dev. worst: %.2f and best: %.2f' %(std_worst, std_best))"
   ]
  },
  {
   "cell_type": "markdown",
   "id": "bacba900",
   "metadata": {},
   "source": [
    "5.4 and 4.05 standard deviations away, quite far away! Gaussian/Normal has 97% of data within 3 std. dev.\n",
    "\n",
    "Let us see the chances of this happening."
   ]
  },
  {
   "cell_type": "code",
   "execution_count": 21,
   "id": "29ea9fca",
   "metadata": {},
   "outputs": [
    {
     "name": "stdout",
     "output_type": "stream",
     "text": [
      " Probability of worst 0.0000001839931 and best 0.0001117377144\n"
     ]
    }
   ],
   "source": [
    "print(' Probability of worst %.13f and best %.13f' %(stats.norm(0, 1).pdf(std_worst), stats.norm(0, 1).pdf(std_best)))"
   ]
  },
  {
   "cell_type": "markdown",
   "id": "168f78a9",
   "metadata": {},
   "source": [
    "Quite a low likeliness to see financial moves like that!"
   ]
  },
  {
   "cell_type": "markdown",
   "id": "c896691e",
   "metadata": {},
   "source": [
    "# Testing for Normality\n",
    "\n",
    "### Quantile-Quantile plots"
   ]
  },
  {
   "cell_type": "code",
   "execution_count": 36,
   "id": "d56da59e",
   "metadata": {},
   "outputs": [
    {
     "name": "stdout",
     "output_type": "stream",
     "text": [
      "Q-Q Plot\n"
     ]
    },
    {
     "data": {
      "image/png": "[encoded data removed]",
      "text/plain": [
       "<Figure size 640x480 with 1 Axes>"
      ]
     },
     "metadata": {},
     "output_type": "display_data"
    }
   ],
   "source": [
    "# For Gaussian/Normal\n",
    "stats.probplot(log_returns, dist='norm', plot=pylab)\n",
    "print('Q-Q Plot')"
   ]
  },
  {
   "cell_type": "code",
   "execution_count": 41,
   "id": "690be4b5",
   "metadata": {},
   "outputs": [
    {
     "name": "stdout",
     "output_type": "stream",
     "text": [
      "Q-Q Plot\n"
     ]
    },
    {
     "data": {
      "image/png": "[encoded data removed]",
      "text/plain": [
       "<Figure size 640x480 with 1 Axes>"
      ]
     },
     "metadata": {},
     "output_type": "display_data"
    }
   ],
   "source": [
    "# For Student's T-dist, (dof, mean)\n",
    "x = stats.nct(5, 0)\n",
    "\n",
    "stats.probplot(log_returns, dist=x, plot=pylab)\n",
    "print('Q-Q Plot')"
   ]
  },
  {
   "cell_type": "markdown",
   "id": "7a79a197",
   "metadata": {},
   "source": [
    "### Box plots"
   ]
  },
  {
   "cell_type": "code",
   "execution_count": 42,
   "id": "e18c589f",
   "metadata": {},
   "outputs": [
    {
     "data": {
      "application/vnd.plotly.v1+json": {
       "config": {
        "plotlyServerURL": "https://plot.ly"
       },
       "data": [
        {
         "alignmentgroup": "True",
         "hovertemplate": "variable=%{x}<br>value=%{y}<extra></extra>",
         "legendgroup": "",
         "marker": {
          "color": "#636efa"
         },
         "name": "",
         "notched": false,
         "offsetgroup": "",
         "orientation": "v",
         "showlegend": false,
         "type": "box",
         "x": [
          "Close",
          "Close",
          "Close",
          "Close",
          "Close",
          "Close",
          "Close",
          "Close",
          "Close",
          "Close",
          "Close",
          "Close",
          "Close",
          "Close",
          "Close",
          "Close",
          "Close",
          "Close",
          "Close",
          "Close",
          "Close",
          "Close",
          "Close",
          "Close",
          "Close",
          "Close",
          "Close",
          "Close",
          "Close",
          "Close",
          "Close",
          "Close",
          "Close",
          "Close",
          "Close",
          "Close",
          "Close",
          "Close",
          "Close",
          "Close",
          "Close",
          "Close",
          "Close",
          "Close",
          "Close",
          "Close",
          "Close",
          "Close",
          "Close",
          "Close",
          "Close",
          "Close",
          "Close",
          "Close",
          "Close",
          "Close",
          "Close",
          "Close",
          "Close",
          "Close",
          "Close",
          "Close",
          "Close",
          "Close",
          "Close",
          "Close",
          "Close",
          "Close",
          "Close",
          "Close",
          "Close",
          "Close",
          "Close",
          "Close",
          "Close",
          "Close",
          "Close",
          "Close",
          "Close",
          "Close",
          "Close",
          "Close",
          "Close",
          "Close",
          "Close",
          "Close",
          "Close",
          "Close",
          "Close",
          "Close",
          "Close",
          "Close",
          "Close",
          "Close",
          "Close",
          "Close",
          "Close",
          "Close",
          "Close",
          "Close",
          "Close",
          "Close",
          "Close",
          "Close",
          "Close",
          "Close",
          "Close",
          "Close",
          "Close",
          "Close",
          "Close",
          "Close",
          "Close",
          "Close",
          "Close",
          "Close",
          "Close",
          "Close",
          "Close",
          "Close",
          "Close",
          "Close",
          "Close",
          "Close",
          "Close",
          "Close",
          "Close",
          "Close",
          "Close",
          "Close",
          "Close",
          "Close",
          "Close",
          "Close",
          "Close",
          "Close",
          "Close",
          "Close",
          "Close",
          "Close",
          "Close",
          "Close",
          "Close",
          "Close",
          "Close",
          "Close",
          "Close",
          "Close",
          "Close",
          "Close",
          "Close",
          "Close",
          "Close",
          "Close",
          "Close",
          "Close",
          "Close",
          "Close",
          "Close",
          "Close",
          "Close",
          "Close",
          "Close",
          "Close",
          "Close",
          "Close",
          "Close",
          "Close",
          "Close",
          "Close",
          "Close",
          "Close",
          "Close",
          "Close",
          "Close",
          "Close",
          "Close",
          "Close",
          "Close",
          "Close",
          "Close",
          "Close",
          "Close",
          "Close",
          "Close",
          "Close",
          "Close",
          "Close",
          "Close",
          "Close",
          "Close",
          "Close",
          "Close",
          "Close",
          "Close",
          "Close",
          "Close",
          "Close",
          "Close",
          "Close",
          "Close",
          "Close",
          "Close",
          "Close",
          "Close",
          "Close",
          "Close",
          "Close",
          "Close",
          "Close",
          "Close",
          "Close",
          "Close",
          "Close",
          "Close",
          "Close",
          "Close",
          "Close",
          "Close",
          "Close",
          "Close",
          "Close",
          "Close",
          "Close",
          "Close",
          "Close",
          "Close",
          "Close",
          "Close",
          "Close",
          "Close",
          "Close",
          "Close",
          "Close",
          "Close",
          "Close",
          "Close",
          "Close",
          "Close",
          "Close",
          "Close",
          "Close",
          "Close",
          "Close",
          "Close",
          "Close",
          "Close",
          "Close",
          "Close",
          "Close",
          "Close",
          "Close",
          "Close",
          "Close",
          "Close",
          "Close",
          "Close",
          "Close",
          "Close",
          "Close",
          "Close",
          "Close",
          "Close",
          "Close",
          "Close",
          "Close",
          "Close",
          "Close",
          "Close",
          "Close",
          "Close",
          "Close",
          "Close",
          "Close",
          "Close",
          "Close",
          "Close",
          "Close",
          "Close",
          "Close",
          "Close",
          "Close",
          "Close",
          "Close",
          "Close",
          "Close",
          "Close",
          "Close",
          "Close",
          "Close",
          "Close",
          "Close",
          "Close",
          "Close",
          "Close",
          "Close",
          "Close",
          "Close",
          "Close",
          "Close",
          "Close",
          "Close",
          "Close",
          "Close",
          "Close",
          "Close",
          "Close",
          "Close",
          "Close",
          "Close",
          "Close",
          "Close",
          "Close",
          "Close",
          "Close",
          "Close",
          "Close",
          "Close",
          "Close",
          "Close",
          "Close",
          "Close",
          "Close",
          "Close",
          "Close",
          "Close",
          "Close",
          "Close",
          "Close",
          "Close",
          "Close",
          "Close",
          "Close",
          "Close",
          "Close",
          "Close",
          "Close",
          "Close",
          "Close",
          "Close",
          "Close",
          "Close",
          "Close",
          "Close",
          "Close",
          "Close",
          "Close",
          "Close",
          "Close",
          "Close",
          "Close",
          "Close",
          "Close",
          "Close",
          "Close",
          "Close",
          "Close",
          "Close",
          "Close",
          "Close",
          "Close",
          "Close",
          "Close",
          "Close",
          "Close",
          "Close",
          "Close",
          "Close",
          "Close",
          "Close",
          "Close",
          "Close",
          "Close",
          "Close",
          "Close",
          "Close",
          "Close",
          "Close",
          "Close",
          "Close",
          "Close",
          "Close",
          "Close",
          "Close",
          "Close",
          "Close",
          "Close",
          "Close",
          "Close",
          "Close",
          "Close",
          "Close",
          "Close",
          "Close",
          "Close",
          "Close",
          "Close",
          "Close",
          "Close",
          "Close",
          "Close",
          "Close",
          "Close",
          "Close",
          "Close",
          "Close",
          "Close",
          "Close",
          "Close",
          "Close",
          "Close",
          "Close",
          "Close",
          "Close",
          "Close",
          "Close",
          "Close",
          "Close",
          "Close",
          "Close",
          "Close",
          "Close",
          "Close",
          "Close",
          "Close",
          "Close",
          "Close",
          "Close",
          "Close",
          "Close",
          "Close",
          "Close",
          "Close",
          "Close",
          "Close",
          "Close",
          "Close",
          "Close",
          "Close",
          "Close",
          "Close",
          "Close",
          "Close",
          "Close",
          "Close",
          "Close",
          "Close",
          "Close",
          "Close",
          "Close",
          "Close",
          "Close",
          "Close",
          "Close",
          "Close",
          "Close",
          "Close",
          "Close",
          "Close",
          "Close",
          "Close",
          "Close",
          "Close",
          "Close",
          "Close",
          "Close",
          "Close",
          "Close",
          "Close",
          "Close",
          "Close",
          "Close",
          "Close",
          "Close",
          "Close",
          "Close",
          "Close",
          "Close",
          "Close",
          "Close",
          "Close",
          "Close",
          "Close",
          "Close",
          "Close",
          "Close",
          "Close",
          "Close",
          "Close",
          "Close",
          "Close",
          "Close",
          "Close",
          "Close",
          "Close",
          "Close",
          "Close",
          "Close",
          "Close",
          "Close",
          "Close",
          "Close",
          "Close",
          "Close",
          "Close",
          "Close",
          "Close",
          "Close",
          "Close",
          "Close",
          "Close",
          "Close",
          "Close",
          "Close",
          "Close",
          "Close",
          "Close",
          "Close",
          "Close",
          "Close",
          "Close",
          "Close",
          "Close",
          "Close",
          "Close",
          "Close",
          "Close",
          "Close",
          "Close",
          "Close",
          "Close",
          "Close",
          "Close",
          "Close",
          "Close",
          "Close",
          "Close",
          "Close",
          "Close",
          "Close",
          "Close",
          "Close",
          "Close",
          "Close",
          "Close",
          "Close",
          "Close",
          "Close",
          "Close",
          "Close",
          "Close",
          "Close",
          "Close",
          "Close",
          "Close",
          "Close",
          "Close",
          "Close",
          "Close",
          "Close",
          "Close",
          "Close",
          "Close",
          "Close",
          "Close",
          "Close",
          "Close",
          "Close",
          "Close",
          "Close",
          "Close",
          "Close",
          "Close",
          "Close",
          "Close",
          "Close",
          "Close",
          "Close",
          "Close",
          "Close",
          "Close",
          "Close",
          "Close",
          "Close",
          "Close",
          "Close",
          "Close",
          "Close",
          "Close",
          "Close",
          "Close",
          "Close",
          "Close",
          "Close",
          "Close",
          "Close",
          "Close",
          "Close",
          "Close",
          "Close",
          "Close",
          "Close",
          "Close",
          "Close",
          "Close",
          "Close",
          "Close",
          "Close",
          "Close",
          "Close",
          "Close",
          "Close",
          "Close",
          "Close",
          "Close",
          "Close",
          "Close",
          "Close",
          "Close",
          "Close",
          "Close",
          "Close",
          "Close",
          "Close",
          "Close",
          "Close",
          "Close",
          "Close",
          "Close",
          "Close",
          "Close",
          "Close",
          "Close",
          "Close",
          "Close",
          "Close",
          "Close",
          "Close",
          "Close",
          "Close",
          "Close",
          "Close",
          "Close",
          "Close",
          "Close",
          "Close",
          "Close",
          "Close",
          "Close",
          "Close",
          "Close",
          "Close",
          "Close",
          "Close",
          "Close",
          "Close",
          "Close",
          "Close",
          "Close",
          "Close",
          "Close",
          "Close",
          "Close",
          "Close",
          "Close",
          "Close",
          "Close",
          "Close",
          "Close",
          "Close",
          "Close",
          "Close",
          "Close",
          "Close",
          "Close",
          "Close",
          "Close",
          "Close",
          "Close",
          "Close",
          "Close",
          "Close",
          "Close",
          "Close",
          "Close",
          "Close",
          "Close",
          "Close",
          "Close",
          "Close",
          "Close",
          "Close",
          "Close",
          "Close",
          "Close",
          "Close",
          "Close",
          "Close",
          "Close",
          "Close",
          "Close",
          "Close",
          "Close",
          "Close",
          "Close",
          "Close",
          "Close",
          "Close",
          "Close",
          "Close",
          "Close",
          "Close",
          "Close",
          "Close",
          "Close",
          "Close",
          "Close",
          "Close",
          "Close",
          "Close",
          "Close",
          "Close",
          "Close",
          "Close",
          "Close",
          "Close",
          "Close",
          "Close",
          "Close",
          "Close",
          "Close",
          "Close",
          "Close",
          "Close",
          "Close",
          "Close",
          "Close",
          "Close",
          "Close",
          "Close",
          "Close",
          "Close",
          "Close",
          "Close",
          "Close",
          "Close",
          "Close",
          "Close",
          "Close",
          "Close",
          "Close",
          "Close",
          "Close",
          "Close",
          "Close",
          "Close",
          "Close",
          "Close",
          "Close",
          "Close",
          "Close",
          "Close",
          "Close",
          "Close",
          "Close",
          "Close",
          "Close",
          "Close",
          "Close",
          "Close",
          "Close",
          "Close",
          "Close",
          "Close",
          "Close",
          "Close",
          "Close",
          "Close",
          "Close",
          "Close",
          "Close",
          "Close",
          "Close",
          "Close",
          "Close",
          "Close",
          "Close",
          "Close",
          "Close",
          "Close",
          "Close",
          "Close",
          "Close",
          "Close",
          "Close",
          "Close",
          "Close",
          "Close",
          "Close",
          "Close",
          "Close",
          "Close",
          "Close",
          "Close",
          "Close",
          "Close",
          "Close",
          "Close",
          "Close",
          "Close",
          "Close",
          "Close",
          "Close",
          "Close",
          "Close",
          "Close",
          "Close",
          "Close",
          "Close",
          "Close",
          "Close",
          "Close",
          "Close",
          "Close",
          "Close",
          "Close",
          "Close",
          "Close",
          "Close",
          "Close",
          "Close",
          "Close",
          "Close",
          "Close",
          "Close",
          "Close",
          "Close",
          "Close",
          "Close",
          "Close",
          "Close",
          "Close",
          "Close",
          "Close",
          "Close",
          "Close",
          "Close",
          "Close",
          "Close",
          "Close",
          "Close",
          "Close",
          "Close",
          "Close",
          "Close",
          "Close",
          "Close",
          "Close",
          "Close",
          "Close",
          "Close",
          "Close",
          "Close",
          "Close",
          "Close",
          "Close",
          "Close",
          "Close",
          "Close",
          "Close",
          "Close",
          "Close",
          "Close",
          "Close",
          "Close",
          "Close",
          "Close",
          "Close",
          "Close",
          "Close",
          "Close",
          "Close",
          "Close",
          "Close",
          "Close",
          "Close",
          "Close",
          "Close",
          "Close",
          "Close",
          "Close",
          "Close",
          "Close",
          "Close",
          "Close",
          "Close",
          "Close",
          "Close"
         ],
         "x0": " ",
         "xaxis": "x",
         "y": [
          0.02920267893223429,
          0.019071612174755247,
          0.03806670586808656,
          0.048032568493066904,
          -0.022189385476863444,
          -0.006649355680979626,
          0.09320702322102224,
          0.024578286172624794,
          -0.03676981311758122,
          -0.00970946227670784,
          -0.005839913304383257,
          0.06942373110021945,
          0.04004983514491321,
          0.004624413044606698,
          -0.012981499419033645,
          -0.012112331857897394,
          0.01578809278786119,
          0.02455066473079113,
          0.09799952270077929,
          0.015115867923964223,
          0.18144500086765858,
          0.1286186970285338,
          -0.18845037343186985,
          0.019223358515689473,
          -0.0011890304222129079,
          0.030554904345579816,
          0.0040112052857509935,
          -0.009197828567077742,
          0.04673438827304504,
          -0.004949986662921484,
          0.0704209168261074,
          0.06649517653196184,
          -0.019826354777620056,
          0.0017662480443414094,
          -0.07752369493467591,
          -0.041482357972054684,
          -0.026744949535016983,
          -0.13713311629061195,
          -0.016347950327421108,
          0.1072570247859105,
          0.0025383850988232293,
          0.005337746224066965,
          -0.033869376791647296,
          -0.029497510135476336,
          -0.14586457137702016,
          0.059586929551683376,
          -0.01735009892797303,
          -0.12349328402408655,
          -0.02516454136147571,
          -0.20552230217550044,
          -0.03398134500612111,
          -0.17476304366003273,
          0.16879451260286096,
          -0.00025720668994270134,
          0.015688043665694176,
          0.15084593365171223,
          0.06562083944686455,
          -0.0207800386755252,
          -0.026475805312348537,
          -0.024064387275638185,
          0.04263263821287683,
          -0.08446087652228773,
          -0.057898921000518445,
          0.05467504939194526,
          0.07276481895829454,
          0.05503939414254686,
          0.006195761068727163,
          0.043078797207400474,
          0.12754711640906993,
          0.0866771798728856,
          0.02770162075738181,
          0.020854428493631318,
          0.011580411041559343,
          -0.010038465581097953,
          -0.08328137479063667,
          0.06400415510269586,
          -0.036839791089286374,
          0.02728753098899391,
          0.09666945779957149,
          -0.037801017814305886,
          0.040002020280935593,
          -0.023547759980736722,
          -0.10873700220740792,
          0.0819187203405193,
          0.009180180665024101,
          0.018533023597782732,
          -0.003250973870209664,
          0.04925154604829151,
          -0.009971196406895207,
          -0.0023199593370761967,
          -0.02305818093053759,
          0.015518160889563192,
          -0.005191880165631997,
          0.01793204109959487,
          -0.0069313094591098995,
          0.00930057241369536,
          0.014654934735012084,
          -0.013037700356063059,
          0.002433081947381517,
          0.001659467041868106,
          -0.017736751939729612,
          0.035583725409644835,
          0.07284966703702293,
          -0.018588326218028427,
          0.0015867839932886055,
          -0.02126741082055923,
          0.024320646383694,
          0.07004464847857836,
          -0.00978535494822048,
          0.08590431690632504,
          -0.052277046427824686,
          -0.03937370329089697,
          0.05776761532071402,
          -0.008889888882897297,
          0.009787666254598352,
          0.012196058432993926,
          -0.003052506049991116,
          -0.006595797039905825,
          0.007474555771254048,
          -0.04171541244464825,
          0.025817844628587844,
          -0.02697370050614223,
          0.05039944763683731,
          0.06747855280845434,
          0.036213124954005624,
          0.07651403502187115,
          0.12645108117682743,
          0.01323965619758905,
          -0.017404076436543424,
          0.020579243780394125,
          0.10241918272489342,
          -0.031294179797161696,
          0.013099686323903579,
          0.019074500672006927,
          -0.029785727485036655,
          0.00013329605943815782,
          0.09049888548491682,
          -0.04649333201590645,
          0.015167860710440668,
          -0.05105769412846385,
          -0.06559870288489437,
          0.08298067038819532,
          -0.04185494718429495,
          0.01520390470417943,
          -0.007781454581928156,
          -0.038884339639871014,
          0.03720897247565101,
          0.0013458747004375454,
          -0.0013323884879125765,
          0.0030659693985973365,
          -0.025063424630081085,
          -0.023781465364230404,
          -0.03163934754750347,
          0.12331118921207428,
          0.04172205380429948,
          0.018162259872136134,
          0.10618769683979797,
          0.02764276800974182,
          -0.0045463782503080055,
          0.0635722137952821,
          0.023768211540485355,
          -0.017607920006301417,
          0.004527486632740915,
          0.0621915738853809,
          0.03897652873348478,
          -0.01138789608941323,
          0.11839534141276628,
          -0.04782238606695396,
          -0.060034084286439256,
          -0.0945727929773044,
          0.02743348445504921,
          -0.23651789445767657,
          0.10366923114657202,
          0.013720031040026988,
          0.003709375196707332,
          0.11852211424147706,
          0.06936453038904387,
          -0.017947393738460667,
          -0.04237854336559032,
          0.04326101937694436,
          0.016241895082045352,
          -0.05761528541471742,
          -0.10915761260898618,
          0.019345803747202597,
          0.0491842305281949,
          0.033459528236176775,
          -0.005069748902601041,
          0.023442192423042928,
          0.043670173422939704,
          -0.07665503512528221,
          0.025192518630920653,
          -0.02787018407731412,
          0.026977120398229415,
          0.0014567215247855486,
          0.018793074176697643,
          0.018943822515122916,
          0.009786884708723409,
          0.032273287618783654,
          -0.02729299577407529,
          -0.020731092265373598,
          -0.020310891071385614,
          -0.020850455371877373,
          0.0016576578966101716,
          0.007425427859397711,
          -0.01219258008931434,
          -0.0008324460631960825,
          0.010414737676610572,
          -0.04493353448533056,
          0.011777078527549948,
          -0.05707106115006527,
          0.03163027338080621,
          0.05675891678442002,
          -0.0069123197353376745,
          0.03983908014025376,
          -0.018755444602258167,
          -0.020418708541599162,
          -0.026215382510501505,
          0.016363110813065698,
          -0.012957330573612593,
          -0.007948653293047676,
          -0.0010042223136041864,
          0.07893944622909929,
          0.09709745318946535,
          0.025622441945055478,
          -0.019537882465358328,
          0.06377098448424992,
          0.0622723727366544,
          0.03297682427747412,
          0.02028074420821668,
          -0.03149318478843732,
          0.029784568093447848,
          -0.02763741793314288,
          0.04227093212295058,
          0.009493325730045684,
          0.068886056292822,
          0.012573321033348567,
          -0.07241913725041024,
          0.03668958724599977,
          -0.027615591895456065,
          0.04775997018342951,
          -0.010337277993335172,
          -0.016688013184044656,
          0.05183107739238726,
          0.05790353852575241,
          -0.06715493498509616,
          -0.01475762913420309,
          0.00876920991536227,
          0.024149533626973363,
          0.0028971067347807124,
          0.0034595328945027123,
          0.04232058232357712,
          0.015552413007484785,
          0.03358173995604568,
          0.007290726849836652,
          0.027994766442436515,
          0.07644846869014829,
          0.07548123816080572,
          -0.08144231364811663,
          0.046075003355075396,
          0.00583390055163722,
          -0.011074621019438693,
          -0.02254816438492551,
          0.022015499815695144,
          0.00696170884124915,
          -0.006440854103183227,
          0.0019507385857471659,
          0.039555086200732226,
          0.002596544878530684,
          -0.021669174678462418,
          -0.033811459334112025,
          -0.051455133708131096,
          0.05668432585298431,
          0.03851924269165984,
          -0.020956118951172036,
          -0.005514295631595512,
          0.002631883215661463,
          0.013044842106937113,
          -0.016300455142510474,
          -0.053982110546516617,
          0.008462878423046197,
          0.005479859012751231,
          -0.024685864957400334,
          0.0024209343993348833,
          -0.01358555824881115,
          -0.007751801260508434,
          -0.08937612559287707,
          -0.022161184525391956,
          0.059954347975619646,
          -0.08402401628244031,
          -0.009898985904473094,
          0.061615106636751404,
          -0.04554943930628858,
          -0.04963546753524194,
          -0.04984401019282242,
          -0.03853223628041701,
          -0.06022747806878096,
          0.17932714140524914,
          -0.008228833280182691,
          0.046130766690605556,
          -0.008425900400429927,
          0.02027649657712341,
          -0.04486533694757771,
          0.03616869761350537,
          -0.07184055905976201,
          0.002614584056873359,
          0.02284097771296026,
          -0.011770465503008509,
          -0.04935894253519092,
          0.015929083234572167,
          -0.034440713289359076,
          -0.012065159218404247,
          0.039029424523405194,
          0.04958242699342897,
          -0.00929552576717066,
          0.043324388497766333,
          0.0008244361718844317,
          -0.03031223705748461,
          0.018941076007001657,
          -0.009964638245883383,
          0.03620406408291566,
          0.0824615371588125,
          -0.04027179907894094,
          0.009000306677510112,
          0.001257911412789418,
          -0.034587909254449344,
          0.006082481415169929,
          0.03435484924604316,
          -0.03338171795091616,
          0.01340170287553078,
          0.011992516455123612,
          -0.046385859854230695,
          -0.014780794025162398,
          -0.02537683713134589,
          0.04680461290993818,
          -0.035203052789871174,
          -0.016636360929421883,
          -0.003956776807325818,
          -0.011090612633393284,
          0.013219694470214068,
          -0.0666139869184463,
          -0.019001672485714396,
          -0.04525703659502106,
          -0.03133918628539079,
          0.031084853734470938,
          -0.02213414578006038,
          0.0018013224952045325,
          -0.025252562795766022,
          0.040553601408475165,
          -0.010105809239520404,
          0.04306162202970284,
          -0.002889839951081735,
          0.023599290742317446,
          0.018752900206065234,
          -0.008964584890580543,
          -0.002113500469111133,
          -0.030563287475861584,
          -0.05482031154624073,
          0.04473860632554917,
          0.010098272085864791,
          -0.0025481655598922595,
          -0.008000903407653626,
          0.018761400839628444,
          -0.00037708912038201647,
          0.012708130416930218,
          -0.03012429716067012,
          0.009151155788618984,
          0.0192069740346885,
          0.010823457790850165,
          -0.003986737073227676,
          0.004628256702323586,
          0.051343820984031875,
          0.03479874196476401,
          -0.011763228305736152,
          0.02476994196174637,
          -0.011624991064809973,
          -0.0015582931945795787,
          -0.00262225819371756,
          0.001444593124038416,
          -0.028870583198134143,
          -0.02289574720602526,
          0.01257859403128338,
          0.006321812249024031,
          0.042832279170544656,
          -0.02534398967789286,
          -0.02293732311171139,
          -0.004263873629526309,
          -0.009854715165981626,
          0.003099673103658058,
          0.021857165705963834,
          -0.007919294852611359,
          -0.00924460786068585,
          -0.009097683584931696,
          0.02189168871378688,
          -0.019718078031379437,
          0.0034062276545409947,
          0.04587275846182932,
          0.014437208664382839,
          0.03217472594711166,
          9.862134908657855e-05,
          0.001661168327351945,
          0.005205072568156722,
          -0.021971130346089583,
          0.02075293960905606,
          -0.005295892009324611,
          -0.003061037245157465,
          0.020181504916966016,
          -0.0070584091033222005,
          -0.04418754471286682,
          -0.03027123516946714,
          0.03437259258571844,
          -0.022783267048393844,
          0.010031571629142592,
          0.03756503320848795,
          0.0030958501857263057,
          0.0038177489873267093,
          -0.014217568331421088,
          0.015229452832627683,
          0.026324794631827943,
          0.0065592749200010505,
          -0.002217981262751364,
          -0.00231847373209337,
          0.0016098361025145228,
          0.026035942688487673,
          0.0012609548743898497,
          0.001312369553312357,
          -0.024935356375548032,
          0.009099139444443169,
          0.002003341828722264,
          0.015117058319369686,
          0.0015335851645735571,
          0.0032970919669145526,
          -0.03936976129858423,
          0.012534643183807646,
          0.01684451236014587,
          0.002258262820491851,
          0.027160841972020323,
          0.021677401377557137,
          -0.017592195347548873,
          0.0048111864344248965,
          -0.0074897880450971975,
          -0.00033534501293734615,
          0.008106673348889567,
          -0.0012035741082394261,
          0.002763320999873195,
          0.01377889392912291,
          -0.010284539562274665,
          0.008177997401230774,
          0.01725061613832015,
          0.006630349593761303,
          0.008886865672994949,
          0.02974907491710917,
          0.03161711443997285,
          -0.006734486474692475,
          0.0017687488821671587,
          0.03205181901693134,
          0.017387072543931938,
          0.11921843486746743,
          -0.0062938149592970775,
          0.018898727534898532,
          0.03705562944417333,
          0.03374062327713504,
          0.08149724419582528,
          -0.03074274797958024,
          0.03509368755165895,
          0.01313564628546233,
          -0.006378469186125081,
          -0.04961124617557869,
          -0.12772318728902374,
          0.04251283809069096,
          -0.0041661953768667185,
          -0.028701065279561472,
          -0.01957254315692035,
          0.03998366090579434,
          0.031984216103858806,
          0.006744812791821567,
          0.03643213445735007,
          0.017272096909531555,
          -0.04223229344871564,
          0.006265105659810634,
          -0.031013582803841335,
          0.04964715675134432,
          0.006810578672784683,
          -0.044440653310942796,
          -0.009543130353379798,
          -0.0663521763056877,
          -0.005889394805839068,
          0.04148581070093519,
          0.016230761245708623,
          -0.06289341727027524,
          0.013093827482800639,
          -0.051053775924629424,
          -0.008208173270999982,
          0.018072325435531507,
          -0.051585055672323236,
          0.006076947341899706,
          -0.03561605979548491,
          0.04198665654283043,
          0.07227140942458773,
          0.05602002567418564,
          0.02493491640225287,
          -0.0050128185500081576,
          -0.002096907250306926,
          -0.014699782732613053,
          -0.012749774874751605,
          0.1269116289226746,
          -0.04273287830059682,
          -0.054953895352910696,
          -0.021758379841487693,
          -0.03609004895021842,
          0.029890740749494566,
          0.005917481776156395,
          0.03853754612843837,
          -0.06987655465675016,
          0.017346435457551865,
          -0.018364847454341894,
          -0.03441330009854252,
          0.000622510083264904,
          -0.0539980722931419,
          -0.014835635717323473,
          -0.012551567227813773,
          0.02048773822340817,
          -0.12277997465910719,
          0.02059221036289143,
          0.10145138741776683,
          -0.005856643341232021,
          -0.02786380690498853,
          -0.016162405874435497,
          0.035474386816493036,
          -0.017458706575610557,
          0.016028052271245364,
          0.010787525285489406,
          -0.0298952129692807,
          -0.050505215210130634,
          0.018159773032297852,
          0.05191932445845771,
          0.0010402120327626255,
          -0.05228610180162916,
          -0.022350967561475237,
          -0.04224617718140919,
          -0.07254830168258311,
          0.04695367409397792,
          0.011299945777284081,
          0.07211363413565586,
          -0.006986492144572377,
          0.01779600470296842,
          -0.04724057511561311,
          -0.0011922300504741562,
          -0.04104369101185902,
          0.024335419149005895,
          0.04107819387010212,
          -0.024358017786858904,
          -0.05259370365966602,
          -0.03711720154932235,
          0.04530634609366675,
          0.046704219074345354,
          0.03665493442277862,
          0.03803519751155836,
          0.017268009913468576,
          0.0760832835953988,
          0.005147863044765912,
          0.014714339594958641,
          -0.003240181703986614,
          0.07728050710253655,
          0.007054913567225325,
          -0.005087674440050588,
          -0.01509517416561853,
          0.006465651918934319,
          0.05459557817973847,
          -0.048464637280470575,
          -0.042589069768463106,
          0.01093679078037125,
          -0.030510186068030958,
          -0.049534931817513166,
          0.01122853693277581,
          0.03525937358618668,
          -0.03723709338922126,
          0.01939443951963136,
          0.023480261839117743,
          -0.05082502163771964,
          0.03180563608534794,
          -0.003704429607069112,
          -0.007019222592886596,
          -0.1299278575282087,
          0.005790878918745771,
          -0.004548029513557434,
          -0.007721957937068309,
          0.03628977282780161,
          0.006963974902024329,
          0.04659599279666411,
          -0.08695990905101429,
          -0.00877557365586079,
          -0.0951126361970946,
          0.016293707630266798,
          -0.08615264955046516,
          -0.008207980246495447,
          0.05555683158900242,
          -0.06055559591829793,
          0.050132289582274676,
          -0.07043726926027942,
          -0.0005496144580126333,
          -0.06631616117599509,
          0.016432950581559483,
          -0.07176955888757142,
          0.04762508488803113,
          0.07164265445291097,
          0.0707688185938516,
          -0.0018051917677216725,
          -0.023876273341224673,
          0.04571303469577831,
          -0.09672413884722543,
          0.01591980642197778,
          0.002542820180630796,
          0.012397350726358317,
          -0.008970671737446728,
          -0.0316877053198606,
          -0.07366972655880115,
          0.023606322357198544,
          0.0533736162801124,
          -0.08927688581957327,
          0.017029157609637507,
          0.08942411634475682,
          -0.004015858661335937,
          -0.0043156097521520964,
          0.04425503260828766,
          -0.003206786761701394,
          -0.05133914578061633,
          -0.018100003611393488,
          -0.0177355774717728,
          0.012352524133575146,
          0.025215114905161356,
          -0.00573722846648063,
          0.05380522947187794,
          0.02511707828484195,
          -0.06772231414560198,
          -0.005448427397798375,
          0.016890005886123306,
          0.005357484236889209,
          0.007330299130864308,
          0.001997430616818738,
          0.020505045463666282,
          0.007991447618970264,
          0.09331246499887616,
          0.0019732780255828208,
          -0.014093787954092982,
          -0.0363152186530825,
          0.05982904612856656,
          0.021882347827174065,
          0.056238328890716484,
          0.0004262206792024022,
          0.011072869479979633,
          0.022402858626649376,
          0.004014952135593356,
          -0.0686033118290163,
          0.007789020718917544,
          -0.0247155543645267,
          0.03816806100817755,
          -0.026599955270312267,
          0.045690263130780645,
          0.030493897831355556,
          -0.008952025876518947,
          -0.008407578354357605,
          -0.0037131047703819653,
          -0.02069451464936621,
          -0.023027123255798403,
          0.02230781558771273,
          0.0021677745650455194,
          -0.0034616690754643124,
          -0.02732301898385137,
          -0.011415491099770154,
          -0.02531598923616216,
          -0.007554668468041173,
          0.005608200169827373,
          -0.025395567131662106,
          0.015460425583855752,
          0.03325755641840769,
          0.019408586563541073,
          0.035389242849343666,
          0.015693156705112052,
          -0.041209445573060305,
          0.035245873940170286,
          0.0037601953268899466,
          -0.0013177201460770078,
          0.018680537647816527,
          -0.001100668054834369,
          -0.026021592607865372,
          -0.041438568478665415,
          -0.04703665354268194,
          0.0024668028538151034,
          0.024797737333229056,
          0.017065662059063912,
          -0.07053030781738932,
          -0.011097446407076914,
          -0.09008354847845335,
          0.02862918608137619,
          -0.035210184423729626,
          -0.011191467132615623,
          -0.06533110715825653,
          -0.0004932430962923407,
          -0.02940186584357689,
          0.003412211010253521,
          0.02041257160441261,
          -0.07845410579918498,
          0.06770743117966126,
          0.003822165646732409,
          0.008366694500343838,
          -0.06878698522005931,
          0.03395945997966481,
          -0.014987724107085643,
          0.051525211920993325,
          0.009931639962148882,
          0.0020011878357876823,
          0.015123446596271723,
          -0.004297734947231046,
          0.0012298580156588981,
          -0.05801089494975556,
          0.0015338580999043428,
          -0.03709208198225607,
          -0.05137700982212229,
          -0.029766854567743133,
          -0.07436539035358274,
          0.07132888823212645,
          0.027155202242509627,
          -0.02594999483044167,
          0.018009160285334423,
          -0.03934004993858786,
          -0.020266034660649707,
          -0.016402810087859467,
          -0.07082202204033466,
          0.012079065403443036,
          0.07530952893106566,
          -0.0018575995078746789,
          0.00032805270562665304,
          -0.011491515256992131,
          0.07390252318127676,
          0,
          0.0008214584254523483,
          -0.06580520897353867,
          -0.01451975486845227,
          -0.03267127201155782,
          -0.003453386948248274,
          0.03183338116095202,
          -0.06477309340338366,
          -0.04179828130131225,
          -0.02612261140486262,
          0.005533102257132837,
          -0.04833680500131505,
          -0.0023992055582815475,
          -0.08396483835074355,
          -0.0016704490129968075,
          -0.09302311928148893,
          -0.017706675474399133,
          -0.12113825810398889,
          0.032553261278161744,
          0.07772640277207259,
          0.011102159833173808,
          -0.13058999220665155,
          0.04997884108534127,
          -0.02946907696009933,
          0.02435215499827936,
          0.057654579278002493,
          -0.007711027963739906,
          0.036109204525613114,
          0.00275546279838757,
          -0.009432465746951967,
          0.07163646233055776,
          -0.020825332244057446,
          -0.012580752996881307,
          0.04797727392320426,
          0.07457364612008015,
          0.0009734348560736818,
          0.0037457958683397114,
          0.1040650092615062,
          0.10436164069972145,
          -0.06526572943550507,
          0.03860663902242871,
          0.04619721319012782,
          0.03711744228973266,
          0.009041655543147504,
          0.024849222136681733,
          0.010470780820742525,
          0.02250783702828191,
          0.029516907690852447,
          -0.05161833459581209,
          -0.011493498714308886,
          0.07237801403011461,
          0.023567198213512965,
          -0.058631243213632354,
          0.030561678706295534,
          -0.05394722804913025,
          0.017528035977254008,
          0.006006057267467943,
          -0.02601977738759486,
          0.05316324215501689,
          -0.009290230436857878,
          -0.014395089751065829,
          -0.060322654091468045,
          0.03545612908951283,
          -0.02032754273314496,
          -0.03198003067013721,
          -0.03089156736881823,
          -0.05117763786639216,
          0.0030026831172517087,
          0.005978365078895034,
          0.04909578215581386,
          -0.015452165385496644,
          0.020188342220549882,
          -0.021963216854791676,
          0.01717250122413543,
          0.07529223411697607,
          -0.0330851466718186,
          0.0055821275337720674,
          -0.009460894526444498,
          0.007325624786097459,
          -0.013753472002494866,
          0.0244876221590413,
          0.0071949836717746535,
          0.060504162532241994,
          -0.06311918518816903,
          -0.011307735857578558,
          -0.03734894534323148,
          -0.002482632348555218,
          -0.0029764508462149673,
          0.012281322445656457,
          -0.03403263254550459,
          0.029256539212836878,
          -0.004853036816821088,
          0.010966636750077955,
          -0.014703352511066695,
          -0.020389861131667686,
          -0.10254036525166675,
          0.012741333042302827,
          -0.015444550452118741,
          -0.011633104865311444,
          -0.04402465397224694,
          0.041032719267455574,
          0.025394246651119615,
          -0.015208459761728233,
          -0.009436987371174365,
          0.001869644402715088,
          0.0036667412660127767,
          0.05350549046047228,
          0.01012145995502574,
          -0.015486902413259212,
          -0.003612788634512576,
          0.020786425091438347,
          -0.024114596337054404,
          -0.009750860107846383,
          0.0010214088288270423,
          0.04313493317739194,
          0.01727768584344739,
          0.018206255962432197,
          0.0473245988875953,
          -0.016549549453013485,
          -0.015569850375932186,
          0.008547333224801432,
          0.04608376548838008,
          0.040530008769500823,
          0.013676132280176065,
          0.017450979367424225,
          0.030608082827557156,
          0.016868648629117366,
          0.0168599499197107,
          0.01462307267215497,
          0.04480209933086133,
          0.03981660778824774,
          0.021974491562613167,
          0.03492701634188564,
          -0.007449046704933148,
          -0.0034719442089692484,
          0.01796971375181672,
          0.05201270640767318,
          -0.05616662426467672,
          0.019654473293680905,
          -0.03073851253541729,
          -0.06251408245574486,
          0.03729619858071868,
          0.023813875097039847,
          0.004905252914132209,
          0.016446493545468958,
          0.06668035183063045,
          0.009461225032650612,
          -0.02125228365266279,
          -0.007659314226953743,
          -0.01771977662648564,
          0.0006674942605875906,
          0.008121354742896705,
          0.021496049775542363,
          0.012444771516691934,
          0.03148434056863512,
          0.010141906463636843,
          -0.00711596075110357,
          -0.1024426640636013,
          -0.011015199637560409,
          0.03417588510139735,
          -0.014148526638195701,
          -0.003511861575139069,
          -0.03322998965193553,
          0.040485570289088474
         ],
         "y0": " ",
         "yaxis": "y"
        }
       ],
       "layout": {
        "boxmode": "group",
        "legend": {
         "tracegroupgap": 0
        },
        "margin": {
         "t": 60
        },
        "template": {
         "data": {
          "bar": [
           {
            "error_x": {
             "color": "#2a3f5f"
            },
            "error_y": {
             "color": "#2a3f5f"
            },
            "marker": {
             "line": {
              "color": "#E5ECF6",
              "width": 0.5
             },
             "pattern": {
              "fillmode": "overlay",
              "size": 10,
              "solidity": 0.2
             }
            },
            "type": "bar"
           }
          ],
          "barpolar": [
           {
            "marker": {
             "line": {
              "color": "#E5ECF6",
              "width": 0.5
             },
             "pattern": {
              "fillmode": "overlay",
              "size": 10,
              "solidity": 0.2
             }
            },
            "type": "barpolar"
           }
          ],
          "carpet": [
           {
            "aaxis": {
             "endlinecolor": "#2a3f5f",
             "gridcolor": "white",
             "linecolor": "white",
             "minorgridcolor": "white",
             "startlinecolor": "#2a3f5f"
            },
            "baxis": {
             "endlinecolor": "#2a3f5f",
             "gridcolor": "white",
             "linecolor": "white",
             "minorgridcolor": "white",
             "startlinecolor": "#2a3f5f"
            },
            "type": "carpet"
           }
          ],
          "choropleth": [
           {
            "colorbar": {
             "outlinewidth": 0,
             "ticks": ""
            },
            "type": "choropleth"
           }
          ],
          "contour": [
           {
            "colorbar": {
             "outlinewidth": 0,
             "ticks": ""
            },
            "colorscale": [
             [
              0,
              "#0d0887"
             ],
             [
              0.1111111111111111,
              "#46039f"
             ],
             [
              0.2222222222222222,
              "#7201a8"
             ],
             [
              0.3333333333333333,
              "#9c179e"
             ],
             [
              0.4444444444444444,
              "#bd3786"
             ],
             [
              0.5555555555555556,
              "#d8576b"
             ],
             [
              0.6666666666666666,
              "#ed7953"
             ],
             [
              0.7777777777777778,
              "#fb9f3a"
             ],
             [
              0.8888888888888888,
              "#fdca26"
             ],
             [
              1,
              "#f0f921"
             ]
            ],
            "type": "contour"
           }
          ],
          "contourcarpet": [
           {
            "colorbar": {
             "outlinewidth": 0,
             "ticks": ""
            },
            "type": "contourcarpet"
           }
          ],
          "heatmap": [
           {
            "colorbar": {
             "outlinewidth": 0,
             "ticks": ""
            },
            "colorscale": [
             [
              0,
              "#0d0887"
             ],
             [
              0.1111111111111111,
              "#46039f"
             ],
             [
              0.2222222222222222,
              "#7201a8"
             ],
             [
              0.3333333333333333,
              "#9c179e"
             ],
             [
              0.4444444444444444,
              "#bd3786"
             ],
             [
              0.5555555555555556,
              "#d8576b"
             ],
             [
              0.6666666666666666,
              "#ed7953"
             ],
             [
              0.7777777777777778,
              "#fb9f3a"
             ],
             [
              0.8888888888888888,
              "#fdca26"
             ],
             [
              1,
              "#f0f921"
             ]
            ],
            "type": "heatmap"
           }
          ],
          "heatmapgl": [
           {
            "colorbar": {
             "outlinewidth": 0,
             "ticks": ""
            },
            "colorscale": [
             [
              0,
              "#0d0887"
             ],
             [
              0.1111111111111111,
              "#46039f"
             ],
             [
              0.2222222222222222,
              "#7201a8"
             ],
             [
              0.3333333333333333,
              "#9c179e"
             ],
             [
              0.4444444444444444,
              "#bd3786"
             ],
             [
              0.5555555555555556,
              "#d8576b"
             ],
             [
              0.6666666666666666,
              "#ed7953"
             ],
             [
              0.7777777777777778,
              "#fb9f3a"
             ],
             [
              0.8888888888888888,
              "#fdca26"
             ],
             [
              1,
              "#f0f921"
             ]
            ],
            "type": "heatmapgl"
           }
          ],
          "histogram": [
           {
            "marker": {
             "pattern": {
              "fillmode": "overlay",
              "size": 10,
              "solidity": 0.2
             }
            },
            "type": "histogram"
           }
          ],
          "histogram2d": [
           {
            "colorbar": {
             "outlinewidth": 0,
             "ticks": ""
            },
            "colorscale": [
             [
              0,
              "#0d0887"
             ],
             [
              0.1111111111111111,
              "#46039f"
             ],
             [
              0.2222222222222222,
              "#7201a8"
             ],
             [
              0.3333333333333333,
              "#9c179e"
             ],
             [
              0.4444444444444444,
              "#bd3786"
             ],
             [
              0.5555555555555556,
              "#d8576b"
             ],
             [
              0.6666666666666666,
              "#ed7953"
             ],
             [
              0.7777777777777778,
              "#fb9f3a"
             ],
             [
              0.8888888888888888,
              "#fdca26"
             ],
             [
              1,
              "#f0f921"
             ]
            ],
            "type": "histogram2d"
           }
          ],
          "histogram2dcontour": [
           {
            "colorbar": {
             "outlinewidth": 0,
             "ticks": ""
            },
            "colorscale": [
             [
              0,
              "#0d0887"
             ],
             [
              0.1111111111111111,
              "#46039f"
             ],
             [
              0.2222222222222222,
              "#7201a8"
             ],
             [
              0.3333333333333333,
              "#9c179e"
             ],
             [
              0.4444444444444444,
              "#bd3786"
             ],
             [
              0.5555555555555556,
              "#d8576b"
             ],
             [
              0.6666666666666666,
              "#ed7953"
             ],
             [
              0.7777777777777778,
              "#fb9f3a"
             ],
             [
              0.8888888888888888,
              "#fdca26"
             ],
             [
              1,
              "#f0f921"
             ]
            ],
            "type": "histogram2dcontour"
           }
          ],
          "mesh3d": [
           {
            "colorbar": {
             "outlinewidth": 0,
             "ticks": ""
            },
            "type": "mesh3d"
           }
          ],
          "parcoords": [
           {
            "line": {
             "colorbar": {
              "outlinewidth": 0,
              "ticks": ""
             }
            },
            "type": "parcoords"
           }
          ],
          "pie": [
           {
            "automargin": true,
            "type": "pie"
           }
          ],
          "scatter": [
           {
            "fillpattern": {
             "fillmode": "overlay",
             "size": 10,
             "solidity": 0.2
            },
            "type": "scatter"
           }
          ],
          "scatter3d": [
           {
            "line": {
             "colorbar": {
              "outlinewidth": 0,
              "ticks": ""
             }
            },
            "marker": {
             "colorbar": {
              "outlinewidth": 0,
              "ticks": ""
             }
            },
            "type": "scatter3d"
           }
          ],
          "scattercarpet": [
           {
            "marker": {
             "colorbar": {
              "outlinewidth": 0,
              "ticks": ""
             }
            },
            "type": "scattercarpet"
           }
          ],
          "scattergeo": [
           {
            "marker": {
             "colorbar": {
              "outlinewidth": 0,
              "ticks": ""
             }
            },
            "type": "scattergeo"
           }
          ],
          "scattergl": [
           {
            "marker": {
             "colorbar": {
              "outlinewidth": 0,
              "ticks": ""
             }
            },
            "type": "scattergl"
           }
          ],
          "scattermapbox": [
           {
            "marker": {
             "colorbar": {
              "outlinewidth": 0,
              "ticks": ""
             }
            },
            "type": "scattermapbox"
           }
          ],
          "scatterpolar": [
           {
            "marker": {
             "colorbar": {
              "outlinewidth": 0,
              "ticks": ""
             }
            },
            "type": "scatterpolar"
           }
          ],
          "scatterpolargl": [
           {
            "marker": {
             "colorbar": {
              "outlinewidth": 0,
              "ticks": ""
             }
            },
            "type": "scatterpolargl"
           }
          ],
          "scatterternary": [
           {
            "marker": {
             "colorbar": {
              "outlinewidth": 0,
              "ticks": ""
             }
            },
            "type": "scatterternary"
           }
          ],
          "surface": [
           {
            "colorbar": {
             "outlinewidth": 0,
             "ticks": ""
            },
            "colorscale": [
             [
              0,
              "#0d0887"
             ],
             [
              0.1111111111111111,
              "#46039f"
             ],
             [
              0.2222222222222222,
              "#7201a8"
             ],
             [
              0.3333333333333333,
              "#9c179e"
             ],
             [
              0.4444444444444444,
              "#bd3786"
             ],
             [
              0.5555555555555556,
              "#d8576b"
             ],
             [
              0.6666666666666666,
              "#ed7953"
             ],
             [
              0.7777777777777778,
              "#fb9f3a"
             ],
             [
              0.8888888888888888,
              "#fdca26"
             ],
             [
              1,
              "#f0f921"
             ]
            ],
            "type": "surface"
           }
          ],
          "table": [
           {
            "cells": {
             "fill": {
              "color": "#EBF0F8"
             },
             "line": {
              "color": "white"
             }
            },
            "header": {
             "fill": {
              "color": "#C8D4E3"
             },
             "line": {
              "color": "white"
             }
            },
            "type": "table"
           }
          ]
         },
         "layout": {
          "annotationdefaults": {
           "arrowcolor": "#2a3f5f",
           "arrowhead": 0,
           "arrowwidth": 1
          },
          "autotypenumbers": "strict",
          "coloraxis": {
           "colorbar": {
            "outlinewidth": 0,
            "ticks": ""
           }
          },
          "colorscale": {
           "diverging": [
            [
             0,
             "#8e0152"
            ],
            [
             0.1,
             "#c51b7d"
            ],
            [
             0.2,
             "#de77ae"
            ],
            [
             0.3,
             "#f1b6da"
            ],
            [
             0.4,
             "#fde0ef"
            ],
            [
             0.5,
             "#f7f7f7"
            ],
            [
             0.6,
             "#e6f5d0"
            ],
            [
             0.7,
             "#b8e186"
            ],
            [
             0.8,
             "#7fbc41"
            ],
            [
             0.9,
             "#4d9221"
            ],
            [
             1,
             "#276419"
            ]
           ],
           "sequential": [
            [
             0,
             "#0d0887"
            ],
            [
             0.1111111111111111,
             "#46039f"
            ],
            [
             0.2222222222222222,
             "#7201a8"
            ],
            [
             0.3333333333333333,
             "#9c179e"
            ],
            [
             0.4444444444444444,
             "#bd3786"
            ],
            [
             0.5555555555555556,
             "#d8576b"
            ],
            [
             0.6666666666666666,
             "#ed7953"
            ],
            [
             0.7777777777777778,
             "#fb9f3a"
            ],
            [
             0.8888888888888888,
             "#fdca26"
            ],
            [
             1,
             "#f0f921"
            ]
           ],
           "sequentialminus": [
            [
             0,
             "#0d0887"
            ],
            [
             0.1111111111111111,
             "#46039f"
            ],
            [
             0.2222222222222222,
             "#7201a8"
            ],
            [
             0.3333333333333333,
             "#9c179e"
            ],
            [
             0.4444444444444444,
             "#bd3786"
            ],
            [
             0.5555555555555556,
             "#d8576b"
            ],
            [
             0.6666666666666666,
             "#ed7953"
            ],
            [
             0.7777777777777778,
             "#fb9f3a"
            ],
            [
             0.8888888888888888,
             "#fdca26"
            ],
            [
             1,
             "#f0f921"
            ]
           ]
          },
          "colorway": [
           "#636efa",
           "#EF553B",
           "#00cc96",
           "#ab63fa",
           "#FFA15A",
           "#19d3f3",
           "#FF6692",
           "#B6E880",
           "#FF97FF",
           "#FECB52"
          ],
          "font": {
           "color": "#2a3f5f"
          },
          "geo": {
           "bgcolor": "white",
           "lakecolor": "white",
           "landcolor": "#E5ECF6",
           "showlakes": true,
           "showland": true,
           "subunitcolor": "white"
          },
          "hoverlabel": {
           "align": "left"
          },
          "hovermode": "closest",
          "mapbox": {
           "style": "light"
          },
          "paper_bgcolor": "white",
          "plot_bgcolor": "#E5ECF6",
          "polar": {
           "angularaxis": {
            "gridcolor": "white",
            "linecolor": "white",
            "ticks": ""
           },
           "bgcolor": "#E5ECF6",
           "radialaxis": {
            "gridcolor": "white",
            "linecolor": "white",
            "ticks": ""
           }
          },
          "scene": {
           "xaxis": {
            "backgroundcolor": "#E5ECF6",
            "gridcolor": "white",
            "gridwidth": 2,
            "linecolor": "white",
            "showbackground": true,
            "ticks": "",
            "zerolinecolor": "white"
           },
           "yaxis": {
            "backgroundcolor": "#E5ECF6",
            "gridcolor": "white",
            "gridwidth": 2,
            "linecolor": "white",
            "showbackground": true,
            "ticks": "",
            "zerolinecolor": "white"
           },
           "zaxis": {
            "backgroundcolor": "#E5ECF6",
            "gridcolor": "white",
            "gridwidth": 2,
            "linecolor": "white",
            "showbackground": true,
            "ticks": "",
            "zerolinecolor": "white"
           }
          },
          "shapedefaults": {
           "line": {
            "color": "#2a3f5f"
           }
          },
          "ternary": {
           "aaxis": {
            "gridcolor": "white",
            "linecolor": "white",
            "ticks": ""
           },
           "baxis": {
            "gridcolor": "white",
            "linecolor": "white",
            "ticks": ""
           },
           "bgcolor": "#E5ECF6",
           "caxis": {
            "gridcolor": "white",
            "linecolor": "white",
            "ticks": ""
           }
          },
          "title": {
           "x": 0.05
          },
          "xaxis": {
           "automargin": true,
           "gridcolor": "white",
           "linecolor": "white",
           "ticks": "",
           "title": {
            "standoff": 15
           },
           "zerolinecolor": "white",
           "zerolinewidth": 2
          },
          "yaxis": {
           "automargin": true,
           "gridcolor": "white",
           "linecolor": "white",
           "ticks": "",
           "title": {
            "standoff": 15
           },
           "zerolinecolor": "white",
           "zerolinewidth": 2
          }
         }
        },
        "xaxis": {
         "anchor": "y",
         "domain": [
          0,
          1
         ],
         "title": {
          "text": "variable"
         }
        },
        "yaxis": {
         "anchor": "x",
         "domain": [
          0,
          1
         ],
         "title": {
          "text": "value"
         }
        }
       }
      },
      "text/html": [
       "<div>                            <div id=\"1cbbaa43-f32c-48ca-b157-957649848554\" class=\"plotly-graph-div\" style=\"height:525px; width:100%;\"></div>            <script type=\"text/javascript\">                require([\"plotly\"], function(Plotly) {                    window.PLOTLYENV=window.PLOTLYENV || {};                                    if (document.getElementById(\"1cbbaa43-f32c-48ca-b157-957649848554\")) {                    Plotly.newPlot(                        \"1cbbaa43-f32c-48ca-b157-957649848554\",                        [{\"alignmentgroup\":\"True\",\"hovertemplate\":\"variable=%{x}\\u003cbr\\u003evalue=%{y}\\u003cextra\\u003e\\u003c\\u002fextra\\u003e\",\"legendgroup\":\"\",\"marker\":{\"color\":\"#636efa\"},\"name\":\"\",\"notched\":false,\"offsetgroup\":\"\",\"orientation\":\"v\",\"showlegend\":false,\"x\":[\"Close\",\"Close\",\"Close\",\"Close\",\"Close\",\"Close\",\"Close\",\"Close\",\"Close\",\"Close\",\"Close\",\"Close\",\"Close\",\"Close\",\"Close\",\"Close\",\"Close\",\"Close\",\"Close\",\"Close\",\"Close\",\"Close\",\"Close\",\"Close\",\"Close\",\"Close\",\"Close\",\"Close\",\"Close\",\"Close\",\"Close\",\"Close\",\"Close\",\"Close\",\"Close\",\"Close\",\"Close\",\"Close\",\"Close\",\"Close\",\"Close\",\"Close\",\"Close\",\"Close\",\"Close\",\"Close\",\"Close\",\"Close\",\"Close\",\"Close\",\"Close\",\"Close\",\"Close\",\"Close\",\"Close\",\"Close\",\"Close\",\"Close\",\"Close\",\"Close\",\"Close\",\"Close\",\"Close\",\"Close\",\"Close\",\"Close\",\"Close\",\"Close\",\"Close\",\"Close\",\"Close\",\"Close\",\"Close\",\"Close\",\"Close\",\"Close\",\"Close\",\"Close\",\"Close\",\"Close\",\"Close\",\"Close\",\"Close\",\"Close\",\"Close\",\"Close\",\"Close\",\"Close\",\"Close\",\"Close\",\"Close\",\"Close\",\"Close\",\"Close\",\"Close\",\"Close\",\"Close\",\"Close\",\"Close\",\"Close\",\"Close\",\"Close\",\"Close\",\"Close\",\"Close\",\"Close\",\"Close\",\"Close\",\"Close\",\"Close\",\"Close\",\"Close\",\"Close\",\"Close\",\"Close\",\"Close\",\"Close\",\"Close\",\"Close\",\"Close\",\"Close\",\"Close\",\"Close\",\"Close\",\"Close\",\"Close\",\"Close\",\"Close\",\"Close\",\"Close\",\"Close\",\"Close\",\"Close\",\"Close\",\"Close\",\"Close\",\"Close\",\"Close\",\"Close\",\"Close\",\"Close\",\"Close\",\"Close\",\"Close\",\"Close\",\"Close\",\"Close\",\"Close\",\"Close\",\"Close\",\"Close\",\"Close\",\"Close\",\"Close\",\"Close\",\"Close\",\"Close\",\"Close\",\"Close\",\"Close\",\"Close\",\"Close\",\"Close\",\"Close\",\"Close\",\"Close\",\"Close\",\"Close\",\"Close\",\"Close\",\"Close\",\"Close\",\"Close\",\"Close\",\"Close\",\"Close\",\"Close\",\"Close\",\"Close\",\"Close\",\"Close\",\"Close\",\"Close\",\"Close\",\"Close\",\"Close\",\"Close\",\"Close\",\"Close\",\"Close\",\"Close\",\"Close\",\"Close\",\"Close\",\"Close\",\"Close\",\"Close\",\"Close\",\"Close\",\"Close\",\"Close\",\"Close\",\"Close\",\"Close\",\"Close\",\"Close\",\"Close\",\"Close\",\"Close\",\"Close\",\"Close\",\"Close\",\"Close\",\"Close\",\"Close\",\"Close\",\"Close\",\"Close\",\"Close\",\"Close\",\"Close\",\"Close\",\"Close\",\"Close\",\"Close\",\"Close\",\"Close\",\"Close\",\"Close\",\"Close\",\"Close\",\"Close\",\"Close\",\"Close\",\"Close\",\"Close\",\"Close\",\"Close\",\"Close\",\"Close\",\"Close\",\"Close\",\"Close\",\"Close\",\"Close\",\"Close\",\"Close\",\"Close\",\"Close\",\"Close\",\"Close\",\"Close\",\"Close\",\"Close\",\"Close\",\"Close\",\"Close\",\"Close\",\"Close\",\"Close\",\"Close\",\"Close\",\"Close\",\"Close\",\"Close\",\"Close\",\"Close\",\"Close\",\"Close\",\"Close\",\"Close\",\"Close\",\"Close\",\"Close\",\"Close\",\"Close\",\"Close\",\"Close\",\"Close\",\"Close\",\"Close\",\"Close\",\"Close\",\"Close\",\"Close\",\"Close\",\"Close\",\"Close\",\"Close\",\"Close\",\"Close\",\"Close\",\"Close\",\"Close\",\"Close\",\"Close\",\"Close\",\"Close\",\"Close\",\"Close\",\"Close\",\"Close\",\"Close\",\"Close\",\"Close\",\"Close\",\"Close\",\"Close\",\"Close\",\"Close\",\"Close\",\"Close\",\"Close\",\"Close\",\"Close\",\"Close\",\"Close\",\"Close\",\"Close\",\"Close\",\"Close\",\"Close\",\"Close\",\"Close\",\"Close\",\"Close\",\"Close\",\"Close\",\"Close\",\"Close\",\"Close\",\"Close\",\"Close\",\"Close\",\"Close\",\"Close\",\"Close\",\"Close\",\"Close\",\"Close\",\"Close\",\"Close\",\"Close\",\"Close\",\"Close\",\"Close\",\"Close\",\"Close\",\"Close\",\"Close\",\"Close\",\"Close\",\"Close\",\"Close\",\"Close\",\"Close\",\"Close\",\"Close\",\"Close\",\"Close\",\"Close\",\"Close\",\"Close\",\"Close\",\"Close\",\"Close\",\"Close\",\"Close\",\"Close\",\"Close\",\"Close\",\"Close\",\"Close\",\"Close\",\"Close\",\"Close\",\"Close\",\"Close\",\"Close\",\"Close\",\"Close\",\"Close\",\"Close\",\"Close\",\"Close\",\"Close\",\"Close\",\"Close\",\"Close\",\"Close\",\"Close\",\"Close\",\"Close\",\"Close\",\"Close\",\"Close\",\"Close\",\"Close\",\"Close\",\"Close\",\"Close\",\"Close\",\"Close\",\"Close\",\"Close\",\"Close\",\"Close\",\"Close\",\"Close\",\"Close\",\"Close\",\"Close\",\"Close\",\"Close\",\"Close\",\"Close\",\"Close\",\"Close\",\"Close\",\"Close\",\"Close\",\"Close\",\"Close\",\"Close\",\"Close\",\"Close\",\"Close\",\"Close\",\"Close\",\"Close\",\"Close\",\"Close\",\"Close\",\"Close\",\"Close\",\"Close\",\"Close\",\"Close\",\"Close\",\"Close\",\"Close\",\"Close\",\"Close\",\"Close\",\"Close\",\"Close\",\"Close\",\"Close\",\"Close\",\"Close\",\"Close\",\"Close\",\"Close\",\"Close\",\"Close\",\"Close\",\"Close\",\"Close\",\"Close\",\"Close\",\"Close\",\"Close\",\"Close\",\"Close\",\"Close\",\"Close\",\"Close\",\"Close\",\"Close\",\"Close\",\"Close\",\"Close\",\"Close\",\"Close\",\"Close\",\"Close\",\"Close\",\"Close\",\"Close\",\"Close\",\"Close\",\"Close\",\"Close\",\"Close\",\"Close\",\"Close\",\"Close\",\"Close\",\"Close\",\"Close\",\"Close\",\"Close\",\"Close\",\"Close\",\"Close\",\"Close\",\"Close\",\"Close\",\"Close\",\"Close\",\"Close\",\"Close\",\"Close\",\"Close\",\"Close\",\"Close\",\"Close\",\"Close\",\"Close\",\"Close\",\"Close\",\"Close\",\"Close\",\"Close\",\"Close\",\"Close\",\"Close\",\"Close\",\"Close\",\"Close\",\"Close\",\"Close\",\"Close\",\"Close\",\"Close\",\"Close\",\"Close\",\"Close\",\"Close\",\"Close\",\"Close\",\"Close\",\"Close\",\"Close\",\"Close\",\"Close\",\"Close\",\"Close\",\"Close\",\"Close\",\"Close\",\"Close\",\"Close\",\"Close\",\"Close\",\"Close\",\"Close\",\"Close\",\"Close\",\"Close\",\"Close\",\"Close\",\"Close\",\"Close\",\"Close\",\"Close\",\"Close\",\"Close\",\"Close\",\"Close\",\"Close\",\"Close\",\"Close\",\"Close\",\"Close\",\"Close\",\"Close\",\"Close\",\"Close\",\"Close\",\"Close\",\"Close\",\"Close\",\"Close\",\"Close\",\"Close\",\"Close\",\"Close\",\"Close\",\"Close\",\"Close\",\"Close\",\"Close\",\"Close\",\"Close\",\"Close\",\"Close\",\"Close\",\"Close\",\"Close\",\"Close\",\"Close\",\"Close\",\"Close\",\"Close\",\"Close\",\"Close\",\"Close\",\"Close\",\"Close\",\"Close\",\"Close\",\"Close\",\"Close\",\"Close\",\"Close\",\"Close\",\"Close\",\"Close\",\"Close\",\"Close\",\"Close\",\"Close\",\"Close\",\"Close\",\"Close\",\"Close\",\"Close\",\"Close\",\"Close\",\"Close\",\"Close\",\"Close\",\"Close\",\"Close\",\"Close\",\"Close\",\"Close\",\"Close\",\"Close\",\"Close\",\"Close\",\"Close\",\"Close\",\"Close\",\"Close\",\"Close\",\"Close\",\"Close\",\"Close\",\"Close\",\"Close\",\"Close\",\"Close\",\"Close\",\"Close\",\"Close\",\"Close\",\"Close\",\"Close\",\"Close\",\"Close\",\"Close\",\"Close\",\"Close\",\"Close\",\"Close\",\"Close\",\"Close\",\"Close\",\"Close\",\"Close\",\"Close\",\"Close\",\"Close\",\"Close\",\"Close\",\"Close\",\"Close\",\"Close\",\"Close\",\"Close\",\"Close\",\"Close\",\"Close\",\"Close\",\"Close\",\"Close\",\"Close\",\"Close\",\"Close\",\"Close\",\"Close\",\"Close\",\"Close\",\"Close\",\"Close\",\"Close\",\"Close\",\"Close\",\"Close\",\"Close\",\"Close\",\"Close\",\"Close\",\"Close\",\"Close\",\"Close\",\"Close\",\"Close\",\"Close\",\"Close\",\"Close\",\"Close\",\"Close\",\"Close\",\"Close\",\"Close\",\"Close\",\"Close\",\"Close\",\"Close\",\"Close\",\"Close\",\"Close\",\"Close\",\"Close\",\"Close\",\"Close\",\"Close\",\"Close\",\"Close\",\"Close\",\"Close\",\"Close\",\"Close\",\"Close\",\"Close\",\"Close\",\"Close\",\"Close\",\"Close\",\"Close\",\"Close\",\"Close\",\"Close\",\"Close\",\"Close\",\"Close\",\"Close\",\"Close\",\"Close\",\"Close\",\"Close\",\"Close\",\"Close\",\"Close\",\"Close\",\"Close\",\"Close\",\"Close\",\"Close\",\"Close\",\"Close\",\"Close\",\"Close\",\"Close\",\"Close\",\"Close\",\"Close\",\"Close\",\"Close\",\"Close\",\"Close\",\"Close\",\"Close\",\"Close\",\"Close\",\"Close\",\"Close\",\"Close\",\"Close\",\"Close\",\"Close\",\"Close\",\"Close\",\"Close\",\"Close\",\"Close\",\"Close\",\"Close\",\"Close\",\"Close\",\"Close\",\"Close\",\"Close\",\"Close\",\"Close\",\"Close\",\"Close\",\"Close\",\"Close\",\"Close\",\"Close\",\"Close\",\"Close\",\"Close\",\"Close\",\"Close\",\"Close\",\"Close\",\"Close\",\"Close\",\"Close\",\"Close\",\"Close\",\"Close\",\"Close\",\"Close\",\"Close\",\"Close\",\"Close\",\"Close\",\"Close\",\"Close\",\"Close\",\"Close\",\"Close\",\"Close\",\"Close\",\"Close\",\"Close\",\"Close\",\"Close\",\"Close\",\"Close\",\"Close\",\"Close\",\"Close\",\"Close\",\"Close\",\"Close\",\"Close\",\"Close\",\"Close\",\"Close\",\"Close\",\"Close\",\"Close\",\"Close\",\"Close\",\"Close\",\"Close\",\"Close\",\"Close\",\"Close\",\"Close\",\"Close\",\"Close\",\"Close\",\"Close\",\"Close\",\"Close\",\"Close\",\"Close\",\"Close\",\"Close\",\"Close\",\"Close\",\"Close\",\"Close\",\"Close\",\"Close\",\"Close\",\"Close\",\"Close\",\"Close\",\"Close\",\"Close\",\"Close\",\"Close\",\"Close\",\"Close\",\"Close\",\"Close\",\"Close\",\"Close\",\"Close\",\"Close\",\"Close\",\"Close\",\"Close\",\"Close\",\"Close\",\"Close\",\"Close\",\"Close\",\"Close\",\"Close\",\"Close\",\"Close\",\"Close\",\"Close\",\"Close\",\"Close\",\"Close\",\"Close\",\"Close\"],\"x0\":\" \",\"xaxis\":\"x\",\"y\":[0.02920267893223429,0.019071612174755247,0.03806670586808656,0.048032568493066904,-0.022189385476863444,-0.006649355680979626,0.09320702322102224,0.024578286172624794,-0.03676981311758122,-0.00970946227670784,-0.005839913304383257,0.06942373110021945,0.04004983514491321,0.004624413044606698,-0.012981499419033645,-0.012112331857897394,0.01578809278786119,0.02455066473079113,0.09799952270077929,0.015115867923964223,0.18144500086765858,0.1286186970285338,-0.18845037343186985,0.019223358515689473,-0.0011890304222129079,0.030554904345579816,0.0040112052857509935,-0.009197828567077742,0.04673438827304504,-0.004949986662921484,0.0704209168261074,0.06649517653196184,-0.019826354777620056,0.0017662480443414094,-0.07752369493467591,-0.041482357972054684,-0.026744949535016983,-0.13713311629061195,-0.016347950327421108,0.1072570247859105,0.0025383850988232293,0.005337746224066965,-0.033869376791647296,-0.029497510135476336,-0.14586457137702016,0.059586929551683376,-0.01735009892797303,-0.12349328402408655,-0.02516454136147571,-0.20552230217550044,-0.03398134500612111,-0.17476304366003273,0.16879451260286096,-0.00025720668994270134,0.015688043665694176,0.15084593365171223,0.06562083944686455,-0.0207800386755252,-0.026475805312348537,-0.024064387275638185,0.04263263821287683,-0.08446087652228773,-0.057898921000518445,0.05467504939194526,0.07276481895829454,0.05503939414254686,0.006195761068727163,0.043078797207400474,0.12754711640906993,0.0866771798728856,0.02770162075738181,0.020854428493631318,0.011580411041559343,-0.010038465581097953,-0.08328137479063667,0.06400415510269586,-0.036839791089286374,0.02728753098899391,0.09666945779957149,-0.037801017814305886,0.040002020280935593,-0.023547759980736722,-0.10873700220740792,0.0819187203405193,0.009180180665024101,0.018533023597782732,-0.003250973870209664,0.04925154604829151,-0.009971196406895207,-0.0023199593370761967,-0.02305818093053759,0.015518160889563192,-0.005191880165631997,0.01793204109959487,-0.0069313094591098995,0.00930057241369536,0.014654934735012084,-0.013037700356063059,0.002433081947381517,0.001659467041868106,-0.017736751939729612,0.035583725409644835,0.07284966703702293,-0.018588326218028427,0.0015867839932886055,-0.02126741082055923,0.024320646383694,0.07004464847857836,-0.00978535494822048,0.08590431690632504,-0.052277046427824686,-0.03937370329089697,0.05776761532071402,-0.008889888882897297,0.009787666254598352,0.012196058432993926,-0.003052506049991116,-0.006595797039905825,0.007474555771254048,-0.04171541244464825,0.025817844628587844,-0.02697370050614223,0.05039944763683731,0.06747855280845434,0.036213124954005624,0.07651403502187115,0.12645108117682743,0.01323965619758905,-0.017404076436543424,0.020579243780394125,0.10241918272489342,-0.031294179797161696,0.013099686323903579,0.019074500672006927,-0.029785727485036655,0.00013329605943815782,0.09049888548491682,-0.04649333201590645,0.015167860710440668,-0.05105769412846385,-0.06559870288489437,0.08298067038819532,-0.04185494718429495,0.01520390470417943,-0.007781454581928156,-0.038884339639871014,0.03720897247565101,0.0013458747004375454,-0.0013323884879125765,0.0030659693985973365,-0.025063424630081085,-0.023781465364230404,-0.03163934754750347,0.12331118921207428,0.04172205380429948,0.018162259872136134,0.10618769683979797,0.02764276800974182,-0.0045463782503080055,0.0635722137952821,0.023768211540485355,-0.017607920006301417,0.004527486632740915,0.0621915738853809,0.03897652873348478,-0.01138789608941323,0.11839534141276628,-0.04782238606695396,-0.060034084286439256,-0.0945727929773044,0.02743348445504921,-0.23651789445767657,0.10366923114657202,0.013720031040026988,0.003709375196707332,0.11852211424147706,0.06936453038904387,-0.017947393738460667,-0.04237854336559032,0.04326101937694436,0.016241895082045352,-0.05761528541471742,-0.10915761260898618,0.019345803747202597,0.0491842305281949,0.033459528236176775,-0.005069748902601041,0.023442192423042928,0.043670173422939704,-0.07665503512528221,0.025192518630920653,-0.02787018407731412,0.026977120398229415,0.0014567215247855486,0.018793074176697643,0.018943822515122916,0.009786884708723409,0.032273287618783654,-0.02729299577407529,-0.020731092265373598,-0.020310891071385614,-0.020850455371877373,0.0016576578966101716,0.007425427859397711,-0.01219258008931434,-0.0008324460631960825,0.010414737676610572,-0.04493353448533056,0.011777078527549948,-0.05707106115006527,0.03163027338080621,0.05675891678442002,-0.0069123197353376745,0.03983908014025376,-0.018755444602258167,-0.020418708541599162,-0.026215382510501505,0.016363110813065698,-0.012957330573612593,-0.007948653293047676,-0.0010042223136041864,0.07893944622909929,0.09709745318946535,0.025622441945055478,-0.019537882465358328,0.06377098448424992,0.0622723727366544,0.03297682427747412,0.02028074420821668,-0.03149318478843732,0.029784568093447848,-0.02763741793314288,0.04227093212295058,0.009493325730045684,0.068886056292822,0.012573321033348567,-0.07241913725041024,0.03668958724599977,-0.027615591895456065,0.04775997018342951,-0.010337277993335172,-0.016688013184044656,0.05183107739238726,0.05790353852575241,-0.06715493498509616,-0.01475762913420309,0.00876920991536227,0.024149533626973363,0.0028971067347807124,0.0034595328945027123,0.04232058232357712,0.015552413007484785,0.03358173995604568,0.007290726849836652,0.027994766442436515,0.07644846869014829,0.07548123816080572,-0.08144231364811663,0.046075003355075396,0.00583390055163722,-0.011074621019438693,-0.02254816438492551,0.022015499815695144,0.00696170884124915,-0.006440854103183227,0.0019507385857471659,0.039555086200732226,0.002596544878530684,-0.021669174678462418,-0.033811459334112025,-0.051455133708131096,0.05668432585298431,0.03851924269165984,-0.020956118951172036,-0.005514295631595512,0.002631883215661463,0.013044842106937113,-0.016300455142510474,-0.053982110546516617,0.008462878423046197,0.005479859012751231,-0.024685864957400334,0.0024209343993348833,-0.01358555824881115,-0.007751801260508434,-0.08937612559287707,-0.022161184525391956,0.059954347975619646,-0.08402401628244031,-0.009898985904473094,0.061615106636751404,-0.04554943930628858,-0.04963546753524194,-0.04984401019282242,-0.03853223628041701,-0.06022747806878096,0.17932714140524914,-0.008228833280182691,0.046130766690605556,-0.008425900400429927,0.02027649657712341,-0.04486533694757771,0.03616869761350537,-0.07184055905976201,0.002614584056873359,0.02284097771296026,-0.011770465503008509,-0.04935894253519092,0.015929083234572167,-0.034440713289359076,-0.012065159218404247,0.039029424523405194,0.04958242699342897,-0.00929552576717066,0.043324388497766333,0.0008244361718844317,-0.03031223705748461,0.018941076007001657,-0.009964638245883383,0.03620406408291566,0.0824615371588125,-0.04027179907894094,0.009000306677510112,0.001257911412789418,-0.034587909254449344,0.006082481415169929,0.03435484924604316,-0.03338171795091616,0.01340170287553078,0.011992516455123612,-0.046385859854230695,-0.014780794025162398,-0.02537683713134589,0.04680461290993818,-0.035203052789871174,-0.016636360929421883,-0.003956776807325818,-0.011090612633393284,0.013219694470214068,-0.0666139869184463,-0.019001672485714396,-0.04525703659502106,-0.03133918628539079,0.031084853734470938,-0.02213414578006038,0.0018013224952045325,-0.025252562795766022,0.040553601408475165,-0.010105809239520404,0.04306162202970284,-0.002889839951081735,0.023599290742317446,0.018752900206065234,-0.008964584890580543,-0.002113500469111133,-0.030563287475861584,-0.05482031154624073,0.04473860632554917,0.010098272085864791,-0.0025481655598922595,-0.008000903407653626,0.018761400839628444,-0.00037708912038201647,0.012708130416930218,-0.03012429716067012,0.009151155788618984,0.0192069740346885,0.010823457790850165,-0.003986737073227676,0.004628256702323586,0.051343820984031875,0.03479874196476401,-0.011763228305736152,0.02476994196174637,-0.011624991064809973,-0.0015582931945795787,-0.00262225819371756,0.001444593124038416,-0.028870583198134143,-0.02289574720602526,0.01257859403128338,0.006321812249024031,0.042832279170544656,-0.02534398967789286,-0.02293732311171139,-0.004263873629526309,-0.009854715165981626,0.003099673103658058,0.021857165705963834,-0.007919294852611359,-0.00924460786068585,-0.009097683584931696,0.02189168871378688,-0.019718078031379437,0.0034062276545409947,0.04587275846182932,0.014437208664382839,0.03217472594711166,9.862134908657855e-05,0.001661168327351945,0.005205072568156722,-0.021971130346089583,0.02075293960905606,-0.005295892009324611,-0.003061037245157465,0.020181504916966016,-0.0070584091033222005,-0.04418754471286682,-0.03027123516946714,0.03437259258571844,-0.022783267048393844,0.010031571629142592,0.03756503320848795,0.0030958501857263057,0.0038177489873267093,-0.014217568331421088,0.015229452832627683,0.026324794631827943,0.0065592749200010505,-0.002217981262751364,-0.00231847373209337,0.0016098361025145228,0.026035942688487673,0.0012609548743898497,0.001312369553312357,-0.024935356375548032,0.009099139444443169,0.002003341828722264,0.015117058319369686,0.0015335851645735571,0.0032970919669145526,-0.03936976129858423,0.012534643183807646,0.01684451236014587,0.002258262820491851,0.027160841972020323,0.021677401377557137,-0.017592195347548873,0.0048111864344248965,-0.0074897880450971975,-0.00033534501293734615,0.008106673348889567,-0.0012035741082394261,0.002763320999873195,0.01377889392912291,-0.010284539562274665,0.008177997401230774,0.01725061613832015,0.006630349593761303,0.008886865672994949,0.02974907491710917,0.03161711443997285,-0.006734486474692475,0.0017687488821671587,0.03205181901693134,0.017387072543931938,0.11921843486746743,-0.0062938149592970775,0.018898727534898532,0.03705562944417333,0.03374062327713504,0.08149724419582528,-0.03074274797958024,0.03509368755165895,0.01313564628546233,-0.006378469186125081,-0.04961124617557869,-0.12772318728902374,0.04251283809069096,-0.0041661953768667185,-0.028701065279561472,-0.01957254315692035,0.03998366090579434,0.031984216103858806,0.006744812791821567,0.03643213445735007,0.017272096909531555,-0.04223229344871564,0.006265105659810634,-0.031013582803841335,0.04964715675134432,0.006810578672784683,-0.044440653310942796,-0.009543130353379798,-0.0663521763056877,-0.005889394805839068,0.04148581070093519,0.016230761245708623,-0.06289341727027524,0.013093827482800639,-0.051053775924629424,-0.008208173270999982,0.018072325435531507,-0.051585055672323236,0.006076947341899706,-0.03561605979548491,0.04198665654283043,0.07227140942458773,0.05602002567418564,0.02493491640225287,-0.0050128185500081576,-0.002096907250306926,-0.014699782732613053,-0.012749774874751605,0.1269116289226746,-0.04273287830059682,-0.054953895352910696,-0.021758379841487693,-0.03609004895021842,0.029890740749494566,0.005917481776156395,0.03853754612843837,-0.06987655465675016,0.017346435457551865,-0.018364847454341894,-0.03441330009854252,0.000622510083264904,-0.0539980722931419,-0.014835635717323473,-0.012551567227813773,0.02048773822340817,-0.12277997465910719,0.02059221036289143,0.10145138741776683,-0.005856643341232021,-0.02786380690498853,-0.016162405874435497,0.035474386816493036,-0.017458706575610557,0.016028052271245364,0.010787525285489406,-0.0298952129692807,-0.050505215210130634,0.018159773032297852,0.05191932445845771,0.0010402120327626255,-0.05228610180162916,-0.022350967561475237,-0.04224617718140919,-0.07254830168258311,0.04695367409397792,0.011299945777284081,0.07211363413565586,-0.006986492144572377,0.01779600470296842,-0.04724057511561311,-0.0011922300504741562,-0.04104369101185902,0.024335419149005895,0.04107819387010212,-0.024358017786858904,-0.05259370365966602,-0.03711720154932235,0.04530634609366675,0.046704219074345354,0.03665493442277862,0.03803519751155836,0.017268009913468576,0.0760832835953988,0.005147863044765912,0.014714339594958641,-0.003240181703986614,0.07728050710253655,0.007054913567225325,-0.005087674440050588,-0.01509517416561853,0.006465651918934319,0.05459557817973847,-0.048464637280470575,-0.042589069768463106,0.01093679078037125,-0.030510186068030958,-0.049534931817513166,0.01122853693277581,0.03525937358618668,-0.03723709338922126,0.01939443951963136,0.023480261839117743,-0.05082502163771964,0.03180563608534794,-0.003704429607069112,-0.007019222592886596,-0.1299278575282087,0.005790878918745771,-0.004548029513557434,-0.007721957937068309,0.03628977282780161,0.006963974902024329,0.04659599279666411,-0.08695990905101429,-0.00877557365586079,-0.0951126361970946,0.016293707630266798,-0.08615264955046516,-0.008207980246495447,0.05555683158900242,-0.06055559591829793,0.050132289582274676,-0.07043726926027942,-0.0005496144580126333,-0.06631616117599509,0.016432950581559483,-0.07176955888757142,0.04762508488803113,0.07164265445291097,0.0707688185938516,-0.0018051917677216725,-0.023876273341224673,0.04571303469577831,-0.09672413884722543,0.01591980642197778,0.002542820180630796,0.012397350726358317,-0.008970671737446728,-0.0316877053198606,-0.07366972655880115,0.023606322357198544,0.0533736162801124,-0.08927688581957327,0.017029157609637507,0.08942411634475682,-0.004015858661335937,-0.0043156097521520964,0.04425503260828766,-0.003206786761701394,-0.05133914578061633,-0.018100003611393488,-0.0177355774717728,0.012352524133575146,0.025215114905161356,-0.00573722846648063,0.05380522947187794,0.02511707828484195,-0.06772231414560198,-0.005448427397798375,0.016890005886123306,0.005357484236889209,0.007330299130864308,0.001997430616818738,0.020505045463666282,0.007991447618970264,0.09331246499887616,0.0019732780255828208,-0.014093787954092982,-0.0363152186530825,0.05982904612856656,0.021882347827174065,0.056238328890716484,0.0004262206792024022,0.011072869479979633,0.022402858626649376,0.004014952135593356,-0.0686033118290163,0.007789020718917544,-0.0247155543645267,0.03816806100817755,-0.026599955270312267,0.045690263130780645,0.030493897831355556,-0.008952025876518947,-0.008407578354357605,-0.0037131047703819653,-0.02069451464936621,-0.023027123255798403,0.02230781558771273,0.0021677745650455194,-0.0034616690754643124,-0.02732301898385137,-0.011415491099770154,-0.02531598923616216,-0.007554668468041173,0.005608200169827373,-0.025395567131662106,0.015460425583855752,0.03325755641840769,0.019408586563541073,0.035389242849343666,0.015693156705112052,-0.041209445573060305,0.035245873940170286,0.0037601953268899466,-0.0013177201460770078,0.018680537647816527,-0.001100668054834369,-0.026021592607865372,-0.041438568478665415,-0.04703665354268194,0.0024668028538151034,0.024797737333229056,0.017065662059063912,-0.07053030781738932,-0.011097446407076914,-0.09008354847845335,0.02862918608137619,-0.035210184423729626,-0.011191467132615623,-0.06533110715825653,-0.0004932430962923407,-0.02940186584357689,0.003412211010253521,0.02041257160441261,-0.07845410579918498,0.06770743117966126,0.003822165646732409,0.008366694500343838,-0.06878698522005931,0.03395945997966481,-0.014987724107085643,0.051525211920993325,0.009931639962148882,0.0020011878357876823,0.015123446596271723,-0.004297734947231046,0.0012298580156588981,-0.05801089494975556,0.0015338580999043428,-0.03709208198225607,-0.05137700982212229,-0.029766854567743133,-0.07436539035358274,0.07132888823212645,0.027155202242509627,-0.02594999483044167,0.018009160285334423,-0.03934004993858786,-0.020266034660649707,-0.016402810087859467,-0.07082202204033466,0.012079065403443036,0.07530952893106566,-0.0018575995078746789,0.00032805270562665304,-0.011491515256992131,0.07390252318127676,0.0,0.0008214584254523483,-0.06580520897353867,-0.01451975486845227,-0.03267127201155782,-0.003453386948248274,0.03183338116095202,-0.06477309340338366,-0.04179828130131225,-0.02612261140486262,0.005533102257132837,-0.04833680500131505,-0.0023992055582815475,-0.08396483835074355,-0.0016704490129968075,-0.09302311928148893,-0.017706675474399133,-0.12113825810398889,0.032553261278161744,0.07772640277207259,0.011102159833173808,-0.13058999220665155,0.04997884108534127,-0.02946907696009933,0.02435215499827936,0.057654579278002493,-0.007711027963739906,0.036109204525613114,0.00275546279838757,-0.009432465746951967,0.07163646233055776,-0.020825332244057446,-0.012580752996881307,0.04797727392320426,0.07457364612008015,0.0009734348560736818,0.0037457958683397114,0.1040650092615062,0.10436164069972145,-0.06526572943550507,0.03860663902242871,0.04619721319012782,0.03711744228973266,0.009041655543147504,0.024849222136681733,0.010470780820742525,0.02250783702828191,0.029516907690852447,-0.05161833459581209,-0.011493498714308886,0.07237801403011461,0.023567198213512965,-0.058631243213632354,0.030561678706295534,-0.05394722804913025,0.017528035977254008,0.006006057267467943,-0.02601977738759486,0.05316324215501689,-0.009290230436857878,-0.014395089751065829,-0.060322654091468045,0.03545612908951283,-0.02032754273314496,-0.03198003067013721,-0.03089156736881823,-0.05117763786639216,0.0030026831172517087,0.005978365078895034,0.04909578215581386,-0.015452165385496644,0.020188342220549882,-0.021963216854791676,0.01717250122413543,0.07529223411697607,-0.0330851466718186,0.0055821275337720674,-0.009460894526444498,0.007325624786097459,-0.013753472002494866,0.0244876221590413,0.0071949836717746535,0.060504162532241994,-0.06311918518816903,-0.011307735857578558,-0.03734894534323148,-0.002482632348555218,-0.0029764508462149673,0.012281322445656457,-0.03403263254550459,0.029256539212836878,-0.004853036816821088,0.010966636750077955,-0.014703352511066695,-0.020389861131667686,-0.10254036525166675,0.012741333042302827,-0.015444550452118741,-0.011633104865311444,-0.04402465397224694,0.041032719267455574,0.025394246651119615,-0.015208459761728233,-0.009436987371174365,0.001869644402715088,0.0036667412660127767,0.05350549046047228,0.01012145995502574,-0.015486902413259212,-0.003612788634512576,0.020786425091438347,-0.024114596337054404,-0.009750860107846383,0.0010214088288270423,0.04313493317739194,0.01727768584344739,0.018206255962432197,0.0473245988875953,-0.016549549453013485,-0.015569850375932186,0.008547333224801432,0.04608376548838008,0.040530008769500823,0.013676132280176065,0.017450979367424225,0.030608082827557156,0.016868648629117366,0.0168599499197107,0.01462307267215497,0.04480209933086133,0.03981660778824774,0.021974491562613167,0.03492701634188564,-0.007449046704933148,-0.0034719442089692484,0.01796971375181672,0.05201270640767318,-0.05616662426467672,0.019654473293680905,-0.03073851253541729,-0.06251408245574486,0.03729619858071868,0.023813875097039847,0.004905252914132209,0.016446493545468958,0.06668035183063045,0.009461225032650612,-0.02125228365266279,-0.007659314226953743,-0.01771977662648564,0.0006674942605875906,0.008121354742896705,0.021496049775542363,0.012444771516691934,0.03148434056863512,0.010141906463636843,-0.00711596075110357,-0.1024426640636013,-0.011015199637560409,0.03417588510139735,-0.014148526638195701,-0.003511861575139069,-0.03322998965193553,0.040485570289088474],\"y0\":\" \",\"yaxis\":\"y\",\"type\":\"box\"}],                        {\"template\":{\"data\":{\"histogram2dcontour\":[{\"type\":\"histogram2dcontour\",\"colorbar\":{\"outlinewidth\":0,\"ticks\":\"\"},\"colorscale\":[[0.0,\"#0d0887\"],[0.1111111111111111,\"#46039f\"],[0.2222222222222222,\"#7201a8\"],[0.3333333333333333,\"#9c179e\"],[0.4444444444444444,\"#bd3786\"],[0.5555555555555556,\"#d8576b\"],[0.6666666666666666,\"#ed7953\"],[0.7777777777777778,\"#fb9f3a\"],[0.8888888888888888,\"#fdca26\"],[1.0,\"#f0f921\"]]}],\"choropleth\":[{\"type\":\"choropleth\",\"colorbar\":{\"outlinewidth\":0,\"ticks\":\"\"}}],\"histogram2d\":[{\"type\":\"histogram2d\",\"colorbar\":{\"outlinewidth\":0,\"ticks\":\"\"},\"colorscale\":[[0.0,\"#0d0887\"],[0.1111111111111111,\"#46039f\"],[0.2222222222222222,\"#7201a8\"],[0.3333333333333333,\"#9c179e\"],[0.4444444444444444,\"#bd3786\"],[0.5555555555555556,\"#d8576b\"],[0.6666666666666666,\"#ed7953\"],[0.7777777777777778,\"#fb9f3a\"],[0.8888888888888888,\"#fdca26\"],[1.0,\"#f0f921\"]]}],\"heatmap\":[{\"type\":\"heatmap\",\"colorbar\":{\"outlinewidth\":0,\"ticks\":\"\"},\"colorscale\":[[0.0,\"#0d0887\"],[0.1111111111111111,\"#46039f\"],[0.2222222222222222,\"#7201a8\"],[0.3333333333333333,\"#9c179e\"],[0.4444444444444444,\"#bd3786\"],[0.5555555555555556,\"#d8576b\"],[0.6666666666666666,\"#ed7953\"],[0.7777777777777778,\"#fb9f3a\"],[0.8888888888888888,\"#fdca26\"],[1.0,\"#f0f921\"]]}],\"heatmapgl\":[{\"type\":\"heatmapgl\",\"colorbar\":{\"outlinewidth\":0,\"ticks\":\"\"},\"colorscale\":[[0.0,\"#0d0887\"],[0.1111111111111111,\"#46039f\"],[0.2222222222222222,\"#7201a8\"],[0.3333333333333333,\"#9c179e\"],[0.4444444444444444,\"#bd3786\"],[0.5555555555555556,\"#d8576b\"],[0.6666666666666666,\"#ed7953\"],[0.7777777777777778,\"#fb9f3a\"],[0.8888888888888888,\"#fdca26\"],[1.0,\"#f0f921\"]]}],\"contourcarpet\":[{\"type\":\"contourcarpet\",\"colorbar\":{\"outlinewidth\":0,\"ticks\":\"\"}}],\"contour\":[{\"type\":\"contour\",\"colorbar\":{\"outlinewidth\":0,\"ticks\":\"\"},\"colorscale\":[[0.0,\"#0d0887\"],[0.1111111111111111,\"#46039f\"],[0.2222222222222222,\"#7201a8\"],[0.3333333333333333,\"#9c179e\"],[0.4444444444444444,\"#bd3786\"],[0.5555555555555556,\"#d8576b\"],[0.6666666666666666,\"#ed7953\"],[0.7777777777777778,\"#fb9f3a\"],[0.8888888888888888,\"#fdca26\"],[1.0,\"#f0f921\"]]}],\"surface\":[{\"type\":\"surface\",\"colorbar\":{\"outlinewidth\":0,\"ticks\":\"\"},\"colorscale\":[[0.0,\"#0d0887\"],[0.1111111111111111,\"#46039f\"],[0.2222222222222222,\"#7201a8\"],[0.3333333333333333,\"#9c179e\"],[0.4444444444444444,\"#bd3786\"],[0.5555555555555556,\"#d8576b\"],[0.6666666666666666,\"#ed7953\"],[0.7777777777777778,\"#fb9f3a\"],[0.8888888888888888,\"#fdca26\"],[1.0,\"#f0f921\"]]}],\"mesh3d\":[{\"type\":\"mesh3d\",\"colorbar\":{\"outlinewidth\":0,\"ticks\":\"\"}}],\"scatter\":[{\"fillpattern\":{\"fillmode\":\"overlay\",\"size\":10,\"solidity\":0.2},\"type\":\"scatter\"}],\"parcoords\":[{\"type\":\"parcoords\",\"line\":{\"colorbar\":{\"outlinewidth\":0,\"ticks\":\"\"}}}],\"scatterpolargl\":[{\"type\":\"scatterpolargl\",\"marker\":{\"colorbar\":{\"outlinewidth\":0,\"ticks\":\"\"}}}],\"bar\":[{\"error_x\":{\"color\":\"#2a3f5f\"},\"error_y\":{\"color\":\"#2a3f5f\"},\"marker\":{\"line\":{\"color\":\"#E5ECF6\",\"width\":0.5},\"pattern\":{\"fillmode\":\"overlay\",\"size\":10,\"solidity\":0.2}},\"type\":\"bar\"}],\"scattergeo\":[{\"type\":\"scattergeo\",\"marker\":{\"colorbar\":{\"outlinewidth\":0,\"ticks\":\"\"}}}],\"scatterpolar\":[{\"type\":\"scatterpolar\",\"marker\":{\"colorbar\":{\"outlinewidth\":0,\"ticks\":\"\"}}}],\"histogram\":[{\"marker\":{\"pattern\":{\"fillmode\":\"overlay\",\"size\":10,\"solidity\":0.2}},\"type\":\"histogram\"}],\"scattergl\":[{\"type\":\"scattergl\",\"marker\":{\"colorbar\":{\"outlinewidth\":0,\"ticks\":\"\"}}}],\"scatter3d\":[{\"type\":\"scatter3d\",\"line\":{\"colorbar\":{\"outlinewidth\":0,\"ticks\":\"\"}},\"marker\":{\"colorbar\":{\"outlinewidth\":0,\"ticks\":\"\"}}}],\"scattermapbox\":[{\"type\":\"scattermapbox\",\"marker\":{\"colorbar\":{\"outlinewidth\":0,\"ticks\":\"\"}}}],\"scatterternary\":[{\"type\":\"scatterternary\",\"marker\":{\"colorbar\":{\"outlinewidth\":0,\"ticks\":\"\"}}}],\"scattercarpet\":[{\"type\":\"scattercarpet\",\"marker\":{\"colorbar\":{\"outlinewidth\":0,\"ticks\":\"\"}}}],\"carpet\":[{\"aaxis\":{\"endlinecolor\":\"#2a3f5f\",\"gridcolor\":\"white\",\"linecolor\":\"white\",\"minorgridcolor\":\"white\",\"startlinecolor\":\"#2a3f5f\"},\"baxis\":{\"endlinecolor\":\"#2a3f5f\",\"gridcolor\":\"white\",\"linecolor\":\"white\",\"minorgridcolor\":\"white\",\"startlinecolor\":\"#2a3f5f\"},\"type\":\"carpet\"}],\"table\":[{\"cells\":{\"fill\":{\"color\":\"#EBF0F8\"},\"line\":{\"color\":\"white\"}},\"header\":{\"fill\":{\"color\":\"#C8D4E3\"},\"line\":{\"color\":\"white\"}},\"type\":\"table\"}],\"barpolar\":[{\"marker\":{\"line\":{\"color\":\"#E5ECF6\",\"width\":0.5},\"pattern\":{\"fillmode\":\"overlay\",\"size\":10,\"solidity\":0.2}},\"type\":\"barpolar\"}],\"pie\":[{\"automargin\":true,\"type\":\"pie\"}]},\"layout\":{\"autotypenumbers\":\"strict\",\"colorway\":[\"#636efa\",\"#EF553B\",\"#00cc96\",\"#ab63fa\",\"#FFA15A\",\"#19d3f3\",\"#FF6692\",\"#B6E880\",\"#FF97FF\",\"#FECB52\"],\"font\":{\"color\":\"#2a3f5f\"},\"hovermode\":\"closest\",\"hoverlabel\":{\"align\":\"left\"},\"paper_bgcolor\":\"white\",\"plot_bgcolor\":\"#E5ECF6\",\"polar\":{\"bgcolor\":\"#E5ECF6\",\"angularaxis\":{\"gridcolor\":\"white\",\"linecolor\":\"white\",\"ticks\":\"\"},\"radialaxis\":{\"gridcolor\":\"white\",\"linecolor\":\"white\",\"ticks\":\"\"}},\"ternary\":{\"bgcolor\":\"#E5ECF6\",\"aaxis\":{\"gridcolor\":\"white\",\"linecolor\":\"white\",\"ticks\":\"\"},\"baxis\":{\"gridcolor\":\"white\",\"linecolor\":\"white\",\"ticks\":\"\"},\"caxis\":{\"gridcolor\":\"white\",\"linecolor\":\"white\",\"ticks\":\"\"}},\"coloraxis\":{\"colorbar\":{\"outlinewidth\":0,\"ticks\":\"\"}},\"colorscale\":{\"sequential\":[[0.0,\"#0d0887\"],[0.1111111111111111,\"#46039f\"],[0.2222222222222222,\"#7201a8\"],[0.3333333333333333,\"#9c179e\"],[0.4444444444444444,\"#bd3786\"],[0.5555555555555556,\"#d8576b\"],[0.6666666666666666,\"#ed7953\"],[0.7777777777777778,\"#fb9f3a\"],[0.8888888888888888,\"#fdca26\"],[1.0,\"#f0f921\"]],\"sequentialminus\":[[0.0,\"#0d0887\"],[0.1111111111111111,\"#46039f\"],[0.2222222222222222,\"#7201a8\"],[0.3333333333333333,\"#9c179e\"],[0.4444444444444444,\"#bd3786\"],[0.5555555555555556,\"#d8576b\"],[0.6666666666666666,\"#ed7953\"],[0.7777777777777778,\"#fb9f3a\"],[0.8888888888888888,\"#fdca26\"],[1.0,\"#f0f921\"]],\"diverging\":[[0,\"#8e0152\"],[0.1,\"#c51b7d\"],[0.2,\"#de77ae\"],[0.3,\"#f1b6da\"],[0.4,\"#fde0ef\"],[0.5,\"#f7f7f7\"],[0.6,\"#e6f5d0\"],[0.7,\"#b8e186\"],[0.8,\"#7fbc41\"],[0.9,\"#4d9221\"],[1,\"#276419\"]]},\"xaxis\":{\"gridcolor\":\"white\",\"linecolor\":\"white\",\"ticks\":\"\",\"title\":{\"standoff\":15},\"zerolinecolor\":\"white\",\"automargin\":true,\"zerolinewidth\":2},\"yaxis\":{\"gridcolor\":\"white\",\"linecolor\":\"white\",\"ticks\":\"\",\"title\":{\"standoff\":15},\"zerolinecolor\":\"white\",\"automargin\":true,\"zerolinewidth\":2},\"scene\":{\"xaxis\":{\"backgroundcolor\":\"#E5ECF6\",\"gridcolor\":\"white\",\"linecolor\":\"white\",\"showbackground\":true,\"ticks\":\"\",\"zerolinecolor\":\"white\",\"gridwidth\":2},\"yaxis\":{\"backgroundcolor\":\"#E5ECF6\",\"gridcolor\":\"white\",\"linecolor\":\"white\",\"showbackground\":true,\"ticks\":\"\",\"zerolinecolor\":\"white\",\"gridwidth\":2},\"zaxis\":{\"backgroundcolor\":\"#E5ECF6\",\"gridcolor\":\"white\",\"linecolor\":\"white\",\"showbackground\":true,\"ticks\":\"\",\"zerolinecolor\":\"white\",\"gridwidth\":2}},\"shapedefaults\":{\"line\":{\"color\":\"#2a3f5f\"}},\"annotationdefaults\":{\"arrowcolor\":\"#2a3f5f\",\"arrowhead\":0,\"arrowwidth\":1},\"geo\":{\"bgcolor\":\"white\",\"landcolor\":\"#E5ECF6\",\"subunitcolor\":\"white\",\"showland\":true,\"showlakes\":true,\"lakecolor\":\"white\"},\"title\":{\"x\":0.05},\"mapbox\":{\"style\":\"light\"}}},\"xaxis\":{\"anchor\":\"y\",\"domain\":[0.0,1.0],\"title\":{\"text\":\"variable\"}},\"yaxis\":{\"anchor\":\"x\",\"domain\":[0.0,1.0],\"title\":{\"text\":\"value\"}},\"legend\":{\"tracegroupgap\":0},\"margin\":{\"t\":60},\"boxmode\":\"group\"},                        {\"responsive\": true}                    ).then(function(){\n",
       "                            \n",
       "var gd = document.getElementById('1cbbaa43-f32c-48ca-b157-957649848554');\n",
       "var x = new MutationObserver(function (mutations, observer) {{\n",
       "        var display = window.getComputedStyle(gd).display;\n",
       "        if (!display || display === 'none') {{\n",
       "            console.log([gd, 'removed!']);\n",
       "            Plotly.purge(gd);\n",
       "            observer.disconnect();\n",
       "        }}\n",
       "}});\n",
       "\n",
       "// Listen for the removal of the full notebook cells\n",
       "var notebookContainer = gd.closest('#notebook-container');\n",
       "if (notebookContainer) {{\n",
       "    x.observe(notebookContainer, {childList: true});\n",
       "}}\n",
       "\n",
       "// Listen for the clearing of the current output cell\n",
       "var outputEl = gd.closest('.output');\n",
       "if (outputEl) {{\n",
       "    x.observe(outputEl, {childList: true});\n",
       "}}\n",
       "\n",
       "                        })                };                });            </script>        </div>"
      ]
     },
     "metadata": {},
     "output_type": "display_data"
    }
   ],
   "source": [
    "# For Gaussian/Normal\n",
    "\n",
    "log_returns.plot(kind='box')"
   ]
  },
  {
   "cell_type": "markdown",
   "id": "3288a492",
   "metadata": {},
   "source": [
    "We can see lots of outliers on the upper and lower lines"
   ]
  },
  {
   "cell_type": "markdown",
   "id": "62be6287",
   "metadata": {},
   "source": [
    "## Kolmogorov Smirnov test\n",
    "\n",
    "The Kolmogorov Smirnov test computes the distances between the empirical distribution and the theoretical distribution and defines the test statistic as the supremum of the set of those distances.\n",
    "\n",
    "The Test Statistic of the KS Test is the Kolmogorov Smirnov Statistic, which follows a Kolmogorov distribution if the null hypothesis is true. If the observed data perfectly follow a normal distribution, the value of the KS statistic will be 0. The P-Value is used to decide whether the difference is large enough to reject the null hypothesis:\n",
    "\n",
    "The advantage of this is that the same approach can be used for comparing any distribution, not necessary the normal distribution only."
   ]
  },
  {
   "cell_type": "code",
   "execution_count": 55,
   "id": "73611d85",
   "metadata": {},
   "outputs": [
    {
     "name": "stdout",
     "output_type": "stream",
     "text": [
      "0.06076663356810319 0.002521012273035825\n",
      "Probably not Gaussian\n"
     ]
    }
   ],
   "source": [
    "ks_statistic, p_value = stats.kstest(log_returns, 'norm', args = (log_returns.mean(), log_returns.std()))\n",
    "print(ks_statistic, p_value)\n",
    "if p_value > 0.05:\n",
    "    print('Probably Gaussian')\n",
    "else:\n",
    "    print('Probably not Gaussian')"
   ]
  },
  {
   "cell_type": "code",
   "execution_count": 58,
   "id": "b0e3105e",
   "metadata": {},
   "outputs": [
    {
     "name": "stdout",
     "output_type": "stream",
     "text": [
      "0.5 0.503883327153628\n",
      "Probably Students t-dist\n"
     ]
    }
   ],
   "source": [
    "# Now trying the student's t-dist with 5 dof.\n",
    "\n",
    "from scipy.stats import t\n",
    "\n",
    "t = t.stats(5)\n",
    "\n",
    "\n",
    "ks_statistic, p_value = stats.kstest(log_returns, t, args = (log_returns.mean(), log_returns.std()))\n",
    "print(ks_statistic, p_value)\n",
    "if p_value > 0.05:\n",
    "    print('Probably Students t-dist')\n",
    "else:\n",
    "    print('Probably not Students t-dist')"
   ]
  },
  {
   "cell_type": "markdown",
   "id": "00494c91",
   "metadata": {},
   "source": [
    "Visually it looked like it fit better, and it does! just..."
   ]
  },
  {
   "cell_type": "code",
   "execution_count": null,
   "id": "186477b6",
   "metadata": {},
   "outputs": [],
   "source": []
  }
 ],
 "metadata": {
  "kernelspec": {
   "display_name": "Python 3 (ipykernel)",
   "language": "python",
   "name": "python3"
  },
  "language_info": {
   "codemirror_mode": {
    "name": "ipython",
    "version": 3
   },
   "file_extension": ".py",
   "mimetype": "text/x-python",
   "name": "python",
   "nbconvert_exporter": "python",
   "pygments_lexer": "ipython3",
   "version": "3.9.13"
  }
 },
 "nbformat": 4,
 "nbformat_minor": 5
}
